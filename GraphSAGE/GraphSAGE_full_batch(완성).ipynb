{
  "nbformat": 4,
  "nbformat_minor": 0,
  "metadata": {
    "colab": {
      "provenance": [],
      "machine_shape": "hm"
    },
    "kernelspec": {
      "name": "python3",
      "display_name": "Python 3"
    },
    "language_info": {
      "name": "python"
    },
    "gpuClass": "standard",
    "accelerator": "GPU"
  },
  "cells": [
    {
      "cell_type": "code",
      "source": [
        "pip install --pre dgl-cu116 -f https://data.dgl.ai/wheels-test/repo.html"
      ],
      "metadata": {
        "colab": {
          "base_uri": "https://localhost:8080/",
          "height": 525
        },
        "id": "m7KubvmjWHVU",
        "outputId": "aebada92-2e9f-411f-c727-377ab969d957"
      },
      "execution_count": 1,
      "outputs": [
        {
          "output_type": "stream",
          "name": "stdout",
          "text": [
            "Looking in indexes: https://pypi.org/simple, https://us-python.pkg.dev/colab-wheels/public/simple/\n",
            "Looking in links: https://data.dgl.ai/wheels-test/repo.html\n",
            "Collecting dgl-cu116\n",
            "  Downloading https://data.dgl.ai/wheels-test/dgl_cu116-1.0a230116-cp38-cp38-manylinux1_x86_64.whl (265.6 MB)\n",
            "\u001b[2K     \u001b[90m━━━━━━━━━━━━━━━━━━━━━━━━━━━━━━━━━━━━━━━\u001b[0m \u001b[32m265.6/265.6 MB\u001b[0m \u001b[31m4.2 MB/s\u001b[0m eta \u001b[36m0:00:00\u001b[0m\n",
            "\u001b[?25hCollecting psutil>=5.8.0\n",
            "  Downloading psutil-5.9.4-cp36-abi3-manylinux_2_12_x86_64.manylinux2010_x86_64.manylinux_2_17_x86_64.manylinux2014_x86_64.whl (280 kB)\n",
            "\u001b[2K     \u001b[90m━━━━━━━━━━━━━━━━━━━━━━━━━━━━━━━━━━━━━━━\u001b[0m \u001b[32m280.2/280.2 KB\u001b[0m \u001b[31m7.0 MB/s\u001b[0m eta \u001b[36m0:00:00\u001b[0m\n",
            "\u001b[?25hRequirement already satisfied: networkx>=2.1 in /usr/local/lib/python3.8/dist-packages (from dgl-cu116) (3.0)\n",
            "Requirement already satisfied: numpy>=1.14.0 in /usr/local/lib/python3.8/dist-packages (from dgl-cu116) (1.21.6)\n",
            "Requirement already satisfied: tqdm in /usr/local/lib/python3.8/dist-packages (from dgl-cu116) (4.64.1)\n",
            "Requirement already satisfied: requests>=2.19.0 in /usr/local/lib/python3.8/dist-packages (from dgl-cu116) (2.25.1)\n",
            "Requirement already satisfied: scipy>=1.1.0 in /usr/local/lib/python3.8/dist-packages (from dgl-cu116) (1.7.3)\n",
            "Requirement already satisfied: certifi>=2017.4.17 in /usr/local/lib/python3.8/dist-packages (from requests>=2.19.0->dgl-cu116) (2022.12.7)\n",
            "Requirement already satisfied: urllib3<1.27,>=1.21.1 in /usr/local/lib/python3.8/dist-packages (from requests>=2.19.0->dgl-cu116) (1.24.3)\n",
            "Requirement already satisfied: chardet<5,>=3.0.2 in /usr/local/lib/python3.8/dist-packages (from requests>=2.19.0->dgl-cu116) (4.0.0)\n",
            "Requirement already satisfied: idna<3,>=2.5 in /usr/local/lib/python3.8/dist-packages (from requests>=2.19.0->dgl-cu116) (2.10)\n",
            "Installing collected packages: psutil, dgl-cu116\n",
            "  Attempting uninstall: psutil\n",
            "    Found existing installation: psutil 5.4.8\n",
            "    Uninstalling psutil-5.4.8:\n",
            "      Successfully uninstalled psutil-5.4.8\n",
            "Successfully installed dgl-cu116-1.0a230116 psutil-5.9.4\n"
          ]
        },
        {
          "output_type": "display_data",
          "data": {
            "application/vnd.colab-display-data+json": {
              "pip_warning": {
                "packages": [
                  "psutil"
                ]
              }
            }
          },
          "metadata": {}
        }
      ]
    },
    {
      "cell_type": "code",
      "execution_count": 2,
      "metadata": {
        "id": "Q6RRsisKMUtk",
        "colab": {
          "base_uri": "https://localhost:8080/"
        },
        "outputId": "7ab68552-1040-4699-b901-2285ff148fd1"
      },
      "outputs": [
        {
          "output_type": "stream",
          "name": "stderr",
          "text": [
            "DGL backend not selected or invalid.  Assuming PyTorch for now.\n"
          ]
        },
        {
          "output_type": "stream",
          "name": "stdout",
          "text": [
            "Setting the default backend to \"pytorch\". You can change it in the ~/.dgl/config.json file or export the DGLBACKEND environment variable.  Valid options are: pytorch, mxnet, tensorflow (all lowercase)\n"
          ]
        }
      ],
      "source": [
        "import torch\n",
        "import dgl\n",
        "from dgl.data import CoraGraphDataset #Data 1\n",
        "from dgl.data import RedditDataset #Data 2\n",
        "#from dgl.data import PPIDataset #Data 3 (Not working)\n",
        "\n",
        "from dgl.nn import SAGEConv\n",
        "\n",
        "import matplotlib.pyplot as plt\n",
        "import numpy as np\n",
        "\n",
        "import networkx as nx\n",
        "from torch.nn.parameter import Parameter\n",
        "from torch.nn.modules.module import Module\n",
        "\n",
        "import scipy\n",
        "import scipy.sparse as sp\n",
        "import torch.nn as nn\n",
        "import torch.nn.functional as F"
      ]
    },
    {
      "cell_type": "code",
      "source": [
        "scipy.__version__"
      ],
      "metadata": {
        "colab": {
          "base_uri": "https://localhost:8080/",
          "height": 35
        },
        "id": "b68QCx-mmHKS",
        "outputId": "7a18ced3-0c99-428c-b26e-6ed300ff28eb"
      },
      "execution_count": 3,
      "outputs": [
        {
          "output_type": "execute_result",
          "data": {
            "text/plain": [
              "'1.7.3'"
            ],
            "application/vnd.google.colaboratory.intrinsic+json": {
              "type": "string"
            }
          },
          "metadata": {},
          "execution_count": 3
        }
      ]
    },
    {
      "cell_type": "code",
      "source": [
        "dgl.__version__"
      ],
      "metadata": {
        "id": "Z-qRRd3Ce0Y-",
        "outputId": "8417febe-e45c-4521-fa34-27054a9f0ad2",
        "colab": {
          "base_uri": "https://localhost:8080/",
          "height": 35
        }
      },
      "execution_count": 4,
      "outputs": [
        {
          "output_type": "execute_result",
          "data": {
            "text/plain": [
              "'1.0a230116'"
            ],
            "application/vnd.google.colaboratory.intrinsic+json": {
              "type": "string"
            }
          },
          "metadata": {},
          "execution_count": 4
        }
      ]
    },
    {
      "cell_type": "code",
      "source": [
        "torch.__version__"
      ],
      "metadata": {
        "colab": {
          "base_uri": "https://localhost:8080/",
          "height": 35
        },
        "id": "pZGa9TMFDqJ5",
        "outputId": "6060f7b4-90a9-48ab-d0e8-eff8214637fb"
      },
      "execution_count": 5,
      "outputs": [
        {
          "output_type": "execute_result",
          "data": {
            "text/plain": [
              "'1.13.1+cu116'"
            ],
            "application/vnd.google.colaboratory.intrinsic+json": {
              "type": "string"
            }
          },
          "metadata": {},
          "execution_count": 5
        }
      ]
    },
    {
      "cell_type": "code",
      "source": [
        "dataset1 = CoraGraphDataset(verbose=True)"
      ],
      "metadata": {
        "id": "adcXpAHYO9G1",
        "colab": {
          "base_uri": "https://localhost:8080/"
        },
        "outputId": "b47f7654-4ea4-4531-ea09-806d814ce66a"
      },
      "execution_count": 6,
      "outputs": [
        {
          "output_type": "stream",
          "name": "stdout",
          "text": [
            "Downloading /root/.dgl/cora_v2.zip from https://data.dgl.ai/dataset/cora_v2.zip...\n",
            "Extracting file to /root/.dgl/cora_v2\n",
            "Finished data loading and preprocessing.\n",
            "  NumNodes: 2708\n",
            "  NumEdges: 10556\n",
            "  NumFeats: 1433\n",
            "  NumClasses: 7\n",
            "  NumTrainingSamples: 140\n",
            "  NumValidationSamples: 500\n",
            "  NumTestSamples: 1000\n",
            "Done saving data into cached files.\n"
          ]
        }
      ]
    },
    {
      "cell_type": "code",
      "source": [
        "dataset2 = RedditDataset(self_loop=False, verbose=True)"
      ],
      "metadata": {
        "colab": {
          "base_uri": "https://localhost:8080/"
        },
        "id": "HByG2jagVH1A",
        "outputId": "ad5fc172-4c3f-42fe-c353-6f61232682d1"
      },
      "execution_count": 7,
      "outputs": [
        {
          "output_type": "stream",
          "name": "stdout",
          "text": [
            "Downloading /root/.dgl/reddit.zip from https://data.dgl.ai/dataset/reddit.zip...\n",
            "Extracting file to /root/.dgl/reddit\n",
            "Finished data loading.\n",
            "  NumNodes: 232965\n",
            "  NumEdges: 114615892\n",
            "  NumFeats: 602\n",
            "  NumClasses: 41\n",
            "  NumTrainingSamples: 153431\n",
            "  NumValidationSamples: 23831\n",
            "  NumTestSamples: 55703\n",
            "Done saving data into cached files.\n"
          ]
        }
      ]
    },
    {
      "cell_type": "code",
      "source": [
        "torch.cuda.is_available()"
      ],
      "metadata": {
        "colab": {
          "base_uri": "https://localhost:8080/"
        },
        "id": "lQ2E5nHaVrQS",
        "outputId": "f81b700d-101b-47df-e688-69a6f74ac56e"
      },
      "execution_count": 8,
      "outputs": [
        {
          "output_type": "execute_result",
          "data": {
            "text/plain": [
              "True"
            ]
          },
          "metadata": {},
          "execution_count": 8
        }
      ]
    },
    {
      "cell_type": "code",
      "source": [
        "device = torch.device(\"cuda\" if torch.cuda.is_available() else \"cpu\")"
      ],
      "metadata": {
        "id": "L-yqb0YYqKqX"
      },
      "execution_count": 75,
      "outputs": []
    },
    {
      "cell_type": "code",
      "source": [
        "class SAGE(nn.Module):\n",
        "    def __init__(self, in_size, hid_size, out_size):\n",
        "        super().__init__()\n",
        "        self.layers = nn.ModuleList()\n",
        "        # two-layer GraphSAGE-mean\n",
        "        self.layers.append(SAGEConv(in_size, hid_size, \"gcn\"))\n",
        "        self.layers.append(SAGEConv(hid_size, out_size, \"gcn\"))\n",
        "        self.dropout = nn.Dropout(0.5)\n",
        "\n",
        "    def forward(self, graph, x):\n",
        "        h = self.dropout(x)\n",
        "        for l, layer in enumerate(self.layers):\n",
        "            h = layer(graph, h)\n",
        "            if l != len(self.layers) - 1:\n",
        "                h = F.relu(h)\n",
        "                h = self.dropout(h)\n",
        "        return h\n",
        "\n",
        "# f1-micro\n",
        "def evaluate(g, features, labels, mask, model):\n",
        "    model.eval()\n",
        "    with torch.no_grad():\n",
        "        logits = model(g, features)\n",
        "        logits = logits[mask]\n",
        "        labels = labels[mask]\n",
        "        _, indices = torch.max(logits, dim=1)\n",
        "        correct = torch.sum(indices == labels)\n",
        "        incorrect = torch.sum(indices != labels)\n",
        "        \n",
        "        return correct.item() / (correct.item() + 0.5 * incorrect.item())\n",
        "\n",
        "\n",
        "def train(g, features, labels, masks, model):\n",
        "    # define train/val samples, loss function and optimizer\n",
        "    train_mask, val_mask = masks\n",
        "    loss_fcn = nn.CrossEntropyLoss()\n",
        "    optimizer = torch.optim.Adam(model.parameters(), lr=1e-2, weight_decay=5e-4)\n",
        "\n",
        "    accuracy_list = []\n",
        "    loss_list = []\n",
        "    # training loop\n",
        "    for epoch in range(200):\n",
        "        model.train()\n",
        "        logits = model(g, features)\n",
        "        loss = loss_fcn(logits[train_mask], labels[train_mask])\n",
        "        optimizer.zero_grad()\n",
        "        loss.backward()\n",
        "        optimizer.step()\n",
        "        acc = evaluate(g, features, labels, val_mask, model)\n",
        "\n",
        "        accuracy_list.append(acc)\n",
        "        loss_list.append(loss.item())\n",
        "        print(\n",
        "            \"Epoch {:05d} | Loss {:.4f} | Accuracy {:.4f} \".format(\n",
        "                epoch, loss.item(), acc\n",
        "            )\n",
        "        )\n",
        "    return accuracy_list, loss_list"
      ],
      "metadata": {
        "id": "ku4SeCzCfRIZ"
      },
      "execution_count": 77,
      "outputs": []
    },
    {
      "cell_type": "code",
      "source": [
        "g = dataset1[0]\n",
        "g = g.int().to(device)\n",
        "features = g.ndata[\"feat\"]\n",
        "labels = g.ndata[\"label\"]\n",
        "train_val_masks = g.ndata[\"train_mask\"], g.ndata[\"val_mask\"]\n",
        "\n",
        "# create GraphSAGE model\n",
        "in_size = features.shape[1]\n",
        "out_size = dataset1.num_classes\n",
        "model = SAGE(in_size, 16, out_size).to(device)\n",
        "\n",
        "# model training\n",
        "print(\"Training...\")\n",
        "accuracy_list, loss_list = train(g, features, labels, train_val_masks, model)"
      ],
      "metadata": {
        "id": "XobDHnWugkPR",
        "outputId": "2f84fa9e-db82-4847-8f6f-a2ad0858ea6d",
        "colab": {
          "base_uri": "https://localhost:8080/"
        }
      },
      "execution_count": 78,
      "outputs": [
        {
          "output_type": "stream",
          "name": "stdout",
          "text": [
            "Training...\n",
            "Epoch 00000 | Loss 1.9465 | Accuracy 0.2729 \n",
            "Epoch 00001 | Loss 1.9396 | Accuracy 0.2964 \n",
            "Epoch 00002 | Loss 1.9312 | Accuracy 0.4663 \n",
            "Epoch 00003 | Loss 1.9250 | Accuracy 0.7374 \n",
            "Epoch 00004 | Loss 1.9146 | Accuracy 0.7080 \n",
            "Epoch 00005 | Loss 1.8986 | Accuracy 0.6842 \n",
            "Epoch 00006 | Loss 1.8899 | Accuracy 0.7163 \n",
            "Epoch 00007 | Loss 1.8715 | Accuracy 0.7437 \n",
            "Epoch 00008 | Loss 1.8561 | Accuracy 0.7578 \n",
            "Epoch 00009 | Loss 1.8587 | Accuracy 0.7952 \n",
            "Epoch 00010 | Loss 1.8412 | Accuracy 0.8426 \n",
            "Epoch 00011 | Loss 1.8242 | Accuracy 0.8662 \n",
            "Epoch 00012 | Loss 1.8013 | Accuracy 0.8701 \n",
            "Epoch 00013 | Loss 1.7959 | Accuracy 0.8688 \n",
            "Epoch 00014 | Loss 1.7817 | Accuracy 0.8623 \n",
            "Epoch 00015 | Loss 1.7578 | Accuracy 0.8636 \n",
            "Epoch 00016 | Loss 1.7361 | Accuracy 0.8764 \n",
            "Epoch 00017 | Loss 1.7234 | Accuracy 0.8864 \n",
            "Epoch 00018 | Loss 1.7137 | Accuracy 0.8814 \n",
            "Epoch 00019 | Loss 1.6852 | Accuracy 0.8802 \n",
            "Epoch 00020 | Loss 1.6729 | Accuracy 0.8827 \n",
            "Epoch 00021 | Loss 1.6481 | Accuracy 0.8777 \n",
            "Epoch 00022 | Loss 1.6260 | Accuracy 0.8777 \n",
            "Epoch 00023 | Loss 1.6071 | Accuracy 0.8777 \n",
            "Epoch 00024 | Loss 1.6106 | Accuracy 0.8739 \n",
            "Epoch 00025 | Loss 1.5780 | Accuracy 0.8751 \n",
            "Epoch 00026 | Loss 1.5657 | Accuracy 0.8739 \n",
            "Epoch 00027 | Loss 1.5271 | Accuracy 0.8726 \n",
            "Epoch 00028 | Loss 1.5323 | Accuracy 0.8789 \n",
            "Epoch 00029 | Loss 1.4763 | Accuracy 0.8789 \n",
            "Epoch 00030 | Loss 1.4957 | Accuracy 0.8789 \n",
            "Epoch 00031 | Loss 1.4717 | Accuracy 0.8751 \n",
            "Epoch 00032 | Loss 1.4641 | Accuracy 0.8802 \n",
            "Epoch 00033 | Loss 1.4280 | Accuracy 0.8852 \n",
            "Epoch 00034 | Loss 1.3798 | Accuracy 0.8814 \n",
            "Epoch 00035 | Loss 1.3625 | Accuracy 0.8839 \n",
            "Epoch 00036 | Loss 1.3584 | Accuracy 0.8864 \n",
            "Epoch 00037 | Loss 1.3241 | Accuracy 0.8889 \n",
            "Epoch 00038 | Loss 1.3340 | Accuracy 0.8889 \n",
            "Epoch 00039 | Loss 1.3094 | Accuracy 0.8889 \n",
            "Epoch 00040 | Loss 1.2848 | Accuracy 0.8889 \n",
            "Epoch 00041 | Loss 1.2506 | Accuracy 0.8877 \n",
            "Epoch 00042 | Loss 1.2704 | Accuracy 0.8877 \n",
            "Epoch 00043 | Loss 1.2226 | Accuracy 0.8889 \n",
            "Epoch 00044 | Loss 1.1815 | Accuracy 0.8877 \n",
            "Epoch 00045 | Loss 1.1755 | Accuracy 0.8877 \n",
            "Epoch 00046 | Loss 1.1978 | Accuracy 0.8877 \n",
            "Epoch 00047 | Loss 1.1521 | Accuracy 0.8889 \n",
            "Epoch 00048 | Loss 1.1272 | Accuracy 0.8901 \n",
            "Epoch 00049 | Loss 1.1373 | Accuracy 0.8914 \n",
            "Epoch 00050 | Loss 1.0516 | Accuracy 0.8914 \n",
            "Epoch 00051 | Loss 1.0920 | Accuracy 0.8914 \n",
            "Epoch 00052 | Loss 1.0293 | Accuracy 0.8901 \n",
            "Epoch 00053 | Loss 1.0539 | Accuracy 0.8901 \n",
            "Epoch 00054 | Loss 1.0260 | Accuracy 0.8889 \n",
            "Epoch 00055 | Loss 1.0049 | Accuracy 0.8852 \n",
            "Epoch 00056 | Loss 1.0110 | Accuracy 0.8839 \n",
            "Epoch 00057 | Loss 0.9511 | Accuracy 0.8852 \n",
            "Epoch 00058 | Loss 0.9666 | Accuracy 0.8852 \n",
            "Epoch 00059 | Loss 0.9876 | Accuracy 0.8852 \n",
            "Epoch 00060 | Loss 0.9285 | Accuracy 0.8852 \n",
            "Epoch 00061 | Loss 0.9173 | Accuracy 0.8852 \n",
            "Epoch 00062 | Loss 0.8950 | Accuracy 0.8852 \n",
            "Epoch 00063 | Loss 0.9178 | Accuracy 0.8852 \n",
            "Epoch 00064 | Loss 0.8664 | Accuracy 0.8839 \n",
            "Epoch 00065 | Loss 0.8419 | Accuracy 0.8827 \n",
            "Epoch 00066 | Loss 0.8009 | Accuracy 0.8827 \n",
            "Epoch 00067 | Loss 0.8136 | Accuracy 0.8814 \n",
            "Epoch 00068 | Loss 0.8271 | Accuracy 0.8827 \n",
            "Epoch 00069 | Loss 0.8345 | Accuracy 0.8852 \n",
            "Epoch 00070 | Loss 0.8268 | Accuracy 0.8852 \n",
            "Epoch 00071 | Loss 0.8336 | Accuracy 0.8864 \n",
            "Epoch 00072 | Loss 0.7500 | Accuracy 0.8877 \n",
            "Epoch 00073 | Loss 0.7856 | Accuracy 0.8889 \n",
            "Epoch 00074 | Loss 0.7681 | Accuracy 0.8877 \n",
            "Epoch 00075 | Loss 0.7075 | Accuracy 0.8864 \n",
            "Epoch 00076 | Loss 0.7031 | Accuracy 0.8864 \n",
            "Epoch 00077 | Loss 0.7057 | Accuracy 0.8852 \n",
            "Epoch 00078 | Loss 0.7251 | Accuracy 0.8852 \n",
            "Epoch 00079 | Loss 0.7729 | Accuracy 0.8864 \n",
            "Epoch 00080 | Loss 0.6321 | Accuracy 0.8864 \n",
            "Epoch 00081 | Loss 0.6608 | Accuracy 0.8889 \n",
            "Epoch 00082 | Loss 0.6979 | Accuracy 0.8877 \n",
            "Epoch 00083 | Loss 0.6597 | Accuracy 0.8889 \n",
            "Epoch 00084 | Loss 0.6867 | Accuracy 0.8877 \n",
            "Epoch 00085 | Loss 0.6896 | Accuracy 0.8901 \n",
            "Epoch 00086 | Loss 0.6889 | Accuracy 0.8889 \n",
            "Epoch 00087 | Loss 0.6868 | Accuracy 0.8852 \n",
            "Epoch 00088 | Loss 0.6426 | Accuracy 0.8852 \n",
            "Epoch 00089 | Loss 0.6886 | Accuracy 0.8877 \n",
            "Epoch 00090 | Loss 0.6114 | Accuracy 0.8864 \n",
            "Epoch 00091 | Loss 0.6243 | Accuracy 0.8864 \n",
            "Epoch 00092 | Loss 0.5512 | Accuracy 0.8877 \n",
            "Epoch 00093 | Loss 0.5842 | Accuracy 0.8877 \n",
            "Epoch 00094 | Loss 0.6024 | Accuracy 0.8889 \n",
            "Epoch 00095 | Loss 0.5634 | Accuracy 0.8889 \n",
            "Epoch 00096 | Loss 0.5890 | Accuracy 0.8889 \n",
            "Epoch 00097 | Loss 0.5811 | Accuracy 0.8889 \n",
            "Epoch 00098 | Loss 0.5762 | Accuracy 0.8901 \n",
            "Epoch 00099 | Loss 0.5397 | Accuracy 0.8889 \n",
            "Epoch 00100 | Loss 0.5493 | Accuracy 0.8901 \n",
            "Epoch 00101 | Loss 0.5752 | Accuracy 0.8889 \n",
            "Epoch 00102 | Loss 0.5580 | Accuracy 0.8877 \n",
            "Epoch 00103 | Loss 0.5356 | Accuracy 0.8950 \n",
            "Epoch 00104 | Loss 0.5855 | Accuracy 0.8938 \n",
            "Epoch 00105 | Loss 0.4949 | Accuracy 0.8914 \n",
            "Epoch 00106 | Loss 0.5847 | Accuracy 0.8889 \n",
            "Epoch 00107 | Loss 0.5119 | Accuracy 0.8877 \n",
            "Epoch 00108 | Loss 0.5651 | Accuracy 0.8839 \n",
            "Epoch 00109 | Loss 0.4808 | Accuracy 0.8864 \n",
            "Epoch 00110 | Loss 0.5405 | Accuracy 0.8877 \n",
            "Epoch 00111 | Loss 0.5043 | Accuracy 0.8889 \n",
            "Epoch 00112 | Loss 0.5389 | Accuracy 0.8889 \n",
            "Epoch 00113 | Loss 0.5114 | Accuracy 0.8901 \n",
            "Epoch 00114 | Loss 0.4885 | Accuracy 0.8914 \n",
            "Epoch 00115 | Loss 0.5074 | Accuracy 0.8889 \n",
            "Epoch 00116 | Loss 0.4889 | Accuracy 0.8901 \n",
            "Epoch 00117 | Loss 0.4767 | Accuracy 0.8914 \n",
            "Epoch 00118 | Loss 0.5021 | Accuracy 0.8889 \n",
            "Epoch 00119 | Loss 0.5065 | Accuracy 0.8926 \n",
            "Epoch 00120 | Loss 0.4956 | Accuracy 0.8901 \n",
            "Epoch 00121 | Loss 0.5066 | Accuracy 0.8852 \n",
            "Epoch 00122 | Loss 0.4939 | Accuracy 0.8852 \n",
            "Epoch 00123 | Loss 0.4347 | Accuracy 0.8852 \n",
            "Epoch 00124 | Loss 0.5141 | Accuracy 0.8864 \n",
            "Epoch 00125 | Loss 0.4820 | Accuracy 0.8877 \n",
            "Epoch 00126 | Loss 0.4958 | Accuracy 0.8877 \n",
            "Epoch 00127 | Loss 0.4855 | Accuracy 0.8877 \n",
            "Epoch 00128 | Loss 0.4852 | Accuracy 0.8877 \n",
            "Epoch 00129 | Loss 0.5012 | Accuracy 0.8877 \n",
            "Epoch 00130 | Loss 0.5159 | Accuracy 0.8877 \n",
            "Epoch 00131 | Loss 0.4708 | Accuracy 0.8901 \n",
            "Epoch 00132 | Loss 0.4731 | Accuracy 0.8950 \n",
            "Epoch 00133 | Loss 0.5540 | Accuracy 0.8962 \n",
            "Epoch 00134 | Loss 0.4613 | Accuracy 0.8950 \n",
            "Epoch 00135 | Loss 0.4519 | Accuracy 0.8962 \n",
            "Epoch 00136 | Loss 0.4180 | Accuracy 0.8962 \n",
            "Epoch 00137 | Loss 0.4658 | Accuracy 0.8914 \n",
            "Epoch 00138 | Loss 0.4587 | Accuracy 0.8877 \n",
            "Epoch 00139 | Loss 0.4253 | Accuracy 0.8877 \n",
            "Epoch 00140 | Loss 0.4638 | Accuracy 0.8877 \n",
            "Epoch 00141 | Loss 0.4260 | Accuracy 0.8877 \n",
            "Epoch 00142 | Loss 0.4404 | Accuracy 0.8889 \n",
            "Epoch 00143 | Loss 0.4496 | Accuracy 0.8889 \n",
            "Epoch 00144 | Loss 0.4508 | Accuracy 0.8864 \n",
            "Epoch 00145 | Loss 0.4431 | Accuracy 0.8901 \n",
            "Epoch 00146 | Loss 0.4221 | Accuracy 0.8914 \n",
            "Epoch 00147 | Loss 0.4055 | Accuracy 0.8926 \n",
            "Epoch 00148 | Loss 0.3671 | Accuracy 0.8950 \n",
            "Epoch 00149 | Loss 0.4729 | Accuracy 0.8950 \n",
            "Epoch 00150 | Loss 0.4715 | Accuracy 0.8962 \n",
            "Epoch 00151 | Loss 0.4759 | Accuracy 0.8889 \n",
            "Epoch 00152 | Loss 0.4174 | Accuracy 0.8901 \n",
            "Epoch 00153 | Loss 0.4903 | Accuracy 0.8889 \n",
            "Epoch 00154 | Loss 0.3828 | Accuracy 0.8889 \n",
            "Epoch 00155 | Loss 0.3925 | Accuracy 0.8889 \n",
            "Epoch 00156 | Loss 0.4256 | Accuracy 0.8889 \n",
            "Epoch 00157 | Loss 0.3742 | Accuracy 0.8852 \n",
            "Epoch 00158 | Loss 0.3896 | Accuracy 0.8852 \n",
            "Epoch 00159 | Loss 0.4132 | Accuracy 0.8852 \n",
            "Epoch 00160 | Loss 0.3692 | Accuracy 0.8877 \n",
            "Epoch 00161 | Loss 0.3957 | Accuracy 0.8877 \n",
            "Epoch 00162 | Loss 0.3844 | Accuracy 0.8864 \n",
            "Epoch 00163 | Loss 0.4234 | Accuracy 0.8889 \n",
            "Epoch 00164 | Loss 0.3914 | Accuracy 0.8901 \n",
            "Epoch 00165 | Loss 0.3462 | Accuracy 0.8901 \n",
            "Epoch 00166 | Loss 0.3993 | Accuracy 0.8914 \n",
            "Epoch 00167 | Loss 0.3688 | Accuracy 0.8877 \n",
            "Epoch 00168 | Loss 0.3952 | Accuracy 0.8877 \n",
            "Epoch 00169 | Loss 0.3744 | Accuracy 0.8877 \n",
            "Epoch 00170 | Loss 0.3805 | Accuracy 0.8889 \n",
            "Epoch 00171 | Loss 0.3933 | Accuracy 0.8877 \n",
            "Epoch 00172 | Loss 0.4535 | Accuracy 0.8914 \n",
            "Epoch 00173 | Loss 0.4104 | Accuracy 0.8914 \n",
            "Epoch 00174 | Loss 0.3861 | Accuracy 0.8877 \n",
            "Epoch 00175 | Loss 0.3410 | Accuracy 0.8839 \n",
            "Epoch 00176 | Loss 0.3611 | Accuracy 0.8877 \n",
            "Epoch 00177 | Loss 0.3752 | Accuracy 0.8864 \n",
            "Epoch 00178 | Loss 0.3688 | Accuracy 0.8864 \n",
            "Epoch 00179 | Loss 0.3433 | Accuracy 0.8864 \n",
            "Epoch 00180 | Loss 0.3707 | Accuracy 0.8864 \n",
            "Epoch 00181 | Loss 0.3232 | Accuracy 0.8889 \n",
            "Epoch 00182 | Loss 0.3802 | Accuracy 0.8877 \n",
            "Epoch 00183 | Loss 0.4170 | Accuracy 0.8864 \n",
            "Epoch 00184 | Loss 0.3770 | Accuracy 0.8839 \n",
            "Epoch 00185 | Loss 0.3684 | Accuracy 0.8839 \n",
            "Epoch 00186 | Loss 0.3184 | Accuracy 0.8864 \n",
            "Epoch 00187 | Loss 0.3770 | Accuracy 0.8877 \n",
            "Epoch 00188 | Loss 0.3647 | Accuracy 0.8877 \n",
            "Epoch 00189 | Loss 0.3525 | Accuracy 0.8877 \n",
            "Epoch 00190 | Loss 0.3792 | Accuracy 0.8864 \n",
            "Epoch 00191 | Loss 0.3385 | Accuracy 0.8877 \n",
            "Epoch 00192 | Loss 0.3300 | Accuracy 0.8877 \n",
            "Epoch 00193 | Loss 0.3627 | Accuracy 0.8864 \n",
            "Epoch 00194 | Loss 0.3695 | Accuracy 0.8864 \n",
            "Epoch 00195 | Loss 0.4233 | Accuracy 0.8889 \n",
            "Epoch 00196 | Loss 0.4066 | Accuracy 0.8877 \n",
            "Epoch 00197 | Loss 0.3784 | Accuracy 0.8901 \n",
            "Epoch 00198 | Loss 0.3733 | Accuracy 0.8901 \n",
            "Epoch 00199 | Loss 0.3396 | Accuracy 0.8889 \n"
          ]
        }
      ]
    },
    {
      "cell_type": "code",
      "source": [
        "# plot the loss and accuracy\n",
        "import matplotlib.pyplot as plt\n",
        "plt.plot(loss_list)\n",
        "plt.plot(accuracy_list)\n",
        "plt.legend(['Train Loss', 'Val Accuracy (f1-micro)'])\n",
        "plt.xlabel('epoch')\n",
        "plt.show()"
      ],
      "metadata": {
        "colab": {
          "base_uri": "https://localhost:8080/",
          "height": 280
        },
        "id": "WBdrUoB-KAqQ",
        "outputId": "5195be8d-a5f0-456e-efdb-69521ea6d9c1"
      },
      "execution_count": 79,
      "outputs": [
        {
          "output_type": "display_data",
          "data": {
            "text/plain": [
              "<Figure size 432x288 with 1 Axes>"
            ],
            "image/png": "[encoded data removed]"
          },
          "metadata": {
            "needs_background": "light"
          }
        }
      ]
    },
    {
      "cell_type": "code",
      "source": [
        "# test the model\n",
        "print(\"Testing...\")\n",
        "acc = evaluate(g, features, labels, g.ndata[\"test_mask\"], model)\n",
        "print(\"Test accuracy {:.4f}\".format(acc))"
      ],
      "metadata": {
        "colab": {
          "base_uri": "https://localhost:8080/"
        },
        "id": "T-ZHrHLuJoP0",
        "outputId": "7a719247-5de8-4411-cfca-25e58e5128cd"
      },
      "execution_count": 80,
      "outputs": [
        {
          "output_type": "stream",
          "name": "stdout",
          "text": [
            "Testing...\n",
            "Test accuracy 0.9011\n"
          ]
        }
      ]
    }
  ]
}