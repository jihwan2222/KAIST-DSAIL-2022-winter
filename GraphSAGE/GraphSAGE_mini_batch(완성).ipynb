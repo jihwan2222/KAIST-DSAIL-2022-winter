{
  "nbformat": 4,
  "nbformat_minor": 0,
  "metadata": {
    "colab": {
      "provenance": [],
      "machine_shape": "hm"
    },
    "kernelspec": {
      "name": "python3",
      "display_name": "Python 3"
    },
    "language_info": {
      "name": "python"
    },
    "gpuClass": "standard",
    "accelerator": "GPU"
  },
  "cells": [
    {
      "cell_type": "code",
      "source": [
        "pip install --pre dgl-cu116 -f https://data.dgl.ai/wheels-test/repo.html"
      ],
      "metadata": {
        "colab": {
          "base_uri": "https://localhost:8080/",
          "height": 525
        },
        "id": "m7KubvmjWHVU",
        "outputId": "4557d386-f208-4a5f-dcaa-7518679579b2"
      },
      "execution_count": 1,
      "outputs": [
        {
          "output_type": "stream",
          "name": "stdout",
          "text": [
            "Looking in indexes: https://pypi.org/simple, https://us-python.pkg.dev/colab-wheels/public/simple/\n",
            "Looking in links: https://data.dgl.ai/wheels-test/repo.html\n",
            "Collecting dgl-cu116\n",
            "  Downloading https://data.dgl.ai/wheels-test/dgl_cu116-1.0a230116-cp38-cp38-manylinux1_x86_64.whl (265.6 MB)\n",
            "\u001b[2K     \u001b[90m━━━━━━━━━━━━━━━━━━━━━━━━━━━━━━━━━━━━━━━\u001b[0m \u001b[32m265.6/265.6 MB\u001b[0m \u001b[31m4.1 MB/s\u001b[0m eta \u001b[36m0:00:00\u001b[0m\n",
            "\u001b[?25hRequirement already satisfied: requests>=2.19.0 in /usr/local/lib/python3.8/dist-packages (from dgl-cu116) (2.25.1)\n",
            "Requirement already satisfied: numpy>=1.14.0 in /usr/local/lib/python3.8/dist-packages (from dgl-cu116) (1.21.6)\n",
            "Collecting psutil>=5.8.0\n",
            "  Downloading psutil-5.9.4-cp36-abi3-manylinux_2_12_x86_64.manylinux2010_x86_64.manylinux_2_17_x86_64.manylinux2014_x86_64.whl (280 kB)\n",
            "\u001b[2K     \u001b[90m━━━━━━━━━━━━━━━━━━━━━━━━━━━━━━━━━━━━━━━\u001b[0m \u001b[32m280.2/280.2 KB\u001b[0m \u001b[31m6.0 MB/s\u001b[0m eta \u001b[36m0:00:00\u001b[0m\n",
            "\u001b[?25hRequirement already satisfied: networkx>=2.1 in /usr/local/lib/python3.8/dist-packages (from dgl-cu116) (3.0)\n",
            "Requirement already satisfied: tqdm in /usr/local/lib/python3.8/dist-packages (from dgl-cu116) (4.64.1)\n",
            "Requirement already satisfied: scipy>=1.1.0 in /usr/local/lib/python3.8/dist-packages (from dgl-cu116) (1.7.3)\n",
            "Requirement already satisfied: chardet<5,>=3.0.2 in /usr/local/lib/python3.8/dist-packages (from requests>=2.19.0->dgl-cu116) (4.0.0)\n",
            "Requirement already satisfied: urllib3<1.27,>=1.21.1 in /usr/local/lib/python3.8/dist-packages (from requests>=2.19.0->dgl-cu116) (1.24.3)\n",
            "Requirement already satisfied: certifi>=2017.4.17 in /usr/local/lib/python3.8/dist-packages (from requests>=2.19.0->dgl-cu116) (2022.12.7)\n",
            "Requirement already satisfied: idna<3,>=2.5 in /usr/local/lib/python3.8/dist-packages (from requests>=2.19.0->dgl-cu116) (2.10)\n",
            "Installing collected packages: psutil, dgl-cu116\n",
            "  Attempting uninstall: psutil\n",
            "    Found existing installation: psutil 5.4.8\n",
            "    Uninstalling psutil-5.4.8:\n",
            "      Successfully uninstalled psutil-5.4.8\n",
            "Successfully installed dgl-cu116-1.0a230116 psutil-5.9.4\n"
          ]
        },
        {
          "output_type": "display_data",
          "data": {
            "application/vnd.colab-display-data+json": {
              "pip_warning": {
                "packages": [
                  "psutil"
                ]
              }
            }
          },
          "metadata": {}
        }
      ]
    },
    {
      "cell_type": "code",
      "source": [
        "import torch\n",
        "try:\n",
        "    import torch_geometric\n",
        "except ModuleNotFoundError:\n",
        "    TORCH = torch.__version__.split(\"+\")[0]\n",
        "    CUDA = \"cu\" + torch.version.cuda.replace(\".\",\"\")\n",
        "!pip install torch-scatter     -f https://pytorch-geometric.com/whl/torch-{TORCH}+{CUDA}.html\n",
        "!pip install torch-sparse      -f https://pytorch-geometric.com/whl/torch-{TORCH}+{CUDA}.html\n",
        "!pip install torch-geometric\n",
        "import torch_geometric #download torch_geometric"
      ],
      "metadata": {
        "colab": {
          "base_uri": "https://localhost:8080/"
        },
        "id": "td6j_3OG-6oq",
        "outputId": "c37ef39c-111f-4434-efb1-c313935bb0a3"
      },
      "execution_count": 2,
      "outputs": [
        {
          "output_type": "stream",
          "name": "stdout",
          "text": [
            "Looking in indexes: https://pypi.org/simple, https://us-python.pkg.dev/colab-wheels/public/simple/\n",
            "Looking in links: https://pytorch-geometric.com/whl/torch-1.13.1+cu116.html\n",
            "Collecting torch-scatter\n",
            "  Downloading https://data.pyg.org/whl/torch-1.13.0%2Bcu116/torch_scatter-2.1.0%2Bpt113cu116-cp38-cp38-linux_x86_64.whl (9.4 MB)\n",
            "\u001b[2K     \u001b[90m━━━━━━━━━━━━━━━━━━━━━━━━━━━━━━━━━━━━━━━━\u001b[0m \u001b[32m9.4/9.4 MB\u001b[0m \u001b[31m27.2 MB/s\u001b[0m eta \u001b[36m0:00:00\u001b[0m\n",
            "\u001b[?25hInstalling collected packages: torch-scatter\n",
            "Successfully installed torch-scatter-2.1.0+pt113cu116\n",
            "Looking in indexes: https://pypi.org/simple, https://us-python.pkg.dev/colab-wheels/public/simple/\n",
            "Looking in links: https://pytorch-geometric.com/whl/torch-1.13.1+cu116.html\n",
            "Collecting torch-sparse\n",
            "  Downloading https://data.pyg.org/whl/torch-1.13.0%2Bcu116/torch_sparse-0.6.16%2Bpt113cu116-cp38-cp38-linux_x86_64.whl (4.5 MB)\n",
            "\u001b[2K     \u001b[90m━━━━━━━━━━━━━━━━━━━━━━━━━━━━━━━━━━━━━━━━\u001b[0m \u001b[32m4.5/4.5 MB\u001b[0m \u001b[31m15.4 MB/s\u001b[0m eta \u001b[36m0:00:00\u001b[0m\n",
            "\u001b[?25hRequirement already satisfied: scipy in /usr/local/lib/python3.8/dist-packages (from torch-sparse) (1.7.3)\n",
            "Requirement already satisfied: numpy<1.23.0,>=1.16.5 in /usr/local/lib/python3.8/dist-packages (from scipy->torch-sparse) (1.21.6)\n",
            "Installing collected packages: torch-sparse\n",
            "Successfully installed torch-sparse-0.6.16+pt113cu116\n",
            "Looking in indexes: https://pypi.org/simple, https://us-python.pkg.dev/colab-wheels/public/simple/\n",
            "Collecting torch-geometric\n",
            "  Downloading torch_geometric-2.2.0.tar.gz (564 kB)\n",
            "\u001b[2K     \u001b[90m━━━━━━━━━━━━━━━━━━━━━━━━━━━━━━━━━━━━━━━\u001b[0m \u001b[32m565.0/565.0 KB\u001b[0m \u001b[31m9.3 MB/s\u001b[0m eta \u001b[36m0:00:00\u001b[0m\n",
            "\u001b[?25h  Preparing metadata (setup.py) ... \u001b[?25l\u001b[?25hdone\n",
            "Requirement already satisfied: tqdm in /usr/local/lib/python3.8/dist-packages (from torch-geometric) (4.64.1)\n",
            "Requirement already satisfied: numpy in /usr/local/lib/python3.8/dist-packages (from torch-geometric) (1.21.6)\n",
            "Requirement already satisfied: scipy in /usr/local/lib/python3.8/dist-packages (from torch-geometric) (1.7.3)\n",
            "Requirement already satisfied: jinja2 in /usr/local/lib/python3.8/dist-packages (from torch-geometric) (2.11.3)\n",
            "Requirement already satisfied: requests in /usr/local/lib/python3.8/dist-packages (from torch-geometric) (2.25.1)\n",
            "Requirement already satisfied: pyparsing in /usr/local/lib/python3.8/dist-packages (from torch-geometric) (3.0.9)\n",
            "Requirement already satisfied: scikit-learn in /usr/local/lib/python3.8/dist-packages (from torch-geometric) (1.0.2)\n",
            "Requirement already satisfied: psutil>=5.8.0 in /usr/local/lib/python3.8/dist-packages (from torch-geometric) (5.9.4)\n",
            "Requirement already satisfied: MarkupSafe>=0.23 in /usr/local/lib/python3.8/dist-packages (from jinja2->torch-geometric) (2.0.1)\n",
            "Requirement already satisfied: urllib3<1.27,>=1.21.1 in /usr/local/lib/python3.8/dist-packages (from requests->torch-geometric) (1.24.3)\n",
            "Requirement already satisfied: chardet<5,>=3.0.2 in /usr/local/lib/python3.8/dist-packages (from requests->torch-geometric) (4.0.0)\n",
            "Requirement already satisfied: certifi>=2017.4.17 in /usr/local/lib/python3.8/dist-packages (from requests->torch-geometric) (2022.12.7)\n",
            "Requirement already satisfied: idna<3,>=2.5 in /usr/local/lib/python3.8/dist-packages (from requests->torch-geometric) (2.10)\n",
            "Requirement already satisfied: threadpoolctl>=2.0.0 in /usr/local/lib/python3.8/dist-packages (from scikit-learn->torch-geometric) (3.1.0)\n",
            "Requirement already satisfied: joblib>=0.11 in /usr/local/lib/python3.8/dist-packages (from scikit-learn->torch-geometric) (1.2.0)\n",
            "Building wheels for collected packages: torch-geometric\n",
            "  Building wheel for torch-geometric (setup.py) ... \u001b[?25l\u001b[?25hdone\n",
            "  Created wheel for torch-geometric: filename=torch_geometric-2.2.0-py3-none-any.whl size=773302 sha256=72a1df6829d280674394f59b82ccba80430c4c169727c3e816e9f15ebd24e573\n",
            "  Stored in directory: /root/.cache/pip/wheels/59/a3/20/198928106d3169865ae73afcbd3d3d1796cf6b429b55c65378\n",
            "Successfully built torch-geometric\n",
            "Installing collected packages: torch-geometric\n",
            "Successfully installed torch-geometric-2.2.0\n"
          ]
        }
      ]
    },
    {
      "cell_type": "code",
      "execution_count": 3,
      "metadata": {
        "id": "Q6RRsisKMUtk",
        "colab": {
          "base_uri": "https://localhost:8080/"
        },
        "outputId": "35031d94-67bb-46e9-aa72-91cc1183830f"
      },
      "outputs": [
        {
          "output_type": "stream",
          "name": "stderr",
          "text": [
            "DGL backend not selected or invalid.  Assuming PyTorch for now.\n"
          ]
        },
        {
          "output_type": "stream",
          "name": "stdout",
          "text": [
            "Setting the default backend to \"pytorch\". You can change it in the ~/.dgl/config.json file or export the DGLBACKEND environment variable.  Valid options are: pytorch, mxnet, tensorflow (all lowercase)\n"
          ]
        }
      ],
      "source": [
        "import torch\n",
        "import dgl\n",
        "from dgl.data import CoraGraphDataset #Data 1\n",
        "from dgl.data import RedditDataset #Data 2\n",
        "#from dgl.data import PPIDataset #Data 3 (Not working)\n",
        "\n",
        "from dgl.nn import SAGEConv\n",
        "\n",
        "import matplotlib.pyplot as plt\n",
        "import numpy as np\n",
        "\n",
        "import networkx as nx\n",
        "from torch.nn.parameter import Parameter\n",
        "from torch.nn.modules.module import Module\n",
        "\n",
        "import scipy\n",
        "import scipy.sparse as sp\n",
        "import torch.nn as nn\n",
        "import torch.nn.functional as F"
      ]
    },
    {
      "cell_type": "code",
      "source": [
        "scipy.__version__"
      ],
      "metadata": {
        "colab": {
          "base_uri": "https://localhost:8080/",
          "height": 35
        },
        "id": "b68QCx-mmHKS",
        "outputId": "87a02d7e-0242-4071-9a76-043872f4e23d"
      },
      "execution_count": 4,
      "outputs": [
        {
          "output_type": "execute_result",
          "data": {
            "text/plain": [
              "'1.7.3'"
            ],
            "application/vnd.google.colaboratory.intrinsic+json": {
              "type": "string"
            }
          },
          "metadata": {},
          "execution_count": 4
        }
      ]
    },
    {
      "cell_type": "code",
      "source": [
        "dgl.__version__"
      ],
      "metadata": {
        "id": "Z-qRRd3Ce0Y-",
        "outputId": "0446cdb8-3f12-45af-eab9-e973ac388faa",
        "colab": {
          "base_uri": "https://localhost:8080/",
          "height": 35
        }
      },
      "execution_count": 5,
      "outputs": [
        {
          "output_type": "execute_result",
          "data": {
            "text/plain": [
              "'1.0a230116'"
            ],
            "application/vnd.google.colaboratory.intrinsic+json": {
              "type": "string"
            }
          },
          "metadata": {},
          "execution_count": 5
        }
      ]
    },
    {
      "cell_type": "code",
      "source": [
        "torch.__version__"
      ],
      "metadata": {
        "colab": {
          "base_uri": "https://localhost:8080/",
          "height": 35
        },
        "id": "pZGa9TMFDqJ5",
        "outputId": "16562506-a1e1-4d95-c93b-7a64c3e089d1"
      },
      "execution_count": 6,
      "outputs": [
        {
          "output_type": "execute_result",
          "data": {
            "text/plain": [
              "'1.13.1+cu116'"
            ],
            "application/vnd.google.colaboratory.intrinsic+json": {
              "type": "string"
            }
          },
          "metadata": {},
          "execution_count": 6
        }
      ]
    },
    {
      "cell_type": "code",
      "source": [
        "dataset1 = CoraGraphDataset(verbose=True)"
      ],
      "metadata": {
        "id": "adcXpAHYO9G1",
        "colab": {
          "base_uri": "https://localhost:8080/"
        },
        "outputId": "0293e2cd-8bef-4685-cfb8-ecaa5aa055f0"
      },
      "execution_count": 7,
      "outputs": [
        {
          "output_type": "stream",
          "name": "stdout",
          "text": [
            "Downloading /root/.dgl/cora_v2.zip from https://data.dgl.ai/dataset/cora_v2.zip...\n",
            "Extracting file to /root/.dgl/cora_v2\n",
            "Finished data loading and preprocessing.\n",
            "  NumNodes: 2708\n",
            "  NumEdges: 10556\n",
            "  NumFeats: 1433\n",
            "  NumClasses: 7\n",
            "  NumTrainingSamples: 140\n",
            "  NumValidationSamples: 500\n",
            "  NumTestSamples: 1000\n",
            "Done saving data into cached files.\n"
          ]
        }
      ]
    },
    {
      "cell_type": "code",
      "source": [
        "#dataset2 = RedditDataset(self_loop=False, verbose=True) Too large"
      ],
      "metadata": {
        "colab": {
          "base_uri": "https://localhost:8080/"
        },
        "id": "HByG2jagVH1A",
        "outputId": "5780402c-1d3e-4a40-a79b-054e1aed445c"
      },
      "execution_count": 8,
      "outputs": [
        {
          "output_type": "stream",
          "name": "stdout",
          "text": [
            "Finished data loading.\n",
            "  NumNodes: 232965\n",
            "  NumEdges: 114615892\n",
            "  NumFeats: 602\n",
            "  NumClasses: 41\n",
            "  NumTrainingSamples: 153431\n",
            "  NumValidationSamples: 23831\n",
            "  NumTestSamples: 55703\n",
            "Done loading data from cached files.\n"
          ]
        }
      ]
    },
    {
      "cell_type": "code",
      "source": [
        "torch.cuda.is_available()"
      ],
      "metadata": {
        "colab": {
          "base_uri": "https://localhost:8080/"
        },
        "id": "lQ2E5nHaVrQS",
        "outputId": "5119ae49-5e97-40e3-a2ea-c64fd74e4626"
      },
      "execution_count": 8,
      "outputs": [
        {
          "output_type": "execute_result",
          "data": {
            "text/plain": [
              "True"
            ]
          },
          "metadata": {},
          "execution_count": 8
        }
      ]
    },
    {
      "cell_type": "code",
      "source": [
        "device = torch.device(\"cuda\" if torch.cuda.is_available() else \"cpu\")"
      ],
      "metadata": {
        "id": "L-yqb0YYqKqX"
      },
      "execution_count": 9,
      "outputs": []
    },
    {
      "cell_type": "code",
      "source": [
        "from torch_geometric.loader import NeighborLoader\n",
        "from dgl.dataloading import DataLoader, NeighborSampler, MultiLayerFullNeighborSampler\n",
        "\n",
        "sampler = NeighborSampler([10,100])\n",
        "dataloader1 = DataLoader(\n",
        "        dataset1[0], torch.arange(dataset1[0].num_nodes()).to(dataset1[0].device), sampler, device=device,\n",
        "        batch_size=256, shuffle=False, drop_last=False,\n",
        "        num_workers=0)"
      ],
      "metadata": {
        "id": "MfN1vQMWp5uL"
      },
      "execution_count": 211,
      "outputs": []
    },
    {
      "cell_type": "code",
      "source": [
        "dataset1[0].ndata[\"train_mask\"]"
      ],
      "metadata": {
        "colab": {
          "base_uri": "https://localhost:8080/"
        },
        "id": "gJ0BLDT-7g0_",
        "outputId": "f09ed0cf-b666-4003-82e3-48dbf400da8e"
      },
      "execution_count": 212,
      "outputs": [
        {
          "output_type": "execute_result",
          "data": {
            "text/plain": [
              "tensor([ True,  True,  True,  ..., False, False, False])"
            ]
          },
          "metadata": {},
          "execution_count": 212
        }
      ]
    },
    {
      "cell_type": "code",
      "source": [
        "dataset1[0].ndata[\"val_mask\"]"
      ],
      "metadata": {
        "colab": {
          "base_uri": "https://localhost:8080/"
        },
        "id": "tuA5Q-837yqa",
        "outputId": "d54db189-2d69-4902-f828-fefea13d94cd"
      },
      "execution_count": 213,
      "outputs": [
        {
          "output_type": "execute_result",
          "data": {
            "text/plain": [
              "tensor([False, False, False,  ..., False, False, False])"
            ]
          },
          "metadata": {},
          "execution_count": 213
        }
      ]
    },
    {
      "cell_type": "code",
      "source": [
        "for it, (input_nodes, output_nodes, blocks) in enumerate(dataloader1):\n",
        "    print(blocks)"
      ],
      "metadata": {
        "colab": {
          "base_uri": "https://localhost:8080/"
        },
        "id": "3RppvkC1BHIp",
        "outputId": "7b859fb7-a960-4be6-9d9c-a2528e1ab60f"
      },
      "execution_count": 214,
      "outputs": [
        {
          "output_type": "stream",
          "name": "stdout",
          "text": [
            "[Block(num_src_nodes=1779, num_dst_nodes=960, num_edges=4261), Block(num_src_nodes=960, num_dst_nodes=256, num_edges=1053)]\n",
            "[Block(num_src_nodes=1820, num_dst_nodes=978, num_edges=4349), Block(num_src_nodes=978, num_dst_nodes=256, num_edges=1059)]\n",
            "[Block(num_src_nodes=1798, num_dst_nodes=935, num_edges=4195), Block(num_src_nodes=935, num_dst_nodes=256, num_edges=996)]\n",
            "[Block(num_src_nodes=1773, num_dst_nodes=882, num_edges=3922), Block(num_src_nodes=882, num_dst_nodes=256, num_edges=882)]\n",
            "[Block(num_src_nodes=1775, num_dst_nodes=904, num_edges=4042), Block(num_src_nodes=904, num_dst_nodes=256, num_edges=986)]\n",
            "[Block(num_src_nodes=1805, num_dst_nodes=950, num_edges=4177), Block(num_src_nodes=950, num_dst_nodes=256, num_edges=1041)]\n",
            "[Block(num_src_nodes=1733, num_dst_nodes=933, num_edges=4218), Block(num_src_nodes=933, num_dst_nodes=256, num_edges=1182)]\n",
            "[Block(num_src_nodes=1538, num_dst_nodes=841, num_edges=3753), Block(num_src_nodes=841, num_dst_nodes=256, num_edges=1209)]\n",
            "[Block(num_src_nodes=1495, num_dst_nodes=797, num_edges=3616), Block(num_src_nodes=797, num_dst_nodes=256, num_edges=996)]\n",
            "[Block(num_src_nodes=1427, num_dst_nodes=756, num_edges=3065), Block(num_src_nodes=756, num_dst_nodes=256, num_edges=783)]\n",
            "[Block(num_src_nodes=628, num_dst_nodes=355, num_edges=1061), Block(num_src_nodes=355, num_dst_nodes=148, num_edges=301)]\n"
          ]
        }
      ]
    },
    {
      "cell_type": "code",
      "source": [
        "for input_nodes, output_nodes, blocks in dataloader1:\n",
        "    print(blocks[1].dstdata[\"feat\"].shape)\n",
        "    #print(blocks[1].dstdata['feat'].shape)\n"
      ],
      "metadata": {
        "colab": {
          "base_uri": "https://localhost:8080/"
        },
        "id": "SgO_YyFP0oAD",
        "outputId": "c8c81ac6-60a1-4428-96dc-aad36deff0bd"
      },
      "execution_count": 215,
      "outputs": [
        {
          "output_type": "stream",
          "name": "stdout",
          "text": [
            "torch.Size([256, 1433])\n",
            "torch.Size([256, 1433])\n",
            "torch.Size([256, 1433])\n",
            "torch.Size([256, 1433])\n",
            "torch.Size([256, 1433])\n",
            "torch.Size([256, 1433])\n",
            "torch.Size([256, 1433])\n",
            "torch.Size([256, 1433])\n",
            "torch.Size([256, 1433])\n",
            "torch.Size([256, 1433])\n",
            "torch.Size([148, 1433])\n"
          ]
        }
      ]
    },
    {
      "cell_type": "code",
      "source": [
        "for batch_graphs in dataloader1:\n",
        "    for i in batch_graphs:\n",
        "        print(i[0])"
      ],
      "metadata": {
        "colab": {
          "base_uri": "https://localhost:8080/"
        },
        "id": "sAWIhaNTrOyU",
        "outputId": "2fd7a357-8490-46f6-fb8b-b564e7648e22"
      },
      "execution_count": 216,
      "outputs": [
        {
          "output_type": "stream",
          "name": "stdout",
          "text": [
            "tensor(0, device='cuda:0')\n",
            "tensor(0, device='cuda:0')\n",
            "Block(num_src_nodes=1785, num_dst_nodes=960, num_edges=4261)\n",
            "tensor(256, device='cuda:0')\n",
            "tensor(256, device='cuda:0')\n",
            "Block(num_src_nodes=1825, num_dst_nodes=978, num_edges=4349)\n",
            "tensor(512, device='cuda:0')\n",
            "tensor(512, device='cuda:0')\n",
            "Block(num_src_nodes=1805, num_dst_nodes=935, num_edges=4195)\n",
            "tensor(768, device='cuda:0')\n",
            "tensor(768, device='cuda:0')\n",
            "Block(num_src_nodes=1781, num_dst_nodes=882, num_edges=3922)\n",
            "tensor(1024, device='cuda:0')\n",
            "tensor(1024, device='cuda:0')\n",
            "Block(num_src_nodes=1763, num_dst_nodes=904, num_edges=4042)\n",
            "tensor(1280, device='cuda:0')\n",
            "tensor(1280, device='cuda:0')\n",
            "Block(num_src_nodes=1816, num_dst_nodes=952, num_edges=4192)\n",
            "tensor(1536, device='cuda:0')\n",
            "tensor(1536, device='cuda:0')\n",
            "Block(num_src_nodes=1743, num_dst_nodes=933, num_edges=4218)\n",
            "tensor(1792, device='cuda:0')\n",
            "tensor(1792, device='cuda:0')\n",
            "Block(num_src_nodes=1547, num_dst_nodes=841, num_edges=3753)\n",
            "tensor(2048, device='cuda:0')\n",
            "tensor(2048, device='cuda:0')\n",
            "Block(num_src_nodes=1493, num_dst_nodes=797, num_edges=3616)\n",
            "tensor(2304, device='cuda:0')\n",
            "tensor(2304, device='cuda:0')\n",
            "Block(num_src_nodes=1407, num_dst_nodes=756, num_edges=3065)\n",
            "tensor(2560, device='cuda:0')\n",
            "tensor(2560, device='cuda:0')\n",
            "Block(num_src_nodes=628, num_dst_nodes=355, num_edges=1061)\n"
          ]
        }
      ]
    },
    {
      "cell_type": "code",
      "source": [
        "from dgl.dataloading.dataloader import batch_graphs\n",
        "class SAGE(nn.Module):\n",
        "    def __init__(self, in_size, hid_size, out_size):\n",
        "        super().__init__()\n",
        "        self.layers = nn.ModuleList()\n",
        "        # two-layer GraphSAGE-mean\n",
        "        self.layers.append(SAGEConv(in_size, hid_size, \"mean\"))\n",
        "        self.layers.append(SAGEConv(hid_size, out_size, \"mean\"))\n",
        "        self.dropout = nn.Dropout(0.5)\n",
        "\n",
        "    def forward(self, blocks, x):\n",
        "        h = x\n",
        "        for l, (layer, block) in enumerate(zip(self.layers, blocks)):\n",
        "            h = layer(block, h)\n",
        "            if l != len(self.layers) - 1:\n",
        "                h = F.relu(h)\n",
        "                h = self.dropout(h)\n",
        "        return h\n",
        "\n",
        "# f1-micro\n",
        "def evaluate(g, features, labels, mask, model):\n",
        "    model.eval()\n",
        "    with torch.no_grad():\n",
        "        logits = model(g, features)\n",
        "        logits = logits[mask]\n",
        "        labels = labels[mask]\n",
        "        _, indices = torch.max(logits, dim=1)\n",
        "        correct = torch.sum(indices == labels)\n",
        "        incorrect = torch.sum(indices != labels)\n",
        "        \n",
        "        return correct.item() / (correct.item() + 0.5 * incorrect.item())\n",
        "\n",
        "\n",
        "def train(model, dataloader):\n",
        "    # define train/val samples, loss function and optimizer\n",
        "    loss_fcn = nn.CrossEntropyLoss()\n",
        "\n",
        "    optimizer = torch.optim.Adam(model.parameters(), lr=1e-2, weight_decay=5e-4)\n",
        "\n",
        "    train_loss_list = []\n",
        "    val_acc_list = []\n",
        "\n",
        "    # training loop\n",
        "    for epoch in range(200):\n",
        "        model.train()\n",
        "        val_acc = 0\n",
        "        train_loss = 0\n",
        "\n",
        "        for input_nodes, output_nodes, batch_graphs in dataloader:\n",
        "\n",
        "            features = batch_graphs[0].srcdata['feat']\n",
        "            labels = batch_graphs[1].dstdata['label']\n",
        "            train_mask, val_mask = batch_graphs[1].dstdata[\"train_mask\"], batch_graphs[1].dstdata[\"val_mask\"]\n",
        "            #in_size = features.shape[1] = 1433 # number of features\n",
        "            #out_size = dataset1.num_classes  = 7 # number of classes\n",
        "\n",
        "            logits = model(batch_graphs, features)\n",
        "            loss = loss_fcn(logits[train_mask], labels[train_mask])\n",
        "            optimizer.zero_grad()\n",
        "            loss.backward()\n",
        "            optimizer.step()\n",
        "\n",
        "            val_acc += evaluate(batch_graphs, features, labels, val_mask, model)\n",
        "            train_loss += loss.item()\n",
        "            break\n",
        "\n",
        "        train_loss_list.append(train_loss)\n",
        "        val_acc_list.append(val_acc)\n",
        "\n",
        "        print( \"Epoch {:05d} | Loss {:.4f} | Accuracy {:.4f} \".format( epoch, train_loss, val_acc ))\n",
        "    return train_loss_list, val_acc_list"
      ],
      "metadata": {
        "id": "ku4SeCzCfRIZ"
      },
      "execution_count": 217,
      "outputs": []
    },
    {
      "cell_type": "code",
      "source": [
        "# model training\n",
        "print(\"Training...\")\n",
        "model = SAGE(1433, 16, 7).to(device)\n",
        "dataloader = dataloader1\n",
        "train_loss_ouput , val_acc_output = train(model, dataloader)"
      ],
      "metadata": {
        "id": "XobDHnWugkPR",
        "outputId": "f4f8c6db-f0c7-493d-956e-06c5d77147af",
        "colab": {
          "base_uri": "https://localhost:8080/"
        }
      },
      "execution_count": 218,
      "outputs": [
        {
          "output_type": "stream",
          "name": "stdout",
          "text": [
            "Training...\n",
            "Epoch 00000 | Loss 1.9581 | Accuracy 0.1440 \n",
            "Epoch 00001 | Loss 1.9314 | Accuracy 0.2154 \n",
            "Epoch 00002 | Loss 1.9007 | Accuracy 0.2687 \n",
            "Epoch 00003 | Loss 1.8652 | Accuracy 0.2556 \n",
            "Epoch 00004 | Loss 1.8213 | Accuracy 0.2687 \n",
            "Epoch 00005 | Loss 1.7939 | Accuracy 0.2815 \n",
            "Epoch 00006 | Loss 1.7393 | Accuracy 0.3776 \n",
            "Epoch 00007 | Loss 1.7131 | Accuracy 0.4324 \n",
            "Epoch 00008 | Loss 1.6763 | Accuracy 0.5409 \n",
            "Epoch 00009 | Loss 1.6095 | Accuracy 0.6272 \n",
            "Epoch 00010 | Loss 1.5791 | Accuracy 0.6667 \n",
            "Epoch 00011 | Loss 1.5356 | Accuracy 0.7322 \n",
            "Epoch 00012 | Loss 1.4716 | Accuracy 0.7459 \n",
            "Epoch 00013 | Loss 1.4365 | Accuracy 0.7789 \n",
            "Epoch 00014 | Loss 1.3604 | Accuracy 0.7853 \n",
            "Epoch 00015 | Loss 1.3053 | Accuracy 0.8163 \n",
            "Epoch 00016 | Loss 1.2745 | Accuracy 0.8103 \n",
            "Epoch 00017 | Loss 1.2184 | Accuracy 0.8283 \n",
            "Epoch 00018 | Loss 1.2139 | Accuracy 0.8223 \n",
            "Epoch 00019 | Loss 1.1279 | Accuracy 0.8283 \n",
            "Epoch 00020 | Loss 1.0486 | Accuracy 0.8283 \n",
            "Epoch 00021 | Loss 1.0298 | Accuracy 0.8400 \n",
            "Epoch 00022 | Loss 0.9654 | Accuracy 0.8400 \n",
            "Epoch 00023 | Loss 0.9484 | Accuracy 0.8400 \n",
            "Epoch 00024 | Loss 0.8840 | Accuracy 0.8400 \n",
            "Epoch 00025 | Loss 0.8983 | Accuracy 0.8515 \n",
            "Epoch 00026 | Loss 0.8102 | Accuracy 0.8515 \n",
            "Epoch 00027 | Loss 0.7913 | Accuracy 0.8458 \n",
            "Epoch 00028 | Loss 0.7530 | Accuracy 0.8458 \n",
            "Epoch 00029 | Loss 0.7561 | Accuracy 0.8458 \n",
            "Epoch 00030 | Loss 0.7291 | Accuracy 0.8458 \n",
            "Epoch 00031 | Loss 0.6348 | Accuracy 0.8458 \n",
            "Epoch 00032 | Loss 0.6597 | Accuracy 0.8458 \n",
            "Epoch 00033 | Loss 0.6050 | Accuracy 0.8458 \n",
            "Epoch 00034 | Loss 0.6425 | Accuracy 0.8458 \n",
            "Epoch 00035 | Loss 0.5404 | Accuracy 0.8458 \n",
            "Epoch 00036 | Loss 0.4730 | Accuracy 0.8515 \n",
            "Epoch 00037 | Loss 0.5352 | Accuracy 0.8400 \n",
            "Epoch 00038 | Loss 0.5402 | Accuracy 0.8458 \n",
            "Epoch 00039 | Loss 0.5121 | Accuracy 0.8458 \n",
            "Epoch 00040 | Loss 0.4288 | Accuracy 0.8458 \n",
            "Epoch 00041 | Loss 0.4386 | Accuracy 0.8458 \n",
            "Epoch 00042 | Loss 0.4613 | Accuracy 0.8627 \n",
            "Epoch 00043 | Loss 0.3816 | Accuracy 0.8627 \n",
            "Epoch 00044 | Loss 0.4075 | Accuracy 0.8627 \n",
            "Epoch 00045 | Loss 0.4010 | Accuracy 0.8627 \n",
            "Epoch 00046 | Loss 0.3991 | Accuracy 0.8627 \n",
            "Epoch 00047 | Loss 0.3294 | Accuracy 0.8571 \n",
            "Epoch 00048 | Loss 0.4093 | Accuracy 0.8571 \n",
            "Epoch 00049 | Loss 0.3916 | Accuracy 0.8627 \n",
            "Epoch 00050 | Loss 0.3459 | Accuracy 0.8683 \n",
            "Epoch 00051 | Loss 0.3555 | Accuracy 0.8738 \n",
            "Epoch 00052 | Loss 0.2853 | Accuracy 0.8738 \n",
            "Epoch 00053 | Loss 0.3840 | Accuracy 0.8792 \n",
            "Epoch 00054 | Loss 0.3711 | Accuracy 0.8846 \n",
            "Epoch 00055 | Loss 0.2953 | Accuracy 0.8792 \n",
            "Epoch 00056 | Loss 0.2615 | Accuracy 0.8792 \n",
            "Epoch 00057 | Loss 0.3011 | Accuracy 0.8792 \n",
            "Epoch 00058 | Loss 0.3171 | Accuracy 0.8792 \n",
            "Epoch 00059 | Loss 0.2658 | Accuracy 0.8792 \n",
            "Epoch 00060 | Loss 0.2933 | Accuracy 0.8738 \n",
            "Epoch 00061 | Loss 0.2403 | Accuracy 0.8738 \n",
            "Epoch 00062 | Loss 0.2817 | Accuracy 0.8738 \n",
            "Epoch 00063 | Loss 0.2991 | Accuracy 0.8738 \n",
            "Epoch 00064 | Loss 0.2803 | Accuracy 0.8792 \n",
            "Epoch 00065 | Loss 0.2733 | Accuracy 0.8792 \n",
            "Epoch 00066 | Loss 0.2790 | Accuracy 0.8792 \n",
            "Epoch 00067 | Loss 0.2804 | Accuracy 0.8846 \n",
            "Epoch 00068 | Loss 0.2348 | Accuracy 0.8900 \n",
            "Epoch 00069 | Loss 0.2468 | Accuracy 0.8846 \n",
            "Epoch 00070 | Loss 0.2617 | Accuracy 0.8900 \n",
            "Epoch 00071 | Loss 0.2554 | Accuracy 0.8846 \n",
            "Epoch 00072 | Loss 0.2576 | Accuracy 0.8846 \n",
            "Epoch 00073 | Loss 0.2282 | Accuracy 0.8846 \n",
            "Epoch 00074 | Loss 0.2571 | Accuracy 0.8846 \n",
            "Epoch 00075 | Loss 0.2002 | Accuracy 0.8952 \n",
            "Epoch 00076 | Loss 0.2054 | Accuracy 0.8900 \n",
            "Epoch 00077 | Loss 0.2273 | Accuracy 0.8900 \n",
            "Epoch 00078 | Loss 0.2428 | Accuracy 0.8846 \n",
            "Epoch 00079 | Loss 0.2179 | Accuracy 0.8846 \n",
            "Epoch 00080 | Loss 0.2142 | Accuracy 0.8952 \n",
            "Epoch 00081 | Loss 0.2196 | Accuracy 0.8952 \n",
            "Epoch 00082 | Loss 0.2212 | Accuracy 0.8952 \n",
            "Epoch 00083 | Loss 0.2159 | Accuracy 0.8900 \n",
            "Epoch 00084 | Loss 0.2196 | Accuracy 0.8900 \n",
            "Epoch 00085 | Loss 0.2780 | Accuracy 0.8900 \n",
            "Epoch 00086 | Loss 0.2279 | Accuracy 0.8900 \n",
            "Epoch 00087 | Loss 0.2150 | Accuracy 0.8900 \n",
            "Epoch 00088 | Loss 0.2295 | Accuracy 0.8900 \n",
            "Epoch 00089 | Loss 0.2192 | Accuracy 0.8952 \n",
            "Epoch 00090 | Loss 0.2528 | Accuracy 0.8900 \n",
            "Epoch 00091 | Loss 0.1913 | Accuracy 0.8900 \n",
            "Epoch 00092 | Loss 0.2120 | Accuracy 0.8900 \n",
            "Epoch 00093 | Loss 0.1829 | Accuracy 0.8952 \n",
            "Epoch 00094 | Loss 0.2167 | Accuracy 0.8952 \n",
            "Epoch 00095 | Loss 0.1948 | Accuracy 0.8952 \n",
            "Epoch 00096 | Loss 0.1913 | Accuracy 0.8900 \n",
            "Epoch 00097 | Loss 0.2148 | Accuracy 0.8900 \n",
            "Epoch 00098 | Loss 0.1845 | Accuracy 0.8900 \n",
            "Epoch 00099 | Loss 0.1865 | Accuracy 0.8900 \n",
            "Epoch 00100 | Loss 0.1675 | Accuracy 0.8900 \n",
            "Epoch 00101 | Loss 0.2160 | Accuracy 0.8900 \n",
            "Epoch 00102 | Loss 0.2109 | Accuracy 0.8900 \n",
            "Epoch 00103 | Loss 0.1875 | Accuracy 0.8900 \n",
            "Epoch 00104 | Loss 0.1859 | Accuracy 0.8900 \n",
            "Epoch 00105 | Loss 0.2028 | Accuracy 0.8900 \n",
            "Epoch 00106 | Loss 0.1955 | Accuracy 0.8952 \n",
            "Epoch 00107 | Loss 0.2042 | Accuracy 0.8952 \n",
            "Epoch 00108 | Loss 0.1699 | Accuracy 0.8952 \n",
            "Epoch 00109 | Loss 0.1931 | Accuracy 0.8952 \n",
            "Epoch 00110 | Loss 0.1881 | Accuracy 0.8900 \n",
            "Epoch 00111 | Loss 0.1553 | Accuracy 0.8900 \n",
            "Epoch 00112 | Loss 0.1533 | Accuracy 0.8900 \n",
            "Epoch 00113 | Loss 0.1689 | Accuracy 0.8900 \n",
            "Epoch 00114 | Loss 0.1711 | Accuracy 0.8900 \n",
            "Epoch 00115 | Loss 0.1901 | Accuracy 0.8900 \n",
            "Epoch 00116 | Loss 0.1851 | Accuracy 0.8900 \n",
            "Epoch 00117 | Loss 0.1693 | Accuracy 0.8900 \n",
            "Epoch 00118 | Loss 0.2039 | Accuracy 0.8900 \n",
            "Epoch 00119 | Loss 0.1578 | Accuracy 0.8900 \n",
            "Epoch 00120 | Loss 0.1636 | Accuracy 0.8900 \n",
            "Epoch 00121 | Loss 0.1615 | Accuracy 0.8900 \n",
            "Epoch 00122 | Loss 0.1385 | Accuracy 0.8900 \n",
            "Epoch 00123 | Loss 0.1700 | Accuracy 0.8900 \n",
            "Epoch 00124 | Loss 0.1634 | Accuracy 0.8952 \n",
            "Epoch 00125 | Loss 0.1700 | Accuracy 0.8900 \n",
            "Epoch 00126 | Loss 0.1742 | Accuracy 0.8900 \n",
            "Epoch 00127 | Loss 0.1525 | Accuracy 0.8900 \n",
            "Epoch 00128 | Loss 0.1487 | Accuracy 0.8900 \n",
            "Epoch 00129 | Loss 0.1568 | Accuracy 0.8900 \n",
            "Epoch 00130 | Loss 0.1751 | Accuracy 0.8900 \n",
            "Epoch 00131 | Loss 0.1604 | Accuracy 0.8900 \n",
            "Epoch 00132 | Loss 0.1709 | Accuracy 0.8900 \n",
            "Epoch 00133 | Loss 0.1824 | Accuracy 0.8900 \n",
            "Epoch 00134 | Loss 0.1865 | Accuracy 0.8900 \n",
            "Epoch 00135 | Loss 0.1517 | Accuracy 0.8900 \n",
            "Epoch 00136 | Loss 0.1544 | Accuracy 0.8900 \n",
            "Epoch 00137 | Loss 0.1574 | Accuracy 0.8900 \n",
            "Epoch 00138 | Loss 0.1560 | Accuracy 0.8900 \n",
            "Epoch 00139 | Loss 0.1682 | Accuracy 0.8900 \n",
            "Epoch 00140 | Loss 0.1568 | Accuracy 0.8900 \n",
            "Epoch 00141 | Loss 0.1392 | Accuracy 0.8900 \n",
            "Epoch 00142 | Loss 0.1603 | Accuracy 0.8900 \n",
            "Epoch 00143 | Loss 0.1407 | Accuracy 0.8900 \n",
            "Epoch 00144 | Loss 0.1481 | Accuracy 0.8900 \n",
            "Epoch 00145 | Loss 0.1131 | Accuracy 0.8900 \n",
            "Epoch 00146 | Loss 0.1365 | Accuracy 0.8900 \n",
            "Epoch 00147 | Loss 0.1588 | Accuracy 0.8900 \n",
            "Epoch 00148 | Loss 0.1638 | Accuracy 0.8900 \n",
            "Epoch 00149 | Loss 0.1413 | Accuracy 0.8900 \n",
            "Epoch 00150 | Loss 0.1704 | Accuracy 0.8900 \n",
            "Epoch 00151 | Loss 0.1667 | Accuracy 0.8900 \n",
            "Epoch 00152 | Loss 0.1431 | Accuracy 0.8900 \n",
            "Epoch 00153 | Loss 0.1308 | Accuracy 0.8900 \n",
            "Epoch 00154 | Loss 0.1568 | Accuracy 0.8900 \n",
            "Epoch 00155 | Loss 0.1677 | Accuracy 0.8900 \n",
            "Epoch 00156 | Loss 0.1636 | Accuracy 0.8900 \n",
            "Epoch 00157 | Loss 0.1392 | Accuracy 0.8900 \n",
            "Epoch 00158 | Loss 0.1564 | Accuracy 0.8900 \n",
            "Epoch 00159 | Loss 0.1329 | Accuracy 0.8900 \n",
            "Epoch 00160 | Loss 0.1422 | Accuracy 0.8952 \n",
            "Epoch 00161 | Loss 0.1303 | Accuracy 0.8900 \n",
            "Epoch 00162 | Loss 0.1314 | Accuracy 0.8900 \n",
            "Epoch 00163 | Loss 0.1571 | Accuracy 0.8900 \n",
            "Epoch 00164 | Loss 0.1332 | Accuracy 0.8952 \n",
            "Epoch 00165 | Loss 0.1550 | Accuracy 0.8952 \n",
            "Epoch 00166 | Loss 0.1659 | Accuracy 0.8900 \n",
            "Epoch 00167 | Loss 0.1231 | Accuracy 0.8952 \n",
            "Epoch 00168 | Loss 0.1561 | Accuracy 0.8900 \n",
            "Epoch 00169 | Loss 0.1500 | Accuracy 0.8900 \n",
            "Epoch 00170 | Loss 0.1638 | Accuracy 0.8900 \n",
            "Epoch 00171 | Loss 0.1471 | Accuracy 0.8900 \n",
            "Epoch 00172 | Loss 0.1401 | Accuracy 0.8900 \n",
            "Epoch 00173 | Loss 0.1256 | Accuracy 0.8900 \n",
            "Epoch 00174 | Loss 0.1379 | Accuracy 0.8900 \n",
            "Epoch 00175 | Loss 0.1206 | Accuracy 0.8900 \n",
            "Epoch 00176 | Loss 0.1452 | Accuracy 0.8900 \n",
            "Epoch 00177 | Loss 0.1303 | Accuracy 0.8900 \n",
            "Epoch 00178 | Loss 0.1389 | Accuracy 0.8900 \n",
            "Epoch 00179 | Loss 0.1220 | Accuracy 0.8952 \n",
            "Epoch 00180 | Loss 0.1551 | Accuracy 0.8952 \n",
            "Epoch 00181 | Loss 0.1381 | Accuracy 0.8952 \n",
            "Epoch 00182 | Loss 0.1282 | Accuracy 0.8952 \n",
            "Epoch 00183 | Loss 0.1472 | Accuracy 0.8952 \n",
            "Epoch 00184 | Loss 0.1264 | Accuracy 0.8952 \n",
            "Epoch 00185 | Loss 0.1021 | Accuracy 0.8900 \n",
            "Epoch 00186 | Loss 0.1317 | Accuracy 0.8900 \n",
            "Epoch 00187 | Loss 0.1212 | Accuracy 0.8900 \n",
            "Epoch 00188 | Loss 0.1354 | Accuracy 0.8900 \n",
            "Epoch 00189 | Loss 0.1144 | Accuracy 0.8900 \n",
            "Epoch 00190 | Loss 0.1174 | Accuracy 0.8900 \n",
            "Epoch 00191 | Loss 0.1350 | Accuracy 0.8900 \n",
            "Epoch 00192 | Loss 0.1044 | Accuracy 0.8900 \n",
            "Epoch 00193 | Loss 0.1327 | Accuracy 0.8900 \n",
            "Epoch 00194 | Loss 0.1454 | Accuracy 0.8952 \n",
            "Epoch 00195 | Loss 0.1445 | Accuracy 0.8952 \n",
            "Epoch 00196 | Loss 0.1191 | Accuracy 0.8952 \n",
            "Epoch 00197 | Loss 0.1406 | Accuracy 0.8900 \n",
            "Epoch 00198 | Loss 0.1010 | Accuracy 0.8846 \n",
            "Epoch 00199 | Loss 0.1283 | Accuracy 0.8846 \n"
          ]
        }
      ]
    },
    {
      "cell_type": "code",
      "source": [
        "# plot the loss and accuracy\n",
        "import matplotlib.pyplot as plt\n",
        "plt.plot(train_loss_ouput)\n",
        "plt.plot(val_acc_output)\n",
        "plt.legend(['Train Loss', 'Val Accuracy (f1-micro)'])\n",
        "plt.xlabel('epoch')\n",
        "plt.show()"
      ],
      "metadata": {
        "colab": {
          "base_uri": "https://localhost:8080/",
          "height": 279
        },
        "id": "WBdrUoB-KAqQ",
        "outputId": "b7a5ce58-94f4-4bf8-9bee-78af9e13df30"
      },
      "execution_count": 219,
      "outputs": [
        {
          "output_type": "display_data",
          "data": {
            "text/plain": [
              "<Figure size 432x288 with 1 Axes>"
            ],
            "image/png": "[encoded data removed]"
          },
          "metadata": {
            "needs_background": "light"
          }
        }
      ]
    },
    {
      "cell_type": "code",
      "source": [
        "import pandas as pd\n",
        "df = pd.DataFrame([[2.2,'mini_batch', 'GS-GCN']\n",
        "                ,[3.1,'full_batch', 'GS-GCN']\n",
        "                ,[2.5, 'mini_batch', 'GS-mean']\n",
        "                ,[3.5, 'full_batch','GS-mean']\n",
        "                ,[3.1, 'mini_batch', 'GS-maxpool']\n",
        "                ,[6.8, 'full_batch', 'GS-maxpool']\n",
        "                ,[10.7, 'mini_batch', 'GS-lstm']\n",
        "                ,[30.2, 'full_batch', 'GS-lstm']]\n",
        "                ,columns=['time (sec)', 'train_type', 'model'])"
      ],
      "metadata": {
        "id": "Xk3ejcX8rF3E"
      },
      "execution_count": 220,
      "outputs": []
    },
    {
      "cell_type": "code",
      "source": [
        "df"
      ],
      "metadata": {
        "colab": {
          "base_uri": "https://localhost:8080/",
          "height": 300
        },
        "id": "9NxqjNkNr6Wi",
        "outputId": "8d27bf81-3e19-4d90-e995-a42de515c0f8"
      },
      "execution_count": 221,
      "outputs": [
        {
          "output_type": "execute_result",
          "data": {
            "text/plain": [
              "   time (sec)  train_type       model\n",
              "0         2.2  mini_batch      GS-GCN\n",
              "1         3.1  full_batch      GS-GCN\n",
              "2         2.5  mini_batch     GS-mean\n",
              "3         3.5  full_batch     GS-mean\n",
              "4         3.1  mini_batch  GS-maxpool\n",
              "5         6.8  full_batch  GS-maxpool\n",
              "6        10.7  mini_batch     GS-lstm\n",
              "7        30.2  full_batch     GS-lstm"
            ],
            "text/html": [
              "\n",
              "  <div id=\"df-1792c89f-4c97-4904-ac9b-e9f05c1dcc9e\">\n",
              "    <div class=\"colab-df-container\">\n",
              "      <div>\n",
              "<style scoped>\n",
              "    .dataframe tbody tr th:only-of-type {\n",
              "        vertical-align: middle;\n",
              "    }\n",
              "\n",
              "    .dataframe tbody tr th {\n",
              "        vertical-align: top;\n",
              "    }\n",
              "\n",
              "    .dataframe thead th {\n",
              "        text-align: right;\n",
              "    }\n",
              "</style>\n",
              "<table border=\"1\" class=\"dataframe\">\n",
              "  <thead>\n",
              "    <tr style=\"text-align: right;\">\n",
              "      <th></th>\n",
              "      <th>time (sec)</th>\n",
              "      <th>train_type</th>\n",
              "      <th>model</th>\n",
              "    </tr>\n",
              "  </thead>\n",
              "  <tbody>\n",
              "    <tr>\n",
              "      <th>0</th>\n",
              "      <td>2.2</td>\n",
              "      <td>mini_batch</td>\n",
              "      <td>GS-GCN</td>\n",
              "    </tr>\n",
              "    <tr>\n",
              "      <th>1</th>\n",
              "      <td>3.1</td>\n",
              "      <td>full_batch</td>\n",
              "      <td>GS-GCN</td>\n",
              "    </tr>\n",
              "    <tr>\n",
              "      <th>2</th>\n",
              "      <td>2.5</td>\n",
              "      <td>mini_batch</td>\n",
              "      <td>GS-mean</td>\n",
              "    </tr>\n",
              "    <tr>\n",
              "      <th>3</th>\n",
              "      <td>3.5</td>\n",
              "      <td>full_batch</td>\n",
              "      <td>GS-mean</td>\n",
              "    </tr>\n",
              "    <tr>\n",
              "      <th>4</th>\n",
              "      <td>3.1</td>\n",
              "      <td>mini_batch</td>\n",
              "      <td>GS-maxpool</td>\n",
              "    </tr>\n",
              "    <tr>\n",
              "      <th>5</th>\n",
              "      <td>6.8</td>\n",
              "      <td>full_batch</td>\n",
              "      <td>GS-maxpool</td>\n",
              "    </tr>\n",
              "    <tr>\n",
              "      <th>6</th>\n",
              "      <td>10.7</td>\n",
              "      <td>mini_batch</td>\n",
              "      <td>GS-lstm</td>\n",
              "    </tr>\n",
              "    <tr>\n",
              "      <th>7</th>\n",
              "      <td>30.2</td>\n",
              "      <td>full_batch</td>\n",
              "      <td>GS-lstm</td>\n",
              "    </tr>\n",
              "  </tbody>\n",
              "</table>\n",
              "</div>\n",
              "      <button class=\"colab-df-convert\" onclick=\"convertToInteractive('df-1792c89f-4c97-4904-ac9b-e9f05c1dcc9e')\"\n",
              "              title=\"Convert this dataframe to an interactive table.\"\n",
              "              style=\"display:none;\">\n",
              "        \n",
              "  <svg xmlns=\"http://www.w3.org/2000/svg\" height=\"24px\"viewBox=\"0 0 24 24\"\n",
              "       width=\"24px\">\n",
              "    <path d=\"M0 0h24v24H0V0z\" fill=\"none\"/>\n",
              "    <path d=\"M18.56 5.44l.94 2.06.94-2.06 2.06-.94-2.06-.94-.94-2.06-.94 2.06-2.06.94zm-11 1L8.5 8.5l.94-2.06 2.06-.94-2.06-.94L8.5 2.5l-.94 2.06-2.06.94zm10 10l.94 2.06.94-2.06 2.06-.94-2.06-.94-.94-2.06-.94 2.06-2.06.94z\"/><path d=\"M17.41 7.96l-1.37-1.37c-.4-.4-.92-.59-1.43-.59-.52 0-1.04.2-1.43.59L10.3 9.45l-7.72 7.72c-.78.78-.78 2.05 0 2.83L4 21.41c.39.39.9.59 1.41.59.51 0 1.02-.2 1.41-.59l7.78-7.78 2.81-2.81c.8-.78.8-2.07 0-2.86zM5.41 20L4 18.59l7.72-7.72 1.47 1.35L5.41 20z\"/>\n",
              "  </svg>\n",
              "      </button>\n",
              "      \n",
              "  <style>\n",
              "    .colab-df-container {\n",
              "      display:flex;\n",
              "      flex-wrap:wrap;\n",
              "      gap: 12px;\n",
              "    }\n",
              "\n",
              "    .colab-df-convert {\n",
              "      background-color: #E8F0FE;\n",
              "      border: none;\n",
              "      border-radius: 50%;\n",
              "      cursor: pointer;\n",
              "      display: none;\n",
              "      fill: #1967D2;\n",
              "      height: 32px;\n",
              "      padding: 0 0 0 0;\n",
              "      width: 32px;\n",
              "    }\n",
              "\n",
              "    .colab-df-convert:hover {\n",
              "      background-color: #E2EBFA;\n",
              "      box-shadow: 0px 1px 2px rgba(60, 64, 67, 0.3), 0px 1px 3px 1px rgba(60, 64, 67, 0.15);\n",
              "      fill: #174EA6;\n",
              "    }\n",
              "\n",
              "    [theme=dark] .colab-df-convert {\n",
              "      background-color: #3B4455;\n",
              "      fill: #D2E3FC;\n",
              "    }\n",
              "\n",
              "    [theme=dark] .colab-df-convert:hover {\n",
              "      background-color: #434B5C;\n",
              "      box-shadow: 0px 1px 3px 1px rgba(0, 0, 0, 0.15);\n",
              "      filter: drop-shadow(0px 1px 2px rgba(0, 0, 0, 0.3));\n",
              "      fill: #FFFFFF;\n",
              "    }\n",
              "  </style>\n",
              "\n",
              "      <script>\n",
              "        const buttonEl =\n",
              "          document.querySelector('#df-1792c89f-4c97-4904-ac9b-e9f05c1dcc9e button.colab-df-convert');\n",
              "        buttonEl.style.display =\n",
              "          google.colab.kernel.accessAllowed ? 'block' : 'none';\n",
              "\n",
              "        async function convertToInteractive(key) {\n",
              "          const element = document.querySelector('#df-1792c89f-4c97-4904-ac9b-e9f05c1dcc9e');\n",
              "          const dataTable =\n",
              "            await google.colab.kernel.invokeFunction('convertToInteractive',\n",
              "                                                     [key], {});\n",
              "          if (!dataTable) return;\n",
              "\n",
              "          const docLinkHtml = 'Like what you see? Visit the ' +\n",
              "            '<a target=\"_blank\" href=https://colab.research.google.com/notebooks/data_table.ipynb>data table notebook</a>'\n",
              "            + ' to learn more about interactive tables.';\n",
              "          element.innerHTML = '';\n",
              "          dataTable['output_type'] = 'display_data';\n",
              "          await google.colab.output.renderOutput(dataTable, element);\n",
              "          const docLink = document.createElement('div');\n",
              "          docLink.innerHTML = docLinkHtml;\n",
              "          element.appendChild(docLink);\n",
              "        }\n",
              "      </script>\n",
              "    </div>\n",
              "  </div>\n",
              "  "
            ]
          },
          "metadata": {},
          "execution_count": 221
        }
      ]
    },
    {
      "cell_type": "code",
      "source": [
        "import seaborn as sns\n",
        "#Train run time \n",
        "sns.barplot(data=df, x='model', y='time (sec)', hue = 'train_type') # default : dodge=True\n",
        "plt.title('Training Runtimes', fontsize=20)\n",
        "plt.legend(fontsize=12)\n",
        "plt.show()"
      ],
      "metadata": {
        "colab": {
          "base_uri": "https://localhost:8080/",
          "height": 300
        },
        "id": "aj4QVVegpRhC",
        "outputId": "5cbc0cae-3855-4f61-e689-eb84e9004978"
      },
      "execution_count": 222,
      "outputs": [
        {
          "output_type": "display_data",
          "data": {
            "text/plain": [
              "<Figure size 432x288 with 1 Axes>"
            ],
            "image/png": "[encoded data removed]"
          },
          "metadata": {
            "needs_background": "light"
          }
        }
      ]
    },
    {
      "cell_type": "code",
      "source": [
        "x= [50, 100, 200, 300, 400, 500, 600, 700]\n",
        "y = [0.9056, 0.9071, 0.9123, 0.9062, 0.9051, 0.8996, 0.8988, 0.8903]\n",
        "plt.plot(x, y, color='red', marker='o', alpha=0.5, linewidth=2)\n",
        " \n",
        "plt.title(\"Accuracy over different sample size\", fontsize=15)\n",
        "plt.xlabel(\"Neighboorhood sample size(S1*S2)\", fontsize=10)\n",
        "plt.ylabel(\"f1-micro\", fontsize=10)\n",
        "plt.show()"
      ],
      "metadata": {
        "colab": {
          "base_uri": "https://localhost:8080/",
          "height": 297
        },
        "id": "M0NhOCvax41E",
        "outputId": "2afc645b-bc8e-488f-e1a0-a30fc101fd23"
      },
      "execution_count": 232,
      "outputs": [
        {
          "output_type": "display_data",
          "data": {
            "text/plain": [
              "<Figure size 432x288 with 1 Axes>"
            ],
            "image/png": "[encoded data removed]"
          },
          "metadata": {
            "needs_background": "light"
          }
        }
      ]
    }
  ]
}