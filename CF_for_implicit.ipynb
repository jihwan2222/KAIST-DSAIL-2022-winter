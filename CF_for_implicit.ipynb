{
  "nbformat": 4,
  "nbformat_minor": 0,
  "metadata": {
    "colab": {
      "provenance": [],
      "machine_shape": "hm"
    },
    "kernelspec": {
      "name": "python3",
      "display_name": "Python 3"
    },
    "language_info": {
      "name": "python"
    },
    "gpuClass": "standard"
  },
  "cells": [
    {
      "cell_type": "code",
      "execution_count": 1,
      "metadata": {
        "colab": {
          "base_uri": "https://localhost:8080/"
        },
        "id": "-furFVM-dN0I",
        "outputId": "7ebe2df0-ec92-4d57-840d-c1ca2ced3e60"
      },
      "outputs": [
        {
          "output_type": "stream",
          "name": "stderr",
          "text": [
            "/usr/local/lib/python3.8/dist-packages/implicit/gpu/__init__.py:13: UserWarning: CUDA extension is built, but disabling GPU support because of 'Cuda Error: no CUDA-capable device is detected (/project/./implicit/gpu/utils.h:71)'\n",
            "  warnings.warn(\n"
          ]
        }
      ],
      "source": [
        "from implicit.datasets.lastfm import get_lastfm"
      ]
    },
    {
      "cell_type": "code",
      "source": [
        "artists, users, artist_user_plays = get_lastfm()"
      ],
      "metadata": {
        "id": "UArYksoCdkxP"
      },
      "execution_count": 2,
      "outputs": []
    },
    {
      "cell_type": "code",
      "source": [
        "import numpy as np\n",
        "import pandas as pd\n",
        "import scipy.sparse\n",
        "\n",
        "from numpy import bincount, log, log1p\n",
        "from scipy.sparse import coo_matrix, linalg\n",
        "from sklearn.model_selection import train_test_split\n",
        "import matplotlib.pyplot as plt"
      ],
      "metadata": {
        "id": "eeSNKoFKdnZ0"
      },
      "execution_count": 250,
      "outputs": []
    },
    {
      "cell_type": "code",
      "source": [
        "from implicit.nearest_neighbours import bm25_weight"
      ],
      "metadata": {
        "id": "esrQ7BS4h3VD"
      },
      "execution_count": 10,
      "outputs": []
    },
    {
      "cell_type": "code",
      "source": [
        "artist_user_plays = bm25_weight(artist_user_plays, K1=100, B=0.8)"
      ],
      "metadata": {
        "id": "f2LAl5mPh6Zg"
      },
      "execution_count": 11,
      "outputs": []
    },
    {
      "cell_type": "code",
      "source": [
        "df = pd.DataFrame.sparse.from_spmatrix(artist_user_plays)\n",
        "df"
      ],
      "metadata": {
        "colab": {
          "base_uri": "https://localhost:8080/",
          "height": 424
        },
        "id": "x8j7mKqkfyMj",
        "outputId": "8518eae2-b6f3-4d6b-bc0a-4cf465e7612f"
      },
      "execution_count": 4,
      "outputs": [
        {
          "output_type": "execute_result",
          "data": {
            "text/plain": [
              "        0       1       2       3       4       5       6       7       \\\n",
              "0          0.0     0.0     0.0     0.0     0.0     0.0     0.0     0.0   \n",
              "1          0.0     0.0     0.0     0.0     0.0     0.0     0.0     0.0   \n",
              "2          0.0     0.0     0.0     0.0     0.0     0.0     0.0     0.0   \n",
              "3          0.0     0.0     0.0     0.0     0.0     0.0     0.0     0.0   \n",
              "4          0.0     0.0     0.0     0.0     0.0     0.0     0.0     0.0   \n",
              "...        ...     ...     ...     ...     ...     ...     ...     ...   \n",
              "292380     0.0     0.0     0.0     0.0     0.0     0.0     0.0     0.0   \n",
              "292381     0.0     0.0     0.0     0.0     0.0     0.0     0.0     0.0   \n",
              "292382     0.0     0.0     0.0     0.0     0.0     0.0     0.0     0.0   \n",
              "292383     0.0     0.0     0.0     0.0     0.0     0.0     0.0     0.0   \n",
              "292384     0.0     0.0     0.0     0.0     0.0     0.0     0.0     0.0   \n",
              "\n",
              "        8       9       ...  358858  358859  358860  358861  358862  358863  \\\n",
              "0          0.0     0.0  ...     0.0     0.0     0.0     0.0     0.0     0.0   \n",
              "1          0.0     0.0  ...     0.0     0.0     0.0     0.0     0.0     0.0   \n",
              "2          0.0     0.0  ...     0.0     0.0     0.0     0.0     0.0     0.0   \n",
              "3          0.0     0.0  ...     0.0     0.0     0.0     0.0     0.0     0.0   \n",
              "4          0.0     0.0  ...     0.0     0.0     0.0     0.0     0.0     0.0   \n",
              "...        ...     ...  ...     ...     ...     ...     ...     ...     ...   \n",
              "292380     0.0     0.0  ...     0.0     0.0     0.0     0.0     0.0     0.0   \n",
              "292381     0.0     0.0  ...     0.0     0.0     0.0     0.0     0.0     0.0   \n",
              "292382     0.0     0.0  ...     0.0     0.0     0.0     0.0     0.0     0.0   \n",
              "292383     0.0     0.0  ...     0.0     0.0     0.0     0.0     0.0     0.0   \n",
              "292384     0.0     0.0  ...     0.0     0.0     0.0     0.0     0.0     0.0   \n",
              "\n",
              "        358864  358865  358866  358867  \n",
              "0          0.0     0.0     0.0     0.0  \n",
              "1          0.0     0.0     0.0     0.0  \n",
              "2          0.0     0.0     0.0     0.0  \n",
              "3          0.0     0.0     0.0     0.0  \n",
              "4          0.0     0.0     0.0     0.0  \n",
              "...        ...     ...     ...     ...  \n",
              "292380     0.0     0.0     0.0     0.0  \n",
              "292381     0.0     0.0     0.0     0.0  \n",
              "292382     0.0     0.0     0.0     0.0  \n",
              "292383     0.0     0.0     0.0     0.0  \n",
              "292384     0.0     0.0     0.0     0.0  \n",
              "\n",
              "[292385 rows x 358868 columns]"
            ],
            "text/html": [
              "\n",
              "  <div id=\"df-0b5fabf2-e24e-40a8-906a-337111fbaacd\">\n",
              "    <div class=\"colab-df-container\">\n",
              "      <div>\n",
              "<style scoped>\n",
              "    .dataframe tbody tr th:only-of-type {\n",
              "        vertical-align: middle;\n",
              "    }\n",
              "\n",
              "    .dataframe tbody tr th {\n",
              "        vertical-align: top;\n",
              "    }\n",
              "\n",
              "    .dataframe thead th {\n",
              "        text-align: right;\n",
              "    }\n",
              "</style>\n",
              "<table border=\"1\" class=\"dataframe\">\n",
              "  <thead>\n",
              "    <tr style=\"text-align: right;\">\n",
              "      <th></th>\n",
              "      <th>0</th>\n",
              "      <th>1</th>\n",
              "      <th>2</th>\n",
              "      <th>3</th>\n",
              "      <th>4</th>\n",
              "      <th>5</th>\n",
              "      <th>6</th>\n",
              "      <th>7</th>\n",
              "      <th>8</th>\n",
              "      <th>9</th>\n",
              "      <th>...</th>\n",
              "      <th>358858</th>\n",
              "      <th>358859</th>\n",
              "      <th>358860</th>\n",
              "      <th>358861</th>\n",
              "      <th>358862</th>\n",
              "      <th>358863</th>\n",
              "      <th>358864</th>\n",
              "      <th>358865</th>\n",
              "      <th>358866</th>\n",
              "      <th>358867</th>\n",
              "    </tr>\n",
              "  </thead>\n",
              "  <tbody>\n",
              "    <tr>\n",
              "      <th>0</th>\n",
              "      <td>0.0</td>\n",
              "      <td>0.0</td>\n",
              "      <td>0.0</td>\n",
              "      <td>0.0</td>\n",
              "      <td>0.0</td>\n",
              "      <td>0.0</td>\n",
              "      <td>0.0</td>\n",
              "      <td>0.0</td>\n",
              "      <td>0.0</td>\n",
              "      <td>0.0</td>\n",
              "      <td>...</td>\n",
              "      <td>0.0</td>\n",
              "      <td>0.0</td>\n",
              "      <td>0.0</td>\n",
              "      <td>0.0</td>\n",
              "      <td>0.0</td>\n",
              "      <td>0.0</td>\n",
              "      <td>0.0</td>\n",
              "      <td>0.0</td>\n",
              "      <td>0.0</td>\n",
              "      <td>0.0</td>\n",
              "    </tr>\n",
              "    <tr>\n",
              "      <th>1</th>\n",
              "      <td>0.0</td>\n",
              "      <td>0.0</td>\n",
              "      <td>0.0</td>\n",
              "      <td>0.0</td>\n",
              "      <td>0.0</td>\n",
              "      <td>0.0</td>\n",
              "      <td>0.0</td>\n",
              "      <td>0.0</td>\n",
              "      <td>0.0</td>\n",
              "      <td>0.0</td>\n",
              "      <td>...</td>\n",
              "      <td>0.0</td>\n",
              "      <td>0.0</td>\n",
              "      <td>0.0</td>\n",
              "      <td>0.0</td>\n",
              "      <td>0.0</td>\n",
              "      <td>0.0</td>\n",
              "      <td>0.0</td>\n",
              "      <td>0.0</td>\n",
              "      <td>0.0</td>\n",
              "      <td>0.0</td>\n",
              "    </tr>\n",
              "    <tr>\n",
              "      <th>2</th>\n",
              "      <td>0.0</td>\n",
              "      <td>0.0</td>\n",
              "      <td>0.0</td>\n",
              "      <td>0.0</td>\n",
              "      <td>0.0</td>\n",
              "      <td>0.0</td>\n",
              "      <td>0.0</td>\n",
              "      <td>0.0</td>\n",
              "      <td>0.0</td>\n",
              "      <td>0.0</td>\n",
              "      <td>...</td>\n",
              "      <td>0.0</td>\n",
              "      <td>0.0</td>\n",
              "      <td>0.0</td>\n",
              "      <td>0.0</td>\n",
              "      <td>0.0</td>\n",
              "      <td>0.0</td>\n",
              "      <td>0.0</td>\n",
              "      <td>0.0</td>\n",
              "      <td>0.0</td>\n",
              "      <td>0.0</td>\n",
              "    </tr>\n",
              "    <tr>\n",
              "      <th>3</th>\n",
              "      <td>0.0</td>\n",
              "      <td>0.0</td>\n",
              "      <td>0.0</td>\n",
              "      <td>0.0</td>\n",
              "      <td>0.0</td>\n",
              "      <td>0.0</td>\n",
              "      <td>0.0</td>\n",
              "      <td>0.0</td>\n",
              "      <td>0.0</td>\n",
              "      <td>0.0</td>\n",
              "      <td>...</td>\n",
              "      <td>0.0</td>\n",
              "      <td>0.0</td>\n",
              "      <td>0.0</td>\n",
              "      <td>0.0</td>\n",
              "      <td>0.0</td>\n",
              "      <td>0.0</td>\n",
              "      <td>0.0</td>\n",
              "      <td>0.0</td>\n",
              "      <td>0.0</td>\n",
              "      <td>0.0</td>\n",
              "    </tr>\n",
              "    <tr>\n",
              "      <th>4</th>\n",
              "      <td>0.0</td>\n",
              "      <td>0.0</td>\n",
              "      <td>0.0</td>\n",
              "      <td>0.0</td>\n",
              "      <td>0.0</td>\n",
              "      <td>0.0</td>\n",
              "      <td>0.0</td>\n",
              "      <td>0.0</td>\n",
              "      <td>0.0</td>\n",
              "      <td>0.0</td>\n",
              "      <td>...</td>\n",
              "      <td>0.0</td>\n",
              "      <td>0.0</td>\n",
              "      <td>0.0</td>\n",
              "      <td>0.0</td>\n",
              "      <td>0.0</td>\n",
              "      <td>0.0</td>\n",
              "      <td>0.0</td>\n",
              "      <td>0.0</td>\n",
              "      <td>0.0</td>\n",
              "      <td>0.0</td>\n",
              "    </tr>\n",
              "    <tr>\n",
              "      <th>...</th>\n",
              "      <td>...</td>\n",
              "      <td>...</td>\n",
              "      <td>...</td>\n",
              "      <td>...</td>\n",
              "      <td>...</td>\n",
              "      <td>...</td>\n",
              "      <td>...</td>\n",
              "      <td>...</td>\n",
              "      <td>...</td>\n",
              "      <td>...</td>\n",
              "      <td>...</td>\n",
              "      <td>...</td>\n",
              "      <td>...</td>\n",
              "      <td>...</td>\n",
              "      <td>...</td>\n",
              "      <td>...</td>\n",
              "      <td>...</td>\n",
              "      <td>...</td>\n",
              "      <td>...</td>\n",
              "      <td>...</td>\n",
              "      <td>...</td>\n",
              "    </tr>\n",
              "    <tr>\n",
              "      <th>292380</th>\n",
              "      <td>0.0</td>\n",
              "      <td>0.0</td>\n",
              "      <td>0.0</td>\n",
              "      <td>0.0</td>\n",
              "      <td>0.0</td>\n",
              "      <td>0.0</td>\n",
              "      <td>0.0</td>\n",
              "      <td>0.0</td>\n",
              "      <td>0.0</td>\n",
              "      <td>0.0</td>\n",
              "      <td>...</td>\n",
              "      <td>0.0</td>\n",
              "      <td>0.0</td>\n",
              "      <td>0.0</td>\n",
              "      <td>0.0</td>\n",
              "      <td>0.0</td>\n",
              "      <td>0.0</td>\n",
              "      <td>0.0</td>\n",
              "      <td>0.0</td>\n",
              "      <td>0.0</td>\n",
              "      <td>0.0</td>\n",
              "    </tr>\n",
              "    <tr>\n",
              "      <th>292381</th>\n",
              "      <td>0.0</td>\n",
              "      <td>0.0</td>\n",
              "      <td>0.0</td>\n",
              "      <td>0.0</td>\n",
              "      <td>0.0</td>\n",
              "      <td>0.0</td>\n",
              "      <td>0.0</td>\n",
              "      <td>0.0</td>\n",
              "      <td>0.0</td>\n",
              "      <td>0.0</td>\n",
              "      <td>...</td>\n",
              "      <td>0.0</td>\n",
              "      <td>0.0</td>\n",
              "      <td>0.0</td>\n",
              "      <td>0.0</td>\n",
              "      <td>0.0</td>\n",
              "      <td>0.0</td>\n",
              "      <td>0.0</td>\n",
              "      <td>0.0</td>\n",
              "      <td>0.0</td>\n",
              "      <td>0.0</td>\n",
              "    </tr>\n",
              "    <tr>\n",
              "      <th>292382</th>\n",
              "      <td>0.0</td>\n",
              "      <td>0.0</td>\n",
              "      <td>0.0</td>\n",
              "      <td>0.0</td>\n",
              "      <td>0.0</td>\n",
              "      <td>0.0</td>\n",
              "      <td>0.0</td>\n",
              "      <td>0.0</td>\n",
              "      <td>0.0</td>\n",
              "      <td>0.0</td>\n",
              "      <td>...</td>\n",
              "      <td>0.0</td>\n",
              "      <td>0.0</td>\n",
              "      <td>0.0</td>\n",
              "      <td>0.0</td>\n",
              "      <td>0.0</td>\n",
              "      <td>0.0</td>\n",
              "      <td>0.0</td>\n",
              "      <td>0.0</td>\n",
              "      <td>0.0</td>\n",
              "      <td>0.0</td>\n",
              "    </tr>\n",
              "    <tr>\n",
              "      <th>292383</th>\n",
              "      <td>0.0</td>\n",
              "      <td>0.0</td>\n",
              "      <td>0.0</td>\n",
              "      <td>0.0</td>\n",
              "      <td>0.0</td>\n",
              "      <td>0.0</td>\n",
              "      <td>0.0</td>\n",
              "      <td>0.0</td>\n",
              "      <td>0.0</td>\n",
              "      <td>0.0</td>\n",
              "      <td>...</td>\n",
              "      <td>0.0</td>\n",
              "      <td>0.0</td>\n",
              "      <td>0.0</td>\n",
              "      <td>0.0</td>\n",
              "      <td>0.0</td>\n",
              "      <td>0.0</td>\n",
              "      <td>0.0</td>\n",
              "      <td>0.0</td>\n",
              "      <td>0.0</td>\n",
              "      <td>0.0</td>\n",
              "    </tr>\n",
              "    <tr>\n",
              "      <th>292384</th>\n",
              "      <td>0.0</td>\n",
              "      <td>0.0</td>\n",
              "      <td>0.0</td>\n",
              "      <td>0.0</td>\n",
              "      <td>0.0</td>\n",
              "      <td>0.0</td>\n",
              "      <td>0.0</td>\n",
              "      <td>0.0</td>\n",
              "      <td>0.0</td>\n",
              "      <td>0.0</td>\n",
              "      <td>...</td>\n",
              "      <td>0.0</td>\n",
              "      <td>0.0</td>\n",
              "      <td>0.0</td>\n",
              "      <td>0.0</td>\n",
              "      <td>0.0</td>\n",
              "      <td>0.0</td>\n",
              "      <td>0.0</td>\n",
              "      <td>0.0</td>\n",
              "      <td>0.0</td>\n",
              "      <td>0.0</td>\n",
              "    </tr>\n",
              "  </tbody>\n",
              "</table>\n",
              "<p>292385 rows × 358868 columns</p>\n",
              "</div>\n",
              "      <button class=\"colab-df-convert\" onclick=\"convertToInteractive('df-0b5fabf2-e24e-40a8-906a-337111fbaacd')\"\n",
              "              title=\"Convert this dataframe to an interactive table.\"\n",
              "              style=\"display:none;\">\n",
              "        \n",
              "  <svg xmlns=\"http://www.w3.org/2000/svg\" height=\"24px\"viewBox=\"0 0 24 24\"\n",
              "       width=\"24px\">\n",
              "    <path d=\"M0 0h24v24H0V0z\" fill=\"none\"/>\n",
              "    <path d=\"M18.56 5.44l.94 2.06.94-2.06 2.06-.94-2.06-.94-.94-2.06-.94 2.06-2.06.94zm-11 1L8.5 8.5l.94-2.06 2.06-.94-2.06-.94L8.5 2.5l-.94 2.06-2.06.94zm10 10l.94 2.06.94-2.06 2.06-.94-2.06-.94-.94-2.06-.94 2.06-2.06.94z\"/><path d=\"M17.41 7.96l-1.37-1.37c-.4-.4-.92-.59-1.43-.59-.52 0-1.04.2-1.43.59L10.3 9.45l-7.72 7.72c-.78.78-.78 2.05 0 2.83L4 21.41c.39.39.9.59 1.41.59.51 0 1.02-.2 1.41-.59l7.78-7.78 2.81-2.81c.8-.78.8-2.07 0-2.86zM5.41 20L4 18.59l7.72-7.72 1.47 1.35L5.41 20z\"/>\n",
              "  </svg>\n",
              "      </button>\n",
              "      \n",
              "  <style>\n",
              "    .colab-df-container {\n",
              "      display:flex;\n",
              "      flex-wrap:wrap;\n",
              "      gap: 12px;\n",
              "    }\n",
              "\n",
              "    .colab-df-convert {\n",
              "      background-color: #E8F0FE;\n",
              "      border: none;\n",
              "      border-radius: 50%;\n",
              "      cursor: pointer;\n",
              "      display: none;\n",
              "      fill: #1967D2;\n",
              "      height: 32px;\n",
              "      padding: 0 0 0 0;\n",
              "      width: 32px;\n",
              "    }\n",
              "\n",
              "    .colab-df-convert:hover {\n",
              "      background-color: #E2EBFA;\n",
              "      box-shadow: 0px 1px 2px rgba(60, 64, 67, 0.3), 0px 1px 3px 1px rgba(60, 64, 67, 0.15);\n",
              "      fill: #174EA6;\n",
              "    }\n",
              "\n",
              "    [theme=dark] .colab-df-convert {\n",
              "      background-color: #3B4455;\n",
              "      fill: #D2E3FC;\n",
              "    }\n",
              "\n",
              "    [theme=dark] .colab-df-convert:hover {\n",
              "      background-color: #434B5C;\n",
              "      box-shadow: 0px 1px 3px 1px rgba(0, 0, 0, 0.15);\n",
              "      filter: drop-shadow(0px 1px 2px rgba(0, 0, 0, 0.3));\n",
              "      fill: #FFFFFF;\n",
              "    }\n",
              "  </style>\n",
              "\n",
              "      <script>\n",
              "        const buttonEl =\n",
              "          document.querySelector('#df-0b5fabf2-e24e-40a8-906a-337111fbaacd button.colab-df-convert');\n",
              "        buttonEl.style.display =\n",
              "          google.colab.kernel.accessAllowed ? 'block' : 'none';\n",
              "\n",
              "        async function convertToInteractive(key) {\n",
              "          const element = document.querySelector('#df-0b5fabf2-e24e-40a8-906a-337111fbaacd');\n",
              "          const dataTable =\n",
              "            await google.colab.kernel.invokeFunction('convertToInteractive',\n",
              "                                                     [key], {});\n",
              "          if (!dataTable) return;\n",
              "\n",
              "          const docLinkHtml = 'Like what you see? Visit the ' +\n",
              "            '<a target=\"_blank\" href=https://colab.research.google.com/notebooks/data_table.ipynb>data table notebook</a>'\n",
              "            + ' to learn more about interactive tables.';\n",
              "          element.innerHTML = '';\n",
              "          dataTable['output_type'] = 'display_data';\n",
              "          await google.colab.output.renderOutput(dataTable, element);\n",
              "          const docLink = document.createElement('div');\n",
              "          docLink.innerHTML = docLinkHtml;\n",
              "          element.appendChild(docLink);\n",
              "        }\n",
              "      </script>\n",
              "    </div>\n",
              "  </div>\n",
              "  "
            ]
          },
          "metadata": {},
          "execution_count": 4
        }
      ]
    },
    {
      "cell_type": "code",
      "source": [
        "data = pd.read_csv('/content/drive/MyDrive/DSAIL/usersha1-artmbid-artname-plays.tsv', sep='\\t', header=None, names=['user', 'artist', 'plays'], usecols=[0,2,3])"
      ],
      "metadata": {
        "id": "ah-zzD3s2zM-"
      },
      "execution_count": 124,
      "outputs": []
    },
    {
      "cell_type": "code",
      "source": [
        "data"
      ],
      "metadata": {
        "colab": {
          "base_uri": "https://localhost:8080/",
          "height": 424
        },
        "id": "e-m3y9_rWUwX",
        "outputId": "616c2530-e4a8-401b-e324-947c4b94e989"
      },
      "execution_count": 142,
      "outputs": [
        {
          "output_type": "execute_result",
          "data": {
            "text/plain": [
              "                                              user                artist  \\\n",
              "0         00000c289a1829a808ac09c00daf10bc3c4e223b       betty blowtorch   \n",
              "1         00000c289a1829a808ac09c00daf10bc3c4e223b             die Ärzte   \n",
              "2         00000c289a1829a808ac09c00daf10bc3c4e223b     melissa etheridge   \n",
              "3         00000c289a1829a808ac09c00daf10bc3c4e223b             elvenking   \n",
              "4         00000c289a1829a808ac09c00daf10bc3c4e223b  juliette & the licks   \n",
              "...                                            ...                   ...   \n",
              "17535650                              sep 20, 2008            turbostaat   \n",
              "17535651                              sep 20, 2008         cuba missouri   \n",
              "17535652                              sep 20, 2008       little man tate   \n",
              "17535653                              sep 20, 2008             sigur rós   \n",
              "17535654                              sep 20, 2008            the smiths   \n",
              "\n",
              "          plays  \n",
              "0          2137  \n",
              "1          1099  \n",
              "2           897  \n",
              "3           717  \n",
              "4           706  \n",
              "...         ...  \n",
              "17535650     12  \n",
              "17535651     11  \n",
              "17535652     11  \n",
              "17535653     10  \n",
              "17535654     10  \n",
              "\n",
              "[17535655 rows x 3 columns]"
            ],
            "text/html": [
              "\n",
              "  <div id=\"df-53217a72-bff2-483a-b3c5-822ebfcff073\">\n",
              "    <div class=\"colab-df-container\">\n",
              "      <div>\n",
              "<style scoped>\n",
              "    .dataframe tbody tr th:only-of-type {\n",
              "        vertical-align: middle;\n",
              "    }\n",
              "\n",
              "    .dataframe tbody tr th {\n",
              "        vertical-align: top;\n",
              "    }\n",
              "\n",
              "    .dataframe thead th {\n",
              "        text-align: right;\n",
              "    }\n",
              "</style>\n",
              "<table border=\"1\" class=\"dataframe\">\n",
              "  <thead>\n",
              "    <tr style=\"text-align: right;\">\n",
              "      <th></th>\n",
              "      <th>user</th>\n",
              "      <th>artist</th>\n",
              "      <th>plays</th>\n",
              "    </tr>\n",
              "  </thead>\n",
              "  <tbody>\n",
              "    <tr>\n",
              "      <th>0</th>\n",
              "      <td>00000c289a1829a808ac09c00daf10bc3c4e223b</td>\n",
              "      <td>betty blowtorch</td>\n",
              "      <td>2137</td>\n",
              "    </tr>\n",
              "    <tr>\n",
              "      <th>1</th>\n",
              "      <td>00000c289a1829a808ac09c00daf10bc3c4e223b</td>\n",
              "      <td>die Ärzte</td>\n",
              "      <td>1099</td>\n",
              "    </tr>\n",
              "    <tr>\n",
              "      <th>2</th>\n",
              "      <td>00000c289a1829a808ac09c00daf10bc3c4e223b</td>\n",
              "      <td>melissa etheridge</td>\n",
              "      <td>897</td>\n",
              "    </tr>\n",
              "    <tr>\n",
              "      <th>3</th>\n",
              "      <td>00000c289a1829a808ac09c00daf10bc3c4e223b</td>\n",
              "      <td>elvenking</td>\n",
              "      <td>717</td>\n",
              "    </tr>\n",
              "    <tr>\n",
              "      <th>4</th>\n",
              "      <td>00000c289a1829a808ac09c00daf10bc3c4e223b</td>\n",
              "      <td>juliette &amp; the licks</td>\n",
              "      <td>706</td>\n",
              "    </tr>\n",
              "    <tr>\n",
              "      <th>...</th>\n",
              "      <td>...</td>\n",
              "      <td>...</td>\n",
              "      <td>...</td>\n",
              "    </tr>\n",
              "    <tr>\n",
              "      <th>17535650</th>\n",
              "      <td>sep 20, 2008</td>\n",
              "      <td>turbostaat</td>\n",
              "      <td>12</td>\n",
              "    </tr>\n",
              "    <tr>\n",
              "      <th>17535651</th>\n",
              "      <td>sep 20, 2008</td>\n",
              "      <td>cuba missouri</td>\n",
              "      <td>11</td>\n",
              "    </tr>\n",
              "    <tr>\n",
              "      <th>17535652</th>\n",
              "      <td>sep 20, 2008</td>\n",
              "      <td>little man tate</td>\n",
              "      <td>11</td>\n",
              "    </tr>\n",
              "    <tr>\n",
              "      <th>17535653</th>\n",
              "      <td>sep 20, 2008</td>\n",
              "      <td>sigur rós</td>\n",
              "      <td>10</td>\n",
              "    </tr>\n",
              "    <tr>\n",
              "      <th>17535654</th>\n",
              "      <td>sep 20, 2008</td>\n",
              "      <td>the smiths</td>\n",
              "      <td>10</td>\n",
              "    </tr>\n",
              "  </tbody>\n",
              "</table>\n",
              "<p>17535655 rows × 3 columns</p>\n",
              "</div>\n",
              "      <button class=\"colab-df-convert\" onclick=\"convertToInteractive('df-53217a72-bff2-483a-b3c5-822ebfcff073')\"\n",
              "              title=\"Convert this dataframe to an interactive table.\"\n",
              "              style=\"display:none;\">\n",
              "        \n",
              "  <svg xmlns=\"http://www.w3.org/2000/svg\" height=\"24px\"viewBox=\"0 0 24 24\"\n",
              "       width=\"24px\">\n",
              "    <path d=\"M0 0h24v24H0V0z\" fill=\"none\"/>\n",
              "    <path d=\"M18.56 5.44l.94 2.06.94-2.06 2.06-.94-2.06-.94-.94-2.06-.94 2.06-2.06.94zm-11 1L8.5 8.5l.94-2.06 2.06-.94-2.06-.94L8.5 2.5l-.94 2.06-2.06.94zm10 10l.94 2.06.94-2.06 2.06-.94-2.06-.94-.94-2.06-.94 2.06-2.06.94z\"/><path d=\"M17.41 7.96l-1.37-1.37c-.4-.4-.92-.59-1.43-.59-.52 0-1.04.2-1.43.59L10.3 9.45l-7.72 7.72c-.78.78-.78 2.05 0 2.83L4 21.41c.39.39.9.59 1.41.59.51 0 1.02-.2 1.41-.59l7.78-7.78 2.81-2.81c.8-.78.8-2.07 0-2.86zM5.41 20L4 18.59l7.72-7.72 1.47 1.35L5.41 20z\"/>\n",
              "  </svg>\n",
              "      </button>\n",
              "      \n",
              "  <style>\n",
              "    .colab-df-container {\n",
              "      display:flex;\n",
              "      flex-wrap:wrap;\n",
              "      gap: 12px;\n",
              "    }\n",
              "\n",
              "    .colab-df-convert {\n",
              "      background-color: #E8F0FE;\n",
              "      border: none;\n",
              "      border-radius: 50%;\n",
              "      cursor: pointer;\n",
              "      display: none;\n",
              "      fill: #1967D2;\n",
              "      height: 32px;\n",
              "      padding: 0 0 0 0;\n",
              "      width: 32px;\n",
              "    }\n",
              "\n",
              "    .colab-df-convert:hover {\n",
              "      background-color: #E2EBFA;\n",
              "      box-shadow: 0px 1px 2px rgba(60, 64, 67, 0.3), 0px 1px 3px 1px rgba(60, 64, 67, 0.15);\n",
              "      fill: #174EA6;\n",
              "    }\n",
              "\n",
              "    [theme=dark] .colab-df-convert {\n",
              "      background-color: #3B4455;\n",
              "      fill: #D2E3FC;\n",
              "    }\n",
              "\n",
              "    [theme=dark] .colab-df-convert:hover {\n",
              "      background-color: #434B5C;\n",
              "      box-shadow: 0px 1px 3px 1px rgba(0, 0, 0, 0.15);\n",
              "      filter: drop-shadow(0px 1px 2px rgba(0, 0, 0, 0.3));\n",
              "      fill: #FFFFFF;\n",
              "    }\n",
              "  </style>\n",
              "\n",
              "      <script>\n",
              "        const buttonEl =\n",
              "          document.querySelector('#df-53217a72-bff2-483a-b3c5-822ebfcff073 button.colab-df-convert');\n",
              "        buttonEl.style.display =\n",
              "          google.colab.kernel.accessAllowed ? 'block' : 'none';\n",
              "\n",
              "        async function convertToInteractive(key) {\n",
              "          const element = document.querySelector('#df-53217a72-bff2-483a-b3c5-822ebfcff073');\n",
              "          const dataTable =\n",
              "            await google.colab.kernel.invokeFunction('convertToInteractive',\n",
              "                                                     [key], {});\n",
              "          if (!dataTable) return;\n",
              "\n",
              "          const docLinkHtml = 'Like what you see? Visit the ' +\n",
              "            '<a target=\"_blank\" href=https://colab.research.google.com/notebooks/data_table.ipynb>data table notebook</a>'\n",
              "            + ' to learn more about interactive tables.';\n",
              "          element.innerHTML = '';\n",
              "          dataTable['output_type'] = 'display_data';\n",
              "          await google.colab.output.renderOutput(dataTable, element);\n",
              "          const docLink = document.createElement('div');\n",
              "          docLink.innerHTML = docLinkHtml;\n",
              "          element.appendChild(docLink);\n",
              "        }\n",
              "      </script>\n",
              "    </div>\n",
              "  </div>\n",
              "  "
            ]
          },
          "metadata": {},
          "execution_count": 142
        }
      ]
    },
    {
      "cell_type": "code",
      "source": [
        "data[(data['plays']<100000) & (data['plays']>10000)]"
      ],
      "metadata": {
        "colab": {
          "base_uri": "https://localhost:8080/",
          "height": 424
        },
        "id": "7X390QxE8NK1",
        "outputId": "02608618-7856-4a37-b51a-c2feb25bb52c"
      },
      "execution_count": 143,
      "outputs": [
        {
          "output_type": "execute_result",
          "data": {
            "text/plain": [
              "                                              user                    artist  \\\n",
              "49        00001411dc427966b17297bf4d69e7e193135d89  the most serene republic   \n",
              "891       00029d80b8af94f2d5e3349ceb28b7304f80c1c4           nine inch nails   \n",
              "10692     00277ccecc376837e57b6d6b58330d1bafc90c73                     ac/dc   \n",
              "11311     0028ee93676310a78387c6cfad928ce8f3ea50a2                 new order   \n",
              "14451     0033ee7378661b88b245b1f67cc622ff63a51061               the beatles   \n",
              "...                                            ...                       ...   \n",
              "17517986  ffb675bf47413af2bb82151904a61e3dbbd5fb1d                   ja rule   \n",
              "17518725  ffba5496d4a7ea01f70b05806a8689d6f25d777b                bill evans   \n",
              "17519147  ffbbd9e0a6c65bf15f076e8c97fe9c94cdfe456c                      tool   \n",
              "17520346  ffc029b0209a08e0da67dfe6bba7c580c005bb38               sonic youth   \n",
              "17529762  ffe8dae1637f934d8529ec1496f0df9e5f53bab5                 blink-182   \n",
              "\n",
              "          plays  \n",
              "49        12763  \n",
              "891       11092  \n",
              "10692     17087  \n",
              "11311     18941  \n",
              "14451     39655  \n",
              "...         ...  \n",
              "17517986  12733  \n",
              "17518725  29487  \n",
              "17519147  35435  \n",
              "17520346  11975  \n",
              "17529762  10299  \n",
              "\n",
              "[5764 rows x 3 columns]"
            ],
            "text/html": [
              "\n",
              "  <div id=\"df-9eeb4cd8-b8bf-4769-ae2d-0eecdea0b8bf\">\n",
              "    <div class=\"colab-df-container\">\n",
              "      <div>\n",
              "<style scoped>\n",
              "    .dataframe tbody tr th:only-of-type {\n",
              "        vertical-align: middle;\n",
              "    }\n",
              "\n",
              "    .dataframe tbody tr th {\n",
              "        vertical-align: top;\n",
              "    }\n",
              "\n",
              "    .dataframe thead th {\n",
              "        text-align: right;\n",
              "    }\n",
              "</style>\n",
              "<table border=\"1\" class=\"dataframe\">\n",
              "  <thead>\n",
              "    <tr style=\"text-align: right;\">\n",
              "      <th></th>\n",
              "      <th>user</th>\n",
              "      <th>artist</th>\n",
              "      <th>plays</th>\n",
              "    </tr>\n",
              "  </thead>\n",
              "  <tbody>\n",
              "    <tr>\n",
              "      <th>49</th>\n",
              "      <td>00001411dc427966b17297bf4d69e7e193135d89</td>\n",
              "      <td>the most serene republic</td>\n",
              "      <td>12763</td>\n",
              "    </tr>\n",
              "    <tr>\n",
              "      <th>891</th>\n",
              "      <td>00029d80b8af94f2d5e3349ceb28b7304f80c1c4</td>\n",
              "      <td>nine inch nails</td>\n",
              "      <td>11092</td>\n",
              "    </tr>\n",
              "    <tr>\n",
              "      <th>10692</th>\n",
              "      <td>00277ccecc376837e57b6d6b58330d1bafc90c73</td>\n",
              "      <td>ac/dc</td>\n",
              "      <td>17087</td>\n",
              "    </tr>\n",
              "    <tr>\n",
              "      <th>11311</th>\n",
              "      <td>0028ee93676310a78387c6cfad928ce8f3ea50a2</td>\n",
              "      <td>new order</td>\n",
              "      <td>18941</td>\n",
              "    </tr>\n",
              "    <tr>\n",
              "      <th>14451</th>\n",
              "      <td>0033ee7378661b88b245b1f67cc622ff63a51061</td>\n",
              "      <td>the beatles</td>\n",
              "      <td>39655</td>\n",
              "    </tr>\n",
              "    <tr>\n",
              "      <th>...</th>\n",
              "      <td>...</td>\n",
              "      <td>...</td>\n",
              "      <td>...</td>\n",
              "    </tr>\n",
              "    <tr>\n",
              "      <th>17517986</th>\n",
              "      <td>ffb675bf47413af2bb82151904a61e3dbbd5fb1d</td>\n",
              "      <td>ja rule</td>\n",
              "      <td>12733</td>\n",
              "    </tr>\n",
              "    <tr>\n",
              "      <th>17518725</th>\n",
              "      <td>ffba5496d4a7ea01f70b05806a8689d6f25d777b</td>\n",
              "      <td>bill evans</td>\n",
              "      <td>29487</td>\n",
              "    </tr>\n",
              "    <tr>\n",
              "      <th>17519147</th>\n",
              "      <td>ffbbd9e0a6c65bf15f076e8c97fe9c94cdfe456c</td>\n",
              "      <td>tool</td>\n",
              "      <td>35435</td>\n",
              "    </tr>\n",
              "    <tr>\n",
              "      <th>17520346</th>\n",
              "      <td>ffc029b0209a08e0da67dfe6bba7c580c005bb38</td>\n",
              "      <td>sonic youth</td>\n",
              "      <td>11975</td>\n",
              "    </tr>\n",
              "    <tr>\n",
              "      <th>17529762</th>\n",
              "      <td>ffe8dae1637f934d8529ec1496f0df9e5f53bab5</td>\n",
              "      <td>blink-182</td>\n",
              "      <td>10299</td>\n",
              "    </tr>\n",
              "  </tbody>\n",
              "</table>\n",
              "<p>5764 rows × 3 columns</p>\n",
              "</div>\n",
              "      <button class=\"colab-df-convert\" onclick=\"convertToInteractive('df-9eeb4cd8-b8bf-4769-ae2d-0eecdea0b8bf')\"\n",
              "              title=\"Convert this dataframe to an interactive table.\"\n",
              "              style=\"display:none;\">\n",
              "        \n",
              "  <svg xmlns=\"http://www.w3.org/2000/svg\" height=\"24px\"viewBox=\"0 0 24 24\"\n",
              "       width=\"24px\">\n",
              "    <path d=\"M0 0h24v24H0V0z\" fill=\"none\"/>\n",
              "    <path d=\"M18.56 5.44l.94 2.06.94-2.06 2.06-.94-2.06-.94-.94-2.06-.94 2.06-2.06.94zm-11 1L8.5 8.5l.94-2.06 2.06-.94-2.06-.94L8.5 2.5l-.94 2.06-2.06.94zm10 10l.94 2.06.94-2.06 2.06-.94-2.06-.94-.94-2.06-.94 2.06-2.06.94z\"/><path d=\"M17.41 7.96l-1.37-1.37c-.4-.4-.92-.59-1.43-.59-.52 0-1.04.2-1.43.59L10.3 9.45l-7.72 7.72c-.78.78-.78 2.05 0 2.83L4 21.41c.39.39.9.59 1.41.59.51 0 1.02-.2 1.41-.59l7.78-7.78 2.81-2.81c.8-.78.8-2.07 0-2.86zM5.41 20L4 18.59l7.72-7.72 1.47 1.35L5.41 20z\"/>\n",
              "  </svg>\n",
              "      </button>\n",
              "      \n",
              "  <style>\n",
              "    .colab-df-container {\n",
              "      display:flex;\n",
              "      flex-wrap:wrap;\n",
              "      gap: 12px;\n",
              "    }\n",
              "\n",
              "    .colab-df-convert {\n",
              "      background-color: #E8F0FE;\n",
              "      border: none;\n",
              "      border-radius: 50%;\n",
              "      cursor: pointer;\n",
              "      display: none;\n",
              "      fill: #1967D2;\n",
              "      height: 32px;\n",
              "      padding: 0 0 0 0;\n",
              "      width: 32px;\n",
              "    }\n",
              "\n",
              "    .colab-df-convert:hover {\n",
              "      background-color: #E2EBFA;\n",
              "      box-shadow: 0px 1px 2px rgba(60, 64, 67, 0.3), 0px 1px 3px 1px rgba(60, 64, 67, 0.15);\n",
              "      fill: #174EA6;\n",
              "    }\n",
              "\n",
              "    [theme=dark] .colab-df-convert {\n",
              "      background-color: #3B4455;\n",
              "      fill: #D2E3FC;\n",
              "    }\n",
              "\n",
              "    [theme=dark] .colab-df-convert:hover {\n",
              "      background-color: #434B5C;\n",
              "      box-shadow: 0px 1px 3px 1px rgba(0, 0, 0, 0.15);\n",
              "      filter: drop-shadow(0px 1px 2px rgba(0, 0, 0, 0.3));\n",
              "      fill: #FFFFFF;\n",
              "    }\n",
              "  </style>\n",
              "\n",
              "      <script>\n",
              "        const buttonEl =\n",
              "          document.querySelector('#df-9eeb4cd8-b8bf-4769-ae2d-0eecdea0b8bf button.colab-df-convert');\n",
              "        buttonEl.style.display =\n",
              "          google.colab.kernel.accessAllowed ? 'block' : 'none';\n",
              "\n",
              "        async function convertToInteractive(key) {\n",
              "          const element = document.querySelector('#df-9eeb4cd8-b8bf-4769-ae2d-0eecdea0b8bf');\n",
              "          const dataTable =\n",
              "            await google.colab.kernel.invokeFunction('convertToInteractive',\n",
              "                                                     [key], {});\n",
              "          if (!dataTable) return;\n",
              "\n",
              "          const docLinkHtml = 'Like what you see? Visit the ' +\n",
              "            '<a target=\"_blank\" href=https://colab.research.google.com/notebooks/data_table.ipynb>data table notebook</a>'\n",
              "            + ' to learn more about interactive tables.';\n",
              "          element.innerHTML = '';\n",
              "          dataTable['output_type'] = 'display_data';\n",
              "          await google.colab.output.renderOutput(dataTable, element);\n",
              "          const docLink = document.createElement('div');\n",
              "          docLink.innerHTML = docLinkHtml;\n",
              "          element.appendChild(docLink);\n",
              "        }\n",
              "      </script>\n",
              "    </div>\n",
              "  </div>\n",
              "  "
            ]
          },
          "metadata": {},
          "execution_count": 143
        }
      ]
    },
    {
      "cell_type": "code",
      "source": [
        "artist_count = data.groupby('artist')['user'].count()\n",
        "artist_count.sort_values(ascending=False)[:100]"
      ],
      "metadata": {
        "colab": {
          "base_uri": "https://localhost:8080/"
        },
        "id": "18BV8tjY0U0G",
        "outputId": "114c48d5-78ed-4d59-a718-75976c7bdeca"
      },
      "execution_count": 144,
      "outputs": [
        {
          "output_type": "execute_result",
          "data": {
            "text/plain": [
              "artist\n",
              "radiohead                77254\n",
              "the beatles              76245\n",
              "coldplay                 66658\n",
              "red hot chili peppers    48924\n",
              "muse                     46954\n",
              "                         ...  \n",
              "beirut                   16750\n",
              "cat power                16710\n",
              "jimi hendrix             16690\n",
              "black sabbath            16658\n",
              "aphex twin               16539\n",
              "Name: user, Length: 100, dtype: int64"
            ]
          },
          "metadata": {},
          "execution_count": 144
        }
      ]
    },
    {
      "cell_type": "code",
      "source": [
        "artist_count.sort_values(ascending=False)[:2000]"
      ],
      "metadata": {
        "colab": {
          "base_uri": "https://localhost:8080/"
        },
        "id": "hHe1-Csm0-XR",
        "outputId": "d9ac317d-6441-4d89-ea26-526b0a832b0d"
      },
      "execution_count": 145,
      "outputs": [
        {
          "output_type": "execute_result",
          "data": {
            "text/plain": [
              "artist\n",
              "radiohead                77254\n",
              "the beatles              76245\n",
              "coldplay                 66658\n",
              "red hot chili peppers    48924\n",
              "muse                     46954\n",
              "                         ...  \n",
              "four year strong          1451\n",
              "acceptance                1450\n",
              "annie                     1450\n",
              "necro                     1450\n",
              "the beautiful south       1449\n",
              "Name: user, Length: 2000, dtype: int64"
            ]
          },
          "metadata": {},
          "execution_count": 145
        }
      ]
    },
    {
      "cell_type": "code",
      "source": [
        "user_count = data.groupby('user')['artist'].count()\n",
        "user_count.sort_values(ascending=False)[:1000]"
      ],
      "metadata": {
        "colab": {
          "base_uri": "https://localhost:8080/"
        },
        "id": "jcWDxafX1EY_",
        "outputId": "f0a54fb2-1b1b-4501-f9d5-59a42637b1fe"
      },
      "execution_count": 146,
      "outputs": [
        {
          "output_type": "execute_result",
          "data": {
            "text/plain": [
              "user\n",
              "2040b3d3cb47caace19e728090a88d6b1087aa8e    166\n",
              "13c0df8a58cd3ca9e37d8e90662d2ad3c062eaa5    166\n",
              "52bf0682648b44e6cc27ebe512dd4fa3455a11c2    150\n",
              "7679da839e1a6c2d299c7fd6834fb9bf6e229224    139\n",
              "8d8643cded0ac18e66a3c5a2b74de21fbca0e6b7    132\n",
              "                                           ... \n",
              "b3677ebc22eaab611c8d3c50f41961d6af7a7b57     84\n",
              "a9cca039bdf71f6b46a740720d6bb3948bd5841f     84\n",
              "32043d80067d9f383ddd16266e0a3adcfe5e76fa     84\n",
              "d1de047744abcec84ec2a97ce820c7901fbbf266     84\n",
              "b4ef1b63fc188fc7953892f214f636f9d556f0b1     84\n",
              "Name: artist, Length: 1000, dtype: int64"
            ]
          },
          "metadata": {},
          "execution_count": 146
        }
      ]
    },
    {
      "cell_type": "code",
      "source": [
        "user_index = user_count.sort_values(ascending=False)[:1000].index"
      ],
      "metadata": {
        "id": "8gENTTnw1J41"
      },
      "execution_count": 147,
      "outputs": []
    },
    {
      "cell_type": "code",
      "source": [
        "item_index = artist_count.sort_values(ascending=False)[:2000].index"
      ],
      "metadata": {
        "id": "YWI89tOX2hwX"
      },
      "execution_count": 148,
      "outputs": []
    },
    {
      "cell_type": "code",
      "source": [
        "df_user = data[data['user'] == user_index[0]]\n",
        "for i in range(1,1000):\n",
        "    df_user = pd.concat([ df_user, data[data['user'] == user_index[i]] ])"
      ],
      "metadata": {
        "id": "LJaouAJAr6MT"
      },
      "execution_count": 158,
      "outputs": []
    },
    {
      "cell_type": "code",
      "source": [
        "df_item = data[data['artist'] == item_index[0]]\n",
        "for i in range(1,2000):\n",
        "    df_item = pd.concat([ df_item, data[data['artist'] == item_index[i]] ])\n",
        "    print(i)"
      ],
      "metadata": {
        "id": "u7EiwkbluPJp"
      },
      "execution_count": null,
      "outputs": []
    },
    {
      "cell_type": "code",
      "source": [
        "intersected_df = pd.merge(df_user, df_item, how='inner')\n",
        "print(intersected_df)"
      ],
      "metadata": {
        "colab": {
          "base_uri": "https://localhost:8080/"
        },
        "id": "mZT1ITdb17CH",
        "outputId": "38f92ebf-7595-4791-f0ed-b3e5549a6e43"
      },
      "execution_count": 161,
      "outputs": [
        {
          "output_type": "stream",
          "name": "stdout",
          "text": [
            "                                           user                  artist  plays\n",
            "0      2040b3d3cb47caace19e728090a88d6b1087aa8e                  pixies    757\n",
            "1      2040b3d3cb47caace19e728090a88d6b1087aa8e              tiger army    613\n",
            "2      2040b3d3cb47caace19e728090a88d6b1087aa8e  leevi and the leavings    444\n",
            "3      2040b3d3cb47caace19e728090a88d6b1087aa8e              the smiths    427\n",
            "4      2040b3d3cb47caace19e728090a88d6b1087aa8e              the adicts    372\n",
            "...                                         ...                     ...    ...\n",
            "39854  b4ef1b63fc188fc7953892f214f636f9d556f0b1              elton john     11\n",
            "39855  b4ef1b63fc188fc7953892f214f636f9d556f0b1                  eagles      4\n",
            "39856  b4ef1b63fc188fc7953892f214f636f9d556f0b1         robbie williams      4\n",
            "39857  b4ef1b63fc188fc7953892f214f636f9d556f0b1              bob marley      3\n",
            "39858  b4ef1b63fc188fc7953892f214f636f9d556f0b1           nat king cole      3\n",
            "\n",
            "[39859 rows x 3 columns]\n"
          ]
        }
      ]
    },
    {
      "cell_type": "code",
      "source": [
        "intersected_df.to_csv('drive/My Drive/DSAIL/intersected_df.csv', index=False)"
      ],
      "metadata": {
        "id": "LhcNeZXF2CUz"
      },
      "execution_count": 162,
      "outputs": []
    },
    {
      "cell_type": "code",
      "source": [
        "df_user"
      ],
      "metadata": {
        "colab": {
          "base_uri": "https://localhost:8080/",
          "height": 424
        },
        "id": "XLIj4_Y-5kho",
        "outputId": "4e41a0a8-1484-4292-c42e-a06c0167add0"
      },
      "execution_count": 163,
      "outputs": [
        {
          "output_type": "execute_result",
          "data": {
            "text/plain": [
              "                                              user                  artist  \\\n",
              "2214725   2040b3d3cb47caace19e728090a88d6b1087aa8e                 perkele   \n",
              "2214726   2040b3d3cb47caace19e728090a88d6b1087aa8e  the murder city devils   \n",
              "2214727   2040b3d3cb47caace19e728090a88d6b1087aa8e                  pixies   \n",
              "2214728   2040b3d3cb47caace19e728090a88d6b1087aa8e                 tragedy   \n",
              "2214729   2040b3d3cb47caace19e728090a88d6b1087aa8e              tiger army   \n",
              "...                                            ...                     ...   \n",
              "12377607  b4ef1b63fc188fc7953892f214f636f9d556f0b1              the champs   \n",
              "12377608  b4ef1b63fc188fc7953892f214f636f9d556f0b1            the coasters   \n",
              "12377609  b4ef1b63fc188fc7953892f214f636f9d556f0b1            the fortunes   \n",
              "12377610  b4ef1b63fc188fc7953892f214f636f9d556f0b1            the rubettes   \n",
              "12377611  b4ef1b63fc188fc7953892f214f636f9d556f0b1              the tokens   \n",
              "\n",
              "          plays  \n",
              "2214725     837  \n",
              "2214726     761  \n",
              "2214727     757  \n",
              "2214728     662  \n",
              "2214729     613  \n",
              "...         ...  \n",
              "12377607      3  \n",
              "12377608      3  \n",
              "12377609      3  \n",
              "12377610      3  \n",
              "12377611      3  \n",
              "\n",
              "[90872 rows x 3 columns]"
            ],
            "text/html": [
              "\n",
              "  <div id=\"df-dc369605-7e53-492f-b568-4a3d9d6e58da\">\n",
              "    <div class=\"colab-df-container\">\n",
              "      <div>\n",
              "<style scoped>\n",
              "    .dataframe tbody tr th:only-of-type {\n",
              "        vertical-align: middle;\n",
              "    }\n",
              "\n",
              "    .dataframe tbody tr th {\n",
              "        vertical-align: top;\n",
              "    }\n",
              "\n",
              "    .dataframe thead th {\n",
              "        text-align: right;\n",
              "    }\n",
              "</style>\n",
              "<table border=\"1\" class=\"dataframe\">\n",
              "  <thead>\n",
              "    <tr style=\"text-align: right;\">\n",
              "      <th></th>\n",
              "      <th>user</th>\n",
              "      <th>artist</th>\n",
              "      <th>plays</th>\n",
              "    </tr>\n",
              "  </thead>\n",
              "  <tbody>\n",
              "    <tr>\n",
              "      <th>2214725</th>\n",
              "      <td>2040b3d3cb47caace19e728090a88d6b1087aa8e</td>\n",
              "      <td>perkele</td>\n",
              "      <td>837</td>\n",
              "    </tr>\n",
              "    <tr>\n",
              "      <th>2214726</th>\n",
              "      <td>2040b3d3cb47caace19e728090a88d6b1087aa8e</td>\n",
              "      <td>the murder city devils</td>\n",
              "      <td>761</td>\n",
              "    </tr>\n",
              "    <tr>\n",
              "      <th>2214727</th>\n",
              "      <td>2040b3d3cb47caace19e728090a88d6b1087aa8e</td>\n",
              "      <td>pixies</td>\n",
              "      <td>757</td>\n",
              "    </tr>\n",
              "    <tr>\n",
              "      <th>2214728</th>\n",
              "      <td>2040b3d3cb47caace19e728090a88d6b1087aa8e</td>\n",
              "      <td>tragedy</td>\n",
              "      <td>662</td>\n",
              "    </tr>\n",
              "    <tr>\n",
              "      <th>2214729</th>\n",
              "      <td>2040b3d3cb47caace19e728090a88d6b1087aa8e</td>\n",
              "      <td>tiger army</td>\n",
              "      <td>613</td>\n",
              "    </tr>\n",
              "    <tr>\n",
              "      <th>...</th>\n",
              "      <td>...</td>\n",
              "      <td>...</td>\n",
              "      <td>...</td>\n",
              "    </tr>\n",
              "    <tr>\n",
              "      <th>12377607</th>\n",
              "      <td>b4ef1b63fc188fc7953892f214f636f9d556f0b1</td>\n",
              "      <td>the champs</td>\n",
              "      <td>3</td>\n",
              "    </tr>\n",
              "    <tr>\n",
              "      <th>12377608</th>\n",
              "      <td>b4ef1b63fc188fc7953892f214f636f9d556f0b1</td>\n",
              "      <td>the coasters</td>\n",
              "      <td>3</td>\n",
              "    </tr>\n",
              "    <tr>\n",
              "      <th>12377609</th>\n",
              "      <td>b4ef1b63fc188fc7953892f214f636f9d556f0b1</td>\n",
              "      <td>the fortunes</td>\n",
              "      <td>3</td>\n",
              "    </tr>\n",
              "    <tr>\n",
              "      <th>12377610</th>\n",
              "      <td>b4ef1b63fc188fc7953892f214f636f9d556f0b1</td>\n",
              "      <td>the rubettes</td>\n",
              "      <td>3</td>\n",
              "    </tr>\n",
              "    <tr>\n",
              "      <th>12377611</th>\n",
              "      <td>b4ef1b63fc188fc7953892f214f636f9d556f0b1</td>\n",
              "      <td>the tokens</td>\n",
              "      <td>3</td>\n",
              "    </tr>\n",
              "  </tbody>\n",
              "</table>\n",
              "<p>90872 rows × 3 columns</p>\n",
              "</div>\n",
              "      <button class=\"colab-df-convert\" onclick=\"convertToInteractive('df-dc369605-7e53-492f-b568-4a3d9d6e58da')\"\n",
              "              title=\"Convert this dataframe to an interactive table.\"\n",
              "              style=\"display:none;\">\n",
              "        \n",
              "  <svg xmlns=\"http://www.w3.org/2000/svg\" height=\"24px\"viewBox=\"0 0 24 24\"\n",
              "       width=\"24px\">\n",
              "    <path d=\"M0 0h24v24H0V0z\" fill=\"none\"/>\n",
              "    <path d=\"M18.56 5.44l.94 2.06.94-2.06 2.06-.94-2.06-.94-.94-2.06-.94 2.06-2.06.94zm-11 1L8.5 8.5l.94-2.06 2.06-.94-2.06-.94L8.5 2.5l-.94 2.06-2.06.94zm10 10l.94 2.06.94-2.06 2.06-.94-2.06-.94-.94-2.06-.94 2.06-2.06.94z\"/><path d=\"M17.41 7.96l-1.37-1.37c-.4-.4-.92-.59-1.43-.59-.52 0-1.04.2-1.43.59L10.3 9.45l-7.72 7.72c-.78.78-.78 2.05 0 2.83L4 21.41c.39.39.9.59 1.41.59.51 0 1.02-.2 1.41-.59l7.78-7.78 2.81-2.81c.8-.78.8-2.07 0-2.86zM5.41 20L4 18.59l7.72-7.72 1.47 1.35L5.41 20z\"/>\n",
              "  </svg>\n",
              "      </button>\n",
              "      \n",
              "  <style>\n",
              "    .colab-df-container {\n",
              "      display:flex;\n",
              "      flex-wrap:wrap;\n",
              "      gap: 12px;\n",
              "    }\n",
              "\n",
              "    .colab-df-convert {\n",
              "      background-color: #E8F0FE;\n",
              "      border: none;\n",
              "      border-radius: 50%;\n",
              "      cursor: pointer;\n",
              "      display: none;\n",
              "      fill: #1967D2;\n",
              "      height: 32px;\n",
              "      padding: 0 0 0 0;\n",
              "      width: 32px;\n",
              "    }\n",
              "\n",
              "    .colab-df-convert:hover {\n",
              "      background-color: #E2EBFA;\n",
              "      box-shadow: 0px 1px 2px rgba(60, 64, 67, 0.3), 0px 1px 3px 1px rgba(60, 64, 67, 0.15);\n",
              "      fill: #174EA6;\n",
              "    }\n",
              "\n",
              "    [theme=dark] .colab-df-convert {\n",
              "      background-color: #3B4455;\n",
              "      fill: #D2E3FC;\n",
              "    }\n",
              "\n",
              "    [theme=dark] .colab-df-convert:hover {\n",
              "      background-color: #434B5C;\n",
              "      box-shadow: 0px 1px 3px 1px rgba(0, 0, 0, 0.15);\n",
              "      filter: drop-shadow(0px 1px 2px rgba(0, 0, 0, 0.3));\n",
              "      fill: #FFFFFF;\n",
              "    }\n",
              "  </style>\n",
              "\n",
              "      <script>\n",
              "        const buttonEl =\n",
              "          document.querySelector('#df-dc369605-7e53-492f-b568-4a3d9d6e58da button.colab-df-convert');\n",
              "        buttonEl.style.display =\n",
              "          google.colab.kernel.accessAllowed ? 'block' : 'none';\n",
              "\n",
              "        async function convertToInteractive(key) {\n",
              "          const element = document.querySelector('#df-dc369605-7e53-492f-b568-4a3d9d6e58da');\n",
              "          const dataTable =\n",
              "            await google.colab.kernel.invokeFunction('convertToInteractive',\n",
              "                                                     [key], {});\n",
              "          if (!dataTable) return;\n",
              "\n",
              "          const docLinkHtml = 'Like what you see? Visit the ' +\n",
              "            '<a target=\"_blank\" href=https://colab.research.google.com/notebooks/data_table.ipynb>data table notebook</a>'\n",
              "            + ' to learn more about interactive tables.';\n",
              "          element.innerHTML = '';\n",
              "          dataTable['output_type'] = 'display_data';\n",
              "          await google.colab.output.renderOutput(dataTable, element);\n",
              "          const docLink = document.createElement('div');\n",
              "          docLink.innerHTML = docLinkHtml;\n",
              "          element.appendChild(docLink);\n",
              "        }\n",
              "      </script>\n",
              "    </div>\n",
              "  </div>\n",
              "  "
            ]
          },
          "metadata": {},
          "execution_count": 163
        }
      ]
    },
    {
      "cell_type": "code",
      "source": [
        "df_item"
      ],
      "metadata": {
        "colab": {
          "base_uri": "https://localhost:8080/",
          "height": 424
        },
        "id": "hZ5lapEB5mhF",
        "outputId": "185d2459-0197-4565-ad50-cdfc91c000a7"
      },
      "execution_count": 164,
      "outputs": [
        {
          "output_type": "execute_result",
          "data": {
            "text/plain": [
              "                                              user               artist  plays\n",
              "221       00007a47085b9aab8af55f52ec8846ac479ac4fe            radiohead     86\n",
              "245       0000c176103e538d5c9828e695fed4f7ae42dd01            radiohead   2417\n",
              "530       000163263d2a41a3966a3746855b8b75b7d7aa83            radiohead    252\n",
              "709       000215d3060a5b0ab7b3c415d49ec579100d4c87            radiohead     81\n",
              "1119      00035a0368fd249d286f683e816fbdc97cbfa7d9            radiohead   1437\n",
              "...                                            ...                  ...    ...\n",
              "17406502  fe1bbfe0741572593f803167607c2af53ec351b9  the beautiful south    238\n",
              "17418330  fe4568a6f7b52b173682f4de0605943b49bbfbb0  the beautiful south     48\n",
              "17456958  fed6ca23ac56f1bb25869c8470db9630c7016b99  the beautiful south    308\n",
              "17457836  fed979e36185b0def0c90432c30e91b6114ba27b  the beautiful south     15\n",
              "17462059  fee9eb13324fee05941a29953650d5326bd2f081  the beautiful south     76\n",
              "\n",
              "[10234631 rows x 3 columns]"
            ],
            "text/html": [
              "\n",
              "  <div id=\"df-0c30c2ed-b8d8-4dfa-801d-ff82b3614088\">\n",
              "    <div class=\"colab-df-container\">\n",
              "      <div>\n",
              "<style scoped>\n",
              "    .dataframe tbody tr th:only-of-type {\n",
              "        vertical-align: middle;\n",
              "    }\n",
              "\n",
              "    .dataframe tbody tr th {\n",
              "        vertical-align: top;\n",
              "    }\n",
              "\n",
              "    .dataframe thead th {\n",
              "        text-align: right;\n",
              "    }\n",
              "</style>\n",
              "<table border=\"1\" class=\"dataframe\">\n",
              "  <thead>\n",
              "    <tr style=\"text-align: right;\">\n",
              "      <th></th>\n",
              "      <th>user</th>\n",
              "      <th>artist</th>\n",
              "      <th>plays</th>\n",
              "    </tr>\n",
              "  </thead>\n",
              "  <tbody>\n",
              "    <tr>\n",
              "      <th>221</th>\n",
              "      <td>00007a47085b9aab8af55f52ec8846ac479ac4fe</td>\n",
              "      <td>radiohead</td>\n",
              "      <td>86</td>\n",
              "    </tr>\n",
              "    <tr>\n",
              "      <th>245</th>\n",
              "      <td>0000c176103e538d5c9828e695fed4f7ae42dd01</td>\n",
              "      <td>radiohead</td>\n",
              "      <td>2417</td>\n",
              "    </tr>\n",
              "    <tr>\n",
              "      <th>530</th>\n",
              "      <td>000163263d2a41a3966a3746855b8b75b7d7aa83</td>\n",
              "      <td>radiohead</td>\n",
              "      <td>252</td>\n",
              "    </tr>\n",
              "    <tr>\n",
              "      <th>709</th>\n",
              "      <td>000215d3060a5b0ab7b3c415d49ec579100d4c87</td>\n",
              "      <td>radiohead</td>\n",
              "      <td>81</td>\n",
              "    </tr>\n",
              "    <tr>\n",
              "      <th>1119</th>\n",
              "      <td>00035a0368fd249d286f683e816fbdc97cbfa7d9</td>\n",
              "      <td>radiohead</td>\n",
              "      <td>1437</td>\n",
              "    </tr>\n",
              "    <tr>\n",
              "      <th>...</th>\n",
              "      <td>...</td>\n",
              "      <td>...</td>\n",
              "      <td>...</td>\n",
              "    </tr>\n",
              "    <tr>\n",
              "      <th>17406502</th>\n",
              "      <td>fe1bbfe0741572593f803167607c2af53ec351b9</td>\n",
              "      <td>the beautiful south</td>\n",
              "      <td>238</td>\n",
              "    </tr>\n",
              "    <tr>\n",
              "      <th>17418330</th>\n",
              "      <td>fe4568a6f7b52b173682f4de0605943b49bbfbb0</td>\n",
              "      <td>the beautiful south</td>\n",
              "      <td>48</td>\n",
              "    </tr>\n",
              "    <tr>\n",
              "      <th>17456958</th>\n",
              "      <td>fed6ca23ac56f1bb25869c8470db9630c7016b99</td>\n",
              "      <td>the beautiful south</td>\n",
              "      <td>308</td>\n",
              "    </tr>\n",
              "    <tr>\n",
              "      <th>17457836</th>\n",
              "      <td>fed979e36185b0def0c90432c30e91b6114ba27b</td>\n",
              "      <td>the beautiful south</td>\n",
              "      <td>15</td>\n",
              "    </tr>\n",
              "    <tr>\n",
              "      <th>17462059</th>\n",
              "      <td>fee9eb13324fee05941a29953650d5326bd2f081</td>\n",
              "      <td>the beautiful south</td>\n",
              "      <td>76</td>\n",
              "    </tr>\n",
              "  </tbody>\n",
              "</table>\n",
              "<p>10234631 rows × 3 columns</p>\n",
              "</div>\n",
              "      <button class=\"colab-df-convert\" onclick=\"convertToInteractive('df-0c30c2ed-b8d8-4dfa-801d-ff82b3614088')\"\n",
              "              title=\"Convert this dataframe to an interactive table.\"\n",
              "              style=\"display:none;\">\n",
              "        \n",
              "  <svg xmlns=\"http://www.w3.org/2000/svg\" height=\"24px\"viewBox=\"0 0 24 24\"\n",
              "       width=\"24px\">\n",
              "    <path d=\"M0 0h24v24H0V0z\" fill=\"none\"/>\n",
              "    <path d=\"M18.56 5.44l.94 2.06.94-2.06 2.06-.94-2.06-.94-.94-2.06-.94 2.06-2.06.94zm-11 1L8.5 8.5l.94-2.06 2.06-.94-2.06-.94L8.5 2.5l-.94 2.06-2.06.94zm10 10l.94 2.06.94-2.06 2.06-.94-2.06-.94-.94-2.06-.94 2.06-2.06.94z\"/><path d=\"M17.41 7.96l-1.37-1.37c-.4-.4-.92-.59-1.43-.59-.52 0-1.04.2-1.43.59L10.3 9.45l-7.72 7.72c-.78.78-.78 2.05 0 2.83L4 21.41c.39.39.9.59 1.41.59.51 0 1.02-.2 1.41-.59l7.78-7.78 2.81-2.81c.8-.78.8-2.07 0-2.86zM5.41 20L4 18.59l7.72-7.72 1.47 1.35L5.41 20z\"/>\n",
              "  </svg>\n",
              "      </button>\n",
              "      \n",
              "  <style>\n",
              "    .colab-df-container {\n",
              "      display:flex;\n",
              "      flex-wrap:wrap;\n",
              "      gap: 12px;\n",
              "    }\n",
              "\n",
              "    .colab-df-convert {\n",
              "      background-color: #E8F0FE;\n",
              "      border: none;\n",
              "      border-radius: 50%;\n",
              "      cursor: pointer;\n",
              "      display: none;\n",
              "      fill: #1967D2;\n",
              "      height: 32px;\n",
              "      padding: 0 0 0 0;\n",
              "      width: 32px;\n",
              "    }\n",
              "\n",
              "    .colab-df-convert:hover {\n",
              "      background-color: #E2EBFA;\n",
              "      box-shadow: 0px 1px 2px rgba(60, 64, 67, 0.3), 0px 1px 3px 1px rgba(60, 64, 67, 0.15);\n",
              "      fill: #174EA6;\n",
              "    }\n",
              "\n",
              "    [theme=dark] .colab-df-convert {\n",
              "      background-color: #3B4455;\n",
              "      fill: #D2E3FC;\n",
              "    }\n",
              "\n",
              "    [theme=dark] .colab-df-convert:hover {\n",
              "      background-color: #434B5C;\n",
              "      box-shadow: 0px 1px 3px 1px rgba(0, 0, 0, 0.15);\n",
              "      filter: drop-shadow(0px 1px 2px rgba(0, 0, 0, 0.3));\n",
              "      fill: #FFFFFF;\n",
              "    }\n",
              "  </style>\n",
              "\n",
              "      <script>\n",
              "        const buttonEl =\n",
              "          document.querySelector('#df-0c30c2ed-b8d8-4dfa-801d-ff82b3614088 button.colab-df-convert');\n",
              "        buttonEl.style.display =\n",
              "          google.colab.kernel.accessAllowed ? 'block' : 'none';\n",
              "\n",
              "        async function convertToInteractive(key) {\n",
              "          const element = document.querySelector('#df-0c30c2ed-b8d8-4dfa-801d-ff82b3614088');\n",
              "          const dataTable =\n",
              "            await google.colab.kernel.invokeFunction('convertToInteractive',\n",
              "                                                     [key], {});\n",
              "          if (!dataTable) return;\n",
              "\n",
              "          const docLinkHtml = 'Like what you see? Visit the ' +\n",
              "            '<a target=\"_blank\" href=https://colab.research.google.com/notebooks/data_table.ipynb>data table notebook</a>'\n",
              "            + ' to learn more about interactive tables.';\n",
              "          element.innerHTML = '';\n",
              "          dataTable['output_type'] = 'display_data';\n",
              "          await google.colab.output.renderOutput(dataTable, element);\n",
              "          const docLink = document.createElement('div');\n",
              "          docLink.innerHTML = docLinkHtml;\n",
              "          element.appendChild(docLink);\n",
              "        }\n",
              "      </script>\n",
              "    </div>\n",
              "  </div>\n",
              "  "
            ]
          },
          "metadata": {},
          "execution_count": 164
        }
      ]
    },
    {
      "cell_type": "code",
      "source": [
        "user_index"
      ],
      "metadata": {
        "colab": {
          "base_uri": "https://localhost:8080/"
        },
        "id": "9bKW525hqaKc",
        "outputId": "a1c109a1-854b-4c99-97fe-e58fec260636"
      },
      "execution_count": 135,
      "outputs": [
        {
          "output_type": "execute_result",
          "data": {
            "text/plain": [
              "Index(['2040b3d3cb47caace19e728090a88d6b1087aa8e',\n",
              "       '13c0df8a58cd3ca9e37d8e90662d2ad3c062eaa5',\n",
              "       '52bf0682648b44e6cc27ebe512dd4fa3455a11c2',\n",
              "       '7679da839e1a6c2d299c7fd6834fb9bf6e229224',\n",
              "       '8d8643cded0ac18e66a3c5a2b74de21fbca0e6b7',\n",
              "       'ce52b233f731dda7325aae6242440bd2a7095fca',\n",
              "       '0a7c493718902fe4590cad2f76db9abb6dce6fae',\n",
              "       '209b31e32790bdaa80e76ce9bb97e13e3980e1a5',\n",
              "       'e710c9f69c2d07f914e7b1fa533b3e9f27890d62',\n",
              "       'e85a4c61ca10501e09c979d411e984afc0a2393e',\n",
              "       ...\n",
              "       '95003c289d8f8ac2f08179bb54d9f891b75b4bb6',\n",
              "       '8d371a192ac7835283d635ac2f3aef085bb735b4',\n",
              "       '83a9d0fb45851d714aad419850cbec01e4ddaba4',\n",
              "       '0cb7f9355f572ca7bef8138253c94b5e4dcdb83a',\n",
              "       '10efd8ef11060a888cc49b10c203813ff3800cc7',\n",
              "       'b3677ebc22eaab611c8d3c50f41961d6af7a7b57',\n",
              "       'a9cca039bdf71f6b46a740720d6bb3948bd5841f',\n",
              "       '32043d80067d9f383ddd16266e0a3adcfe5e76fa',\n",
              "       'd1de047744abcec84ec2a97ce820c7901fbbf266',\n",
              "       'b4ef1b63fc188fc7953892f214f636f9d556f0b1'],\n",
              "      dtype='object', name='user', length=1000)"
            ]
          },
          "metadata": {},
          "execution_count": 135
        }
      ]
    },
    {
      "cell_type": "code",
      "source": [
        "item_index.values"
      ],
      "metadata": {
        "colab": {
          "base_uri": "https://localhost:8080/"
        },
        "id": "pzkwU3Rj3821",
        "outputId": "34b4fef9-6fa4-4f0f-d891-d6d205232e2d"
      },
      "execution_count": 136,
      "outputs": [
        {
          "output_type": "execute_result",
          "data": {
            "text/plain": [
              "array(['radiohead', 'the beatles', 'coldplay', ..., 'annie', 'necro',\n",
              "       'the beautiful south'], dtype=object)"
            ]
          },
          "metadata": {},
          "execution_count": 136
        }
      ]
    },
    {
      "cell_type": "code",
      "source": [],
      "metadata": {
        "id": "q11IdSJAljFg"
      },
      "execution_count": null,
      "outputs": []
    },
    {
      "cell_type": "code",
      "source": [
        "data2 = data[(data['plays']<100000) & (data['plays']>10000)]"
      ],
      "metadata": {
        "id": "Aef9TTr6lpuY"
      },
      "execution_count": 125,
      "outputs": []
    },
    {
      "cell_type": "code",
      "source": [
        "data2"
      ],
      "metadata": {
        "colab": {
          "base_uri": "https://localhost:8080/",
          "height": 424
        },
        "id": "fxlqjVtbmACv",
        "outputId": "57dbe6a4-1bb4-4197-dddc-d12ba8d64c62"
      },
      "execution_count": 126,
      "outputs": [
        {
          "output_type": "execute_result",
          "data": {
            "text/plain": [
              "                                              user                    artist  \\\n",
              "49        00001411dc427966b17297bf4d69e7e193135d89  the most serene republic   \n",
              "891       00029d80b8af94f2d5e3349ceb28b7304f80c1c4           nine inch nails   \n",
              "10692     00277ccecc376837e57b6d6b58330d1bafc90c73                     ac/dc   \n",
              "11311     0028ee93676310a78387c6cfad928ce8f3ea50a2                 new order   \n",
              "14451     0033ee7378661b88b245b1f67cc622ff63a51061               the beatles   \n",
              "...                                            ...                       ...   \n",
              "17517986  ffb675bf47413af2bb82151904a61e3dbbd5fb1d                   ja rule   \n",
              "17518725  ffba5496d4a7ea01f70b05806a8689d6f25d777b                bill evans   \n",
              "17519147  ffbbd9e0a6c65bf15f076e8c97fe9c94cdfe456c                      tool   \n",
              "17520346  ffc029b0209a08e0da67dfe6bba7c580c005bb38               sonic youth   \n",
              "17529762  ffe8dae1637f934d8529ec1496f0df9e5f53bab5                 blink-182   \n",
              "\n",
              "          plays  \n",
              "49        12763  \n",
              "891       11092  \n",
              "10692     17087  \n",
              "11311     18941  \n",
              "14451     39655  \n",
              "...         ...  \n",
              "17517986  12733  \n",
              "17518725  29487  \n",
              "17519147  35435  \n",
              "17520346  11975  \n",
              "17529762  10299  \n",
              "\n",
              "[5764 rows x 3 columns]"
            ],
            "text/html": [
              "\n",
              "  <div id=\"df-89364aaa-8110-49b7-a9fb-0c274191d146\">\n",
              "    <div class=\"colab-df-container\">\n",
              "      <div>\n",
              "<style scoped>\n",
              "    .dataframe tbody tr th:only-of-type {\n",
              "        vertical-align: middle;\n",
              "    }\n",
              "\n",
              "    .dataframe tbody tr th {\n",
              "        vertical-align: top;\n",
              "    }\n",
              "\n",
              "    .dataframe thead th {\n",
              "        text-align: right;\n",
              "    }\n",
              "</style>\n",
              "<table border=\"1\" class=\"dataframe\">\n",
              "  <thead>\n",
              "    <tr style=\"text-align: right;\">\n",
              "      <th></th>\n",
              "      <th>user</th>\n",
              "      <th>artist</th>\n",
              "      <th>plays</th>\n",
              "    </tr>\n",
              "  </thead>\n",
              "  <tbody>\n",
              "    <tr>\n",
              "      <th>49</th>\n",
              "      <td>00001411dc427966b17297bf4d69e7e193135d89</td>\n",
              "      <td>the most serene republic</td>\n",
              "      <td>12763</td>\n",
              "    </tr>\n",
              "    <tr>\n",
              "      <th>891</th>\n",
              "      <td>00029d80b8af94f2d5e3349ceb28b7304f80c1c4</td>\n",
              "      <td>nine inch nails</td>\n",
              "      <td>11092</td>\n",
              "    </tr>\n",
              "    <tr>\n",
              "      <th>10692</th>\n",
              "      <td>00277ccecc376837e57b6d6b58330d1bafc90c73</td>\n",
              "      <td>ac/dc</td>\n",
              "      <td>17087</td>\n",
              "    </tr>\n",
              "    <tr>\n",
              "      <th>11311</th>\n",
              "      <td>0028ee93676310a78387c6cfad928ce8f3ea50a2</td>\n",
              "      <td>new order</td>\n",
              "      <td>18941</td>\n",
              "    </tr>\n",
              "    <tr>\n",
              "      <th>14451</th>\n",
              "      <td>0033ee7378661b88b245b1f67cc622ff63a51061</td>\n",
              "      <td>the beatles</td>\n",
              "      <td>39655</td>\n",
              "    </tr>\n",
              "    <tr>\n",
              "      <th>...</th>\n",
              "      <td>...</td>\n",
              "      <td>...</td>\n",
              "      <td>...</td>\n",
              "    </tr>\n",
              "    <tr>\n",
              "      <th>17517986</th>\n",
              "      <td>ffb675bf47413af2bb82151904a61e3dbbd5fb1d</td>\n",
              "      <td>ja rule</td>\n",
              "      <td>12733</td>\n",
              "    </tr>\n",
              "    <tr>\n",
              "      <th>17518725</th>\n",
              "      <td>ffba5496d4a7ea01f70b05806a8689d6f25d777b</td>\n",
              "      <td>bill evans</td>\n",
              "      <td>29487</td>\n",
              "    </tr>\n",
              "    <tr>\n",
              "      <th>17519147</th>\n",
              "      <td>ffbbd9e0a6c65bf15f076e8c97fe9c94cdfe456c</td>\n",
              "      <td>tool</td>\n",
              "      <td>35435</td>\n",
              "    </tr>\n",
              "    <tr>\n",
              "      <th>17520346</th>\n",
              "      <td>ffc029b0209a08e0da67dfe6bba7c580c005bb38</td>\n",
              "      <td>sonic youth</td>\n",
              "      <td>11975</td>\n",
              "    </tr>\n",
              "    <tr>\n",
              "      <th>17529762</th>\n",
              "      <td>ffe8dae1637f934d8529ec1496f0df9e5f53bab5</td>\n",
              "      <td>blink-182</td>\n",
              "      <td>10299</td>\n",
              "    </tr>\n",
              "  </tbody>\n",
              "</table>\n",
              "<p>5764 rows × 3 columns</p>\n",
              "</div>\n",
              "      <button class=\"colab-df-convert\" onclick=\"convertToInteractive('df-89364aaa-8110-49b7-a9fb-0c274191d146')\"\n",
              "              title=\"Convert this dataframe to an interactive table.\"\n",
              "              style=\"display:none;\">\n",
              "        \n",
              "  <svg xmlns=\"http://www.w3.org/2000/svg\" height=\"24px\"viewBox=\"0 0 24 24\"\n",
              "       width=\"24px\">\n",
              "    <path d=\"M0 0h24v24H0V0z\" fill=\"none\"/>\n",
              "    <path d=\"M18.56 5.44l.94 2.06.94-2.06 2.06-.94-2.06-.94-.94-2.06-.94 2.06-2.06.94zm-11 1L8.5 8.5l.94-2.06 2.06-.94-2.06-.94L8.5 2.5l-.94 2.06-2.06.94zm10 10l.94 2.06.94-2.06 2.06-.94-2.06-.94-.94-2.06-.94 2.06-2.06.94z\"/><path d=\"M17.41 7.96l-1.37-1.37c-.4-.4-.92-.59-1.43-.59-.52 0-1.04.2-1.43.59L10.3 9.45l-7.72 7.72c-.78.78-.78 2.05 0 2.83L4 21.41c.39.39.9.59 1.41.59.51 0 1.02-.2 1.41-.59l7.78-7.78 2.81-2.81c.8-.78.8-2.07 0-2.86zM5.41 20L4 18.59l7.72-7.72 1.47 1.35L5.41 20z\"/>\n",
              "  </svg>\n",
              "      </button>\n",
              "      \n",
              "  <style>\n",
              "    .colab-df-container {\n",
              "      display:flex;\n",
              "      flex-wrap:wrap;\n",
              "      gap: 12px;\n",
              "    }\n",
              "\n",
              "    .colab-df-convert {\n",
              "      background-color: #E8F0FE;\n",
              "      border: none;\n",
              "      border-radius: 50%;\n",
              "      cursor: pointer;\n",
              "      display: none;\n",
              "      fill: #1967D2;\n",
              "      height: 32px;\n",
              "      padding: 0 0 0 0;\n",
              "      width: 32px;\n",
              "    }\n",
              "\n",
              "    .colab-df-convert:hover {\n",
              "      background-color: #E2EBFA;\n",
              "      box-shadow: 0px 1px 2px rgba(60, 64, 67, 0.3), 0px 1px 3px 1px rgba(60, 64, 67, 0.15);\n",
              "      fill: #174EA6;\n",
              "    }\n",
              "\n",
              "    [theme=dark] .colab-df-convert {\n",
              "      background-color: #3B4455;\n",
              "      fill: #D2E3FC;\n",
              "    }\n",
              "\n",
              "    [theme=dark] .colab-df-convert:hover {\n",
              "      background-color: #434B5C;\n",
              "      box-shadow: 0px 1px 3px 1px rgba(0, 0, 0, 0.15);\n",
              "      filter: drop-shadow(0px 1px 2px rgba(0, 0, 0, 0.3));\n",
              "      fill: #FFFFFF;\n",
              "    }\n",
              "  </style>\n",
              "\n",
              "      <script>\n",
              "        const buttonEl =\n",
              "          document.querySelector('#df-89364aaa-8110-49b7-a9fb-0c274191d146 button.colab-df-convert');\n",
              "        buttonEl.style.display =\n",
              "          google.colab.kernel.accessAllowed ? 'block' : 'none';\n",
              "\n",
              "        async function convertToInteractive(key) {\n",
              "          const element = document.querySelector('#df-89364aaa-8110-49b7-a9fb-0c274191d146');\n",
              "          const dataTable =\n",
              "            await google.colab.kernel.invokeFunction('convertToInteractive',\n",
              "                                                     [key], {});\n",
              "          if (!dataTable) return;\n",
              "\n",
              "          const docLinkHtml = 'Like what you see? Visit the ' +\n",
              "            '<a target=\"_blank\" href=https://colab.research.google.com/notebooks/data_table.ipynb>data table notebook</a>'\n",
              "            + ' to learn more about interactive tables.';\n",
              "          element.innerHTML = '';\n",
              "          dataTable['output_type'] = 'display_data';\n",
              "          await google.colab.output.renderOutput(dataTable, element);\n",
              "          const docLink = document.createElement('div');\n",
              "          docLink.innerHTML = docLinkHtml;\n",
              "          element.appendChild(docLink);\n",
              "        }\n",
              "      </script>\n",
              "    </div>\n",
              "  </div>\n",
              "  "
            ]
          },
          "metadata": {},
          "execution_count": 126
        }
      ]
    },
    {
      "cell_type": "code",
      "source": [
        "user_count = data.groupby('user')['artist'].count()\n",
        "user_count"
      ],
      "metadata": {
        "colab": {
          "base_uri": "https://localhost:8080/"
        },
        "id": "IXdG1FtBmo6k",
        "outputId": "3c07de3d-f0ea-4481-bfc4-c204ec13c822"
      },
      "execution_count": 131,
      "outputs": [
        {
          "output_type": "execute_result",
          "data": {
            "text/plain": [
              "user\n",
              "00000c289a1829a808ac09c00daf10bc3c4e223b    49\n",
              "00001411dc427966b17297bf4d69e7e193135d89    51\n",
              "00004d2ac9316e22dc007ab2243d6fcb239e707d    46\n",
              "000063d3fe1cf2ba248b9e3c3f0334845a27a6bf    49\n",
              "00007a47085b9aab8af55f52ec8846ac479ac4fe    50\n",
              "                                            ..\n",
              "fffe8637bd8234309e871409c7ebef99a720afc1    48\n",
              "fffe8c7f952d9b960a56ed4dcb40a415d924b224    62\n",
              "ffff9af9ae04d263dae91cb838b1f3a6725f5ffb    21\n",
              "ffff9ef87a7d9494ada2f9ade4b9ff637c0759ac    50\n",
              "sep 20, 2008                                48\n",
              "Name: artist, Length: 358868, dtype: int64"
            ]
          },
          "metadata": {},
          "execution_count": 131
        }
      ]
    },
    {
      "cell_type": "code",
      "source": [
        "train, test = train_test_split(data2, test_size=0.2, shuffle=True, random_state=1)"
      ],
      "metadata": {
        "id": "8GnfPETclVw8"
      },
      "execution_count": 120,
      "outputs": []
    },
    {
      "cell_type": "code",
      "source": [
        "train"
      ],
      "metadata": {
        "colab": {
          "base_uri": "https://localhost:8080/",
          "height": 424
        },
        "id": "s_Lu3VHol64_",
        "outputId": "166a263e-b0cc-4887-aa72-848b3698becd"
      },
      "execution_count": 121,
      "outputs": [
        {
          "output_type": "execute_result",
          "data": {
            "text/plain": [
              "                                              user              artist  plays\n",
              "27363     006261139d787c1e43b4c69d304f2772367c1005        depeche mode  12103\n",
              "10109186  93a3fb09288dd8322252a5a4f65a418063b83a28  christina aguilera  38417\n",
              "7504828   6da35f677fdb5a5e4063abaf2a4209fe1ca984dd          billy joel  33677\n",
              "10060869  92ec9bb191ee0b58080dbfeced1eef354cf8d6a7  the rolling stones  11659\n",
              "6989297   662b37e305a87a89607dcc9e7ab7c083d027b5b0         the beatles  15207\n",
              "...                                            ...                 ...    ...\n",
              "2711813   27b21af1ca2f83290170f4aa6855168204defa9d             madonna  20042\n",
              "15762336  e64b838357df65163c6fb6e7512c84619bfa15fa           tori amos  13454\n",
              "12109133  b10dd7f531bc7ce3655914afca52e8c63fd0bcd9                  u2  48187\n",
              "721174    0a8a015edc1138a425832928196877736e863015       l'arc~en~ciel  11978\n",
              "15654719  e4ac19ff13961ac93c308fc8336ff8e7c6184bb8       elliott smith  27602\n",
              "\n",
              "[4611 rows x 3 columns]"
            ],
            "text/html": [
              "\n",
              "  <div id=\"df-4c277486-cf4c-43ea-a806-254eab6ec488\">\n",
              "    <div class=\"colab-df-container\">\n",
              "      <div>\n",
              "<style scoped>\n",
              "    .dataframe tbody tr th:only-of-type {\n",
              "        vertical-align: middle;\n",
              "    }\n",
              "\n",
              "    .dataframe tbody tr th {\n",
              "        vertical-align: top;\n",
              "    }\n",
              "\n",
              "    .dataframe thead th {\n",
              "        text-align: right;\n",
              "    }\n",
              "</style>\n",
              "<table border=\"1\" class=\"dataframe\">\n",
              "  <thead>\n",
              "    <tr style=\"text-align: right;\">\n",
              "      <th></th>\n",
              "      <th>user</th>\n",
              "      <th>artist</th>\n",
              "      <th>plays</th>\n",
              "    </tr>\n",
              "  </thead>\n",
              "  <tbody>\n",
              "    <tr>\n",
              "      <th>27363</th>\n",
              "      <td>006261139d787c1e43b4c69d304f2772367c1005</td>\n",
              "      <td>depeche mode</td>\n",
              "      <td>12103</td>\n",
              "    </tr>\n",
              "    <tr>\n",
              "      <th>10109186</th>\n",
              "      <td>93a3fb09288dd8322252a5a4f65a418063b83a28</td>\n",
              "      <td>christina aguilera</td>\n",
              "      <td>38417</td>\n",
              "    </tr>\n",
              "    <tr>\n",
              "      <th>7504828</th>\n",
              "      <td>6da35f677fdb5a5e4063abaf2a4209fe1ca984dd</td>\n",
              "      <td>billy joel</td>\n",
              "      <td>33677</td>\n",
              "    </tr>\n",
              "    <tr>\n",
              "      <th>10060869</th>\n",
              "      <td>92ec9bb191ee0b58080dbfeced1eef354cf8d6a7</td>\n",
              "      <td>the rolling stones</td>\n",
              "      <td>11659</td>\n",
              "    </tr>\n",
              "    <tr>\n",
              "      <th>6989297</th>\n",
              "      <td>662b37e305a87a89607dcc9e7ab7c083d027b5b0</td>\n",
              "      <td>the beatles</td>\n",
              "      <td>15207</td>\n",
              "    </tr>\n",
              "    <tr>\n",
              "      <th>...</th>\n",
              "      <td>...</td>\n",
              "      <td>...</td>\n",
              "      <td>...</td>\n",
              "    </tr>\n",
              "    <tr>\n",
              "      <th>2711813</th>\n",
              "      <td>27b21af1ca2f83290170f4aa6855168204defa9d</td>\n",
              "      <td>madonna</td>\n",
              "      <td>20042</td>\n",
              "    </tr>\n",
              "    <tr>\n",
              "      <th>15762336</th>\n",
              "      <td>e64b838357df65163c6fb6e7512c84619bfa15fa</td>\n",
              "      <td>tori amos</td>\n",
              "      <td>13454</td>\n",
              "    </tr>\n",
              "    <tr>\n",
              "      <th>12109133</th>\n",
              "      <td>b10dd7f531bc7ce3655914afca52e8c63fd0bcd9</td>\n",
              "      <td>u2</td>\n",
              "      <td>48187</td>\n",
              "    </tr>\n",
              "    <tr>\n",
              "      <th>721174</th>\n",
              "      <td>0a8a015edc1138a425832928196877736e863015</td>\n",
              "      <td>l'arc~en~ciel</td>\n",
              "      <td>11978</td>\n",
              "    </tr>\n",
              "    <tr>\n",
              "      <th>15654719</th>\n",
              "      <td>e4ac19ff13961ac93c308fc8336ff8e7c6184bb8</td>\n",
              "      <td>elliott smith</td>\n",
              "      <td>27602</td>\n",
              "    </tr>\n",
              "  </tbody>\n",
              "</table>\n",
              "<p>4611 rows × 3 columns</p>\n",
              "</div>\n",
              "      <button class=\"colab-df-convert\" onclick=\"convertToInteractive('df-4c277486-cf4c-43ea-a806-254eab6ec488')\"\n",
              "              title=\"Convert this dataframe to an interactive table.\"\n",
              "              style=\"display:none;\">\n",
              "        \n",
              "  <svg xmlns=\"http://www.w3.org/2000/svg\" height=\"24px\"viewBox=\"0 0 24 24\"\n",
              "       width=\"24px\">\n",
              "    <path d=\"M0 0h24v24H0V0z\" fill=\"none\"/>\n",
              "    <path d=\"M18.56 5.44l.94 2.06.94-2.06 2.06-.94-2.06-.94-.94-2.06-.94 2.06-2.06.94zm-11 1L8.5 8.5l.94-2.06 2.06-.94-2.06-.94L8.5 2.5l-.94 2.06-2.06.94zm10 10l.94 2.06.94-2.06 2.06-.94-2.06-.94-.94-2.06-.94 2.06-2.06.94z\"/><path d=\"M17.41 7.96l-1.37-1.37c-.4-.4-.92-.59-1.43-.59-.52 0-1.04.2-1.43.59L10.3 9.45l-7.72 7.72c-.78.78-.78 2.05 0 2.83L4 21.41c.39.39.9.59 1.41.59.51 0 1.02-.2 1.41-.59l7.78-7.78 2.81-2.81c.8-.78.8-2.07 0-2.86zM5.41 20L4 18.59l7.72-7.72 1.47 1.35L5.41 20z\"/>\n",
              "  </svg>\n",
              "      </button>\n",
              "      \n",
              "  <style>\n",
              "    .colab-df-container {\n",
              "      display:flex;\n",
              "      flex-wrap:wrap;\n",
              "      gap: 12px;\n",
              "    }\n",
              "\n",
              "    .colab-df-convert {\n",
              "      background-color: #E8F0FE;\n",
              "      border: none;\n",
              "      border-radius: 50%;\n",
              "      cursor: pointer;\n",
              "      display: none;\n",
              "      fill: #1967D2;\n",
              "      height: 32px;\n",
              "      padding: 0 0 0 0;\n",
              "      width: 32px;\n",
              "    }\n",
              "\n",
              "    .colab-df-convert:hover {\n",
              "      background-color: #E2EBFA;\n",
              "      box-shadow: 0px 1px 2px rgba(60, 64, 67, 0.3), 0px 1px 3px 1px rgba(60, 64, 67, 0.15);\n",
              "      fill: #174EA6;\n",
              "    }\n",
              "\n",
              "    [theme=dark] .colab-df-convert {\n",
              "      background-color: #3B4455;\n",
              "      fill: #D2E3FC;\n",
              "    }\n",
              "\n",
              "    [theme=dark] .colab-df-convert:hover {\n",
              "      background-color: #434B5C;\n",
              "      box-shadow: 0px 1px 3px 1px rgba(0, 0, 0, 0.15);\n",
              "      filter: drop-shadow(0px 1px 2px rgba(0, 0, 0, 0.3));\n",
              "      fill: #FFFFFF;\n",
              "    }\n",
              "  </style>\n",
              "\n",
              "      <script>\n",
              "        const buttonEl =\n",
              "          document.querySelector('#df-4c277486-cf4c-43ea-a806-254eab6ec488 button.colab-df-convert');\n",
              "        buttonEl.style.display =\n",
              "          google.colab.kernel.accessAllowed ? 'block' : 'none';\n",
              "\n",
              "        async function convertToInteractive(key) {\n",
              "          const element = document.querySelector('#df-4c277486-cf4c-43ea-a806-254eab6ec488');\n",
              "          const dataTable =\n",
              "            await google.colab.kernel.invokeFunction('convertToInteractive',\n",
              "                                                     [key], {});\n",
              "          if (!dataTable) return;\n",
              "\n",
              "          const docLinkHtml = 'Like what you see? Visit the ' +\n",
              "            '<a target=\"_blank\" href=https://colab.research.google.com/notebooks/data_table.ipynb>data table notebook</a>'\n",
              "            + ' to learn more about interactive tables.';\n",
              "          element.innerHTML = '';\n",
              "          dataTable['output_type'] = 'display_data';\n",
              "          await google.colab.output.renderOutput(dataTable, element);\n",
              "          const docLink = document.createElement('div');\n",
              "          docLink.innerHTML = docLinkHtml;\n",
              "          element.appendChild(docLink);\n",
              "        }\n",
              "      </script>\n",
              "    </div>\n",
              "  </div>\n",
              "  "
            ]
          },
          "metadata": {},
          "execution_count": 121
        }
      ]
    },
    {
      "cell_type": "code",
      "source": [
        "test"
      ],
      "metadata": {
        "colab": {
          "base_uri": "https://localhost:8080/",
          "height": 424
        },
        "id": "rW4nZKR-l9zC",
        "outputId": "8fbbac6e-ed3b-4edd-adfd-de82c6355dcd"
      },
      "execution_count": 122,
      "outputs": [
        {
          "output_type": "execute_result",
          "data": {
            "text/plain": [
              "                                              user                artist  \\\n",
              "9930240   9107e54b8020edc73db7397659cdeb44f2cd19d0            kanye west   \n",
              "12362884  b4bc7b1b3307b53547dcfef0d1a7d941f614c401           the prodigy   \n",
              "12811629  bb4ef229f5ababb9add6acd065b3b32e50a5a3f1             in flames   \n",
              "1010778   0ebecedb3cef2347ebab2936d30c1a488b8c43d0        marcelo camelo   \n",
              "3046981   2c883fe7deb79e621d2abca3004654f63709e072                  ozma   \n",
              "...                                            ...                   ...   \n",
              "3129891   2dba7c3bc2eddf8ef372f839b7f7582287813ada             media lab   \n",
              "5503018   5087ff3998fbde168ed40184359be70f64da7987              gorillaz   \n",
              "1251231   123ef0268776ff028dc36ec78babdd8b9380192e                 epica   \n",
              "1259587   125f0dc97529e4995b4ef34e387540a6faa4f03f                  beck   \n",
              "8883635   81c7da31225e5c6d8616e7450a1b7d4c1ba1320c  the butterfly effect   \n",
              "\n",
              "          plays  \n",
              "9930240   13428  \n",
              "12362884  10320  \n",
              "12811629  13482  \n",
              "1010778   18474  \n",
              "3046981   11200  \n",
              "...         ...  \n",
              "3129891   12102  \n",
              "5503018   13103  \n",
              "1251231   18261  \n",
              "1259587   11394  \n",
              "8883635   12906  \n",
              "\n",
              "[1153 rows x 3 columns]"
            ],
            "text/html": [
              "\n",
              "  <div id=\"df-2a5643b0-a93f-44d4-9269-396f33b8256d\">\n",
              "    <div class=\"colab-df-container\">\n",
              "      <div>\n",
              "<style scoped>\n",
              "    .dataframe tbody tr th:only-of-type {\n",
              "        vertical-align: middle;\n",
              "    }\n",
              "\n",
              "    .dataframe tbody tr th {\n",
              "        vertical-align: top;\n",
              "    }\n",
              "\n",
              "    .dataframe thead th {\n",
              "        text-align: right;\n",
              "    }\n",
              "</style>\n",
              "<table border=\"1\" class=\"dataframe\">\n",
              "  <thead>\n",
              "    <tr style=\"text-align: right;\">\n",
              "      <th></th>\n",
              "      <th>user</th>\n",
              "      <th>artist</th>\n",
              "      <th>plays</th>\n",
              "    </tr>\n",
              "  </thead>\n",
              "  <tbody>\n",
              "    <tr>\n",
              "      <th>9930240</th>\n",
              "      <td>9107e54b8020edc73db7397659cdeb44f2cd19d0</td>\n",
              "      <td>kanye west</td>\n",
              "      <td>13428</td>\n",
              "    </tr>\n",
              "    <tr>\n",
              "      <th>12362884</th>\n",
              "      <td>b4bc7b1b3307b53547dcfef0d1a7d941f614c401</td>\n",
              "      <td>the prodigy</td>\n",
              "      <td>10320</td>\n",
              "    </tr>\n",
              "    <tr>\n",
              "      <th>12811629</th>\n",
              "      <td>bb4ef229f5ababb9add6acd065b3b32e50a5a3f1</td>\n",
              "      <td>in flames</td>\n",
              "      <td>13482</td>\n",
              "    </tr>\n",
              "    <tr>\n",
              "      <th>1010778</th>\n",
              "      <td>0ebecedb3cef2347ebab2936d30c1a488b8c43d0</td>\n",
              "      <td>marcelo camelo</td>\n",
              "      <td>18474</td>\n",
              "    </tr>\n",
              "    <tr>\n",
              "      <th>3046981</th>\n",
              "      <td>2c883fe7deb79e621d2abca3004654f63709e072</td>\n",
              "      <td>ozma</td>\n",
              "      <td>11200</td>\n",
              "    </tr>\n",
              "    <tr>\n",
              "      <th>...</th>\n",
              "      <td>...</td>\n",
              "      <td>...</td>\n",
              "      <td>...</td>\n",
              "    </tr>\n",
              "    <tr>\n",
              "      <th>3129891</th>\n",
              "      <td>2dba7c3bc2eddf8ef372f839b7f7582287813ada</td>\n",
              "      <td>media lab</td>\n",
              "      <td>12102</td>\n",
              "    </tr>\n",
              "    <tr>\n",
              "      <th>5503018</th>\n",
              "      <td>5087ff3998fbde168ed40184359be70f64da7987</td>\n",
              "      <td>gorillaz</td>\n",
              "      <td>13103</td>\n",
              "    </tr>\n",
              "    <tr>\n",
              "      <th>1251231</th>\n",
              "      <td>123ef0268776ff028dc36ec78babdd8b9380192e</td>\n",
              "      <td>epica</td>\n",
              "      <td>18261</td>\n",
              "    </tr>\n",
              "    <tr>\n",
              "      <th>1259587</th>\n",
              "      <td>125f0dc97529e4995b4ef34e387540a6faa4f03f</td>\n",
              "      <td>beck</td>\n",
              "      <td>11394</td>\n",
              "    </tr>\n",
              "    <tr>\n",
              "      <th>8883635</th>\n",
              "      <td>81c7da31225e5c6d8616e7450a1b7d4c1ba1320c</td>\n",
              "      <td>the butterfly effect</td>\n",
              "      <td>12906</td>\n",
              "    </tr>\n",
              "  </tbody>\n",
              "</table>\n",
              "<p>1153 rows × 3 columns</p>\n",
              "</div>\n",
              "      <button class=\"colab-df-convert\" onclick=\"convertToInteractive('df-2a5643b0-a93f-44d4-9269-396f33b8256d')\"\n",
              "              title=\"Convert this dataframe to an interactive table.\"\n",
              "              style=\"display:none;\">\n",
              "        \n",
              "  <svg xmlns=\"http://www.w3.org/2000/svg\" height=\"24px\"viewBox=\"0 0 24 24\"\n",
              "       width=\"24px\">\n",
              "    <path d=\"M0 0h24v24H0V0z\" fill=\"none\"/>\n",
              "    <path d=\"M18.56 5.44l.94 2.06.94-2.06 2.06-.94-2.06-.94-.94-2.06-.94 2.06-2.06.94zm-11 1L8.5 8.5l.94-2.06 2.06-.94-2.06-.94L8.5 2.5l-.94 2.06-2.06.94zm10 10l.94 2.06.94-2.06 2.06-.94-2.06-.94-.94-2.06-.94 2.06-2.06.94z\"/><path d=\"M17.41 7.96l-1.37-1.37c-.4-.4-.92-.59-1.43-.59-.52 0-1.04.2-1.43.59L10.3 9.45l-7.72 7.72c-.78.78-.78 2.05 0 2.83L4 21.41c.39.39.9.59 1.41.59.51 0 1.02-.2 1.41-.59l7.78-7.78 2.81-2.81c.8-.78.8-2.07 0-2.86zM5.41 20L4 18.59l7.72-7.72 1.47 1.35L5.41 20z\"/>\n",
              "  </svg>\n",
              "      </button>\n",
              "      \n",
              "  <style>\n",
              "    .colab-df-container {\n",
              "      display:flex;\n",
              "      flex-wrap:wrap;\n",
              "      gap: 12px;\n",
              "    }\n",
              "\n",
              "    .colab-df-convert {\n",
              "      background-color: #E8F0FE;\n",
              "      border: none;\n",
              "      border-radius: 50%;\n",
              "      cursor: pointer;\n",
              "      display: none;\n",
              "      fill: #1967D2;\n",
              "      height: 32px;\n",
              "      padding: 0 0 0 0;\n",
              "      width: 32px;\n",
              "    }\n",
              "\n",
              "    .colab-df-convert:hover {\n",
              "      background-color: #E2EBFA;\n",
              "      box-shadow: 0px 1px 2px rgba(60, 64, 67, 0.3), 0px 1px 3px 1px rgba(60, 64, 67, 0.15);\n",
              "      fill: #174EA6;\n",
              "    }\n",
              "\n",
              "    [theme=dark] .colab-df-convert {\n",
              "      background-color: #3B4455;\n",
              "      fill: #D2E3FC;\n",
              "    }\n",
              "\n",
              "    [theme=dark] .colab-df-convert:hover {\n",
              "      background-color: #434B5C;\n",
              "      box-shadow: 0px 1px 3px 1px rgba(0, 0, 0, 0.15);\n",
              "      filter: drop-shadow(0px 1px 2px rgba(0, 0, 0, 0.3));\n",
              "      fill: #FFFFFF;\n",
              "    }\n",
              "  </style>\n",
              "\n",
              "      <script>\n",
              "        const buttonEl =\n",
              "          document.querySelector('#df-2a5643b0-a93f-44d4-9269-396f33b8256d button.colab-df-convert');\n",
              "        buttonEl.style.display =\n",
              "          google.colab.kernel.accessAllowed ? 'block' : 'none';\n",
              "\n",
              "        async function convertToInteractive(key) {\n",
              "          const element = document.querySelector('#df-2a5643b0-a93f-44d4-9269-396f33b8256d');\n",
              "          const dataTable =\n",
              "            await google.colab.kernel.invokeFunction('convertToInteractive',\n",
              "                                                     [key], {});\n",
              "          if (!dataTable) return;\n",
              "\n",
              "          const docLinkHtml = 'Like what you see? Visit the ' +\n",
              "            '<a target=\"_blank\" href=https://colab.research.google.com/notebooks/data_table.ipynb>data table notebook</a>'\n",
              "            + ' to learn more about interactive tables.';\n",
              "          element.innerHTML = '';\n",
              "          dataTable['output_type'] = 'display_data';\n",
              "          await google.colab.output.renderOutput(dataTable, element);\n",
              "          const docLink = document.createElement('div');\n",
              "          docLink.innerHTML = docLinkHtml;\n",
              "          element.appendChild(docLink);\n",
              "        }\n",
              "      </script>\n",
              "    </div>\n",
              "  </div>\n",
              "  "
            ]
          },
          "metadata": {},
          "execution_count": 122
        }
      ]
    },
    {
      "cell_type": "code",
      "source": [
        "data = pd.read_csv('/content/drive/MyDrive/DSAIL/intersected_df.csv')"
      ],
      "metadata": {
        "id": "2kJlBGz1IjSX"
      },
      "execution_count": 2,
      "outputs": []
    },
    {
      "cell_type": "code",
      "source": [
        "data"
      ],
      "metadata": {
        "colab": {
          "base_uri": "https://localhost:8080/",
          "height": 424
        },
        "id": "nyBtxTBOIuua",
        "outputId": "811d7d38-909e-4b76-ee8a-aaa724cc67f9"
      },
      "execution_count": 3,
      "outputs": [
        {
          "output_type": "execute_result",
          "data": {
            "text/plain": [
              "                                           user                  artist  plays\n",
              "0      2040b3d3cb47caace19e728090a88d6b1087aa8e                  pixies    757\n",
              "1      2040b3d3cb47caace19e728090a88d6b1087aa8e              tiger army    613\n",
              "2      2040b3d3cb47caace19e728090a88d6b1087aa8e  leevi and the leavings    444\n",
              "3      2040b3d3cb47caace19e728090a88d6b1087aa8e              the smiths    427\n",
              "4      2040b3d3cb47caace19e728090a88d6b1087aa8e              the adicts    372\n",
              "...                                         ...                     ...    ...\n",
              "39854  b4ef1b63fc188fc7953892f214f636f9d556f0b1              elton john     11\n",
              "39855  b4ef1b63fc188fc7953892f214f636f9d556f0b1                  eagles      4\n",
              "39856  b4ef1b63fc188fc7953892f214f636f9d556f0b1         robbie williams      4\n",
              "39857  b4ef1b63fc188fc7953892f214f636f9d556f0b1              bob marley      3\n",
              "39858  b4ef1b63fc188fc7953892f214f636f9d556f0b1           nat king cole      3\n",
              "\n",
              "[39859 rows x 3 columns]"
            ],
            "text/html": [
              "\n",
              "  <div id=\"df-8b865476-c2cb-40b6-b01f-2bf70baa523b\">\n",
              "    <div class=\"colab-df-container\">\n",
              "      <div>\n",
              "<style scoped>\n",
              "    .dataframe tbody tr th:only-of-type {\n",
              "        vertical-align: middle;\n",
              "    }\n",
              "\n",
              "    .dataframe tbody tr th {\n",
              "        vertical-align: top;\n",
              "    }\n",
              "\n",
              "    .dataframe thead th {\n",
              "        text-align: right;\n",
              "    }\n",
              "</style>\n",
              "<table border=\"1\" class=\"dataframe\">\n",
              "  <thead>\n",
              "    <tr style=\"text-align: right;\">\n",
              "      <th></th>\n",
              "      <th>user</th>\n",
              "      <th>artist</th>\n",
              "      <th>plays</th>\n",
              "    </tr>\n",
              "  </thead>\n",
              "  <tbody>\n",
              "    <tr>\n",
              "      <th>0</th>\n",
              "      <td>2040b3d3cb47caace19e728090a88d6b1087aa8e</td>\n",
              "      <td>pixies</td>\n",
              "      <td>757</td>\n",
              "    </tr>\n",
              "    <tr>\n",
              "      <th>1</th>\n",
              "      <td>2040b3d3cb47caace19e728090a88d6b1087aa8e</td>\n",
              "      <td>tiger army</td>\n",
              "      <td>613</td>\n",
              "    </tr>\n",
              "    <tr>\n",
              "      <th>2</th>\n",
              "      <td>2040b3d3cb47caace19e728090a88d6b1087aa8e</td>\n",
              "      <td>leevi and the leavings</td>\n",
              "      <td>444</td>\n",
              "    </tr>\n",
              "    <tr>\n",
              "      <th>3</th>\n",
              "      <td>2040b3d3cb47caace19e728090a88d6b1087aa8e</td>\n",
              "      <td>the smiths</td>\n",
              "      <td>427</td>\n",
              "    </tr>\n",
              "    <tr>\n",
              "      <th>4</th>\n",
              "      <td>2040b3d3cb47caace19e728090a88d6b1087aa8e</td>\n",
              "      <td>the adicts</td>\n",
              "      <td>372</td>\n",
              "    </tr>\n",
              "    <tr>\n",
              "      <th>...</th>\n",
              "      <td>...</td>\n",
              "      <td>...</td>\n",
              "      <td>...</td>\n",
              "    </tr>\n",
              "    <tr>\n",
              "      <th>39854</th>\n",
              "      <td>b4ef1b63fc188fc7953892f214f636f9d556f0b1</td>\n",
              "      <td>elton john</td>\n",
              "      <td>11</td>\n",
              "    </tr>\n",
              "    <tr>\n",
              "      <th>39855</th>\n",
              "      <td>b4ef1b63fc188fc7953892f214f636f9d556f0b1</td>\n",
              "      <td>eagles</td>\n",
              "      <td>4</td>\n",
              "    </tr>\n",
              "    <tr>\n",
              "      <th>39856</th>\n",
              "      <td>b4ef1b63fc188fc7953892f214f636f9d556f0b1</td>\n",
              "      <td>robbie williams</td>\n",
              "      <td>4</td>\n",
              "    </tr>\n",
              "    <tr>\n",
              "      <th>39857</th>\n",
              "      <td>b4ef1b63fc188fc7953892f214f636f9d556f0b1</td>\n",
              "      <td>bob marley</td>\n",
              "      <td>3</td>\n",
              "    </tr>\n",
              "    <tr>\n",
              "      <th>39858</th>\n",
              "      <td>b4ef1b63fc188fc7953892f214f636f9d556f0b1</td>\n",
              "      <td>nat king cole</td>\n",
              "      <td>3</td>\n",
              "    </tr>\n",
              "  </tbody>\n",
              "</table>\n",
              "<p>39859 rows × 3 columns</p>\n",
              "</div>\n",
              "      <button class=\"colab-df-convert\" onclick=\"convertToInteractive('df-8b865476-c2cb-40b6-b01f-2bf70baa523b')\"\n",
              "              title=\"Convert this dataframe to an interactive table.\"\n",
              "              style=\"display:none;\">\n",
              "        \n",
              "  <svg xmlns=\"http://www.w3.org/2000/svg\" height=\"24px\"viewBox=\"0 0 24 24\"\n",
              "       width=\"24px\">\n",
              "    <path d=\"M0 0h24v24H0V0z\" fill=\"none\"/>\n",
              "    <path d=\"M18.56 5.44l.94 2.06.94-2.06 2.06-.94-2.06-.94-.94-2.06-.94 2.06-2.06.94zm-11 1L8.5 8.5l.94-2.06 2.06-.94-2.06-.94L8.5 2.5l-.94 2.06-2.06.94zm10 10l.94 2.06.94-2.06 2.06-.94-2.06-.94-.94-2.06-.94 2.06-2.06.94z\"/><path d=\"M17.41 7.96l-1.37-1.37c-.4-.4-.92-.59-1.43-.59-.52 0-1.04.2-1.43.59L10.3 9.45l-7.72 7.72c-.78.78-.78 2.05 0 2.83L4 21.41c.39.39.9.59 1.41.59.51 0 1.02-.2 1.41-.59l7.78-7.78 2.81-2.81c.8-.78.8-2.07 0-2.86zM5.41 20L4 18.59l7.72-7.72 1.47 1.35L5.41 20z\"/>\n",
              "  </svg>\n",
              "      </button>\n",
              "      \n",
              "  <style>\n",
              "    .colab-df-container {\n",
              "      display:flex;\n",
              "      flex-wrap:wrap;\n",
              "      gap: 12px;\n",
              "    }\n",
              "\n",
              "    .colab-df-convert {\n",
              "      background-color: #E8F0FE;\n",
              "      border: none;\n",
              "      border-radius: 50%;\n",
              "      cursor: pointer;\n",
              "      display: none;\n",
              "      fill: #1967D2;\n",
              "      height: 32px;\n",
              "      padding: 0 0 0 0;\n",
              "      width: 32px;\n",
              "    }\n",
              "\n",
              "    .colab-df-convert:hover {\n",
              "      background-color: #E2EBFA;\n",
              "      box-shadow: 0px 1px 2px rgba(60, 64, 67, 0.3), 0px 1px 3px 1px rgba(60, 64, 67, 0.15);\n",
              "      fill: #174EA6;\n",
              "    }\n",
              "\n",
              "    [theme=dark] .colab-df-convert {\n",
              "      background-color: #3B4455;\n",
              "      fill: #D2E3FC;\n",
              "    }\n",
              "\n",
              "    [theme=dark] .colab-df-convert:hover {\n",
              "      background-color: #434B5C;\n",
              "      box-shadow: 0px 1px 3px 1px rgba(0, 0, 0, 0.15);\n",
              "      filter: drop-shadow(0px 1px 2px rgba(0, 0, 0, 0.3));\n",
              "      fill: #FFFFFF;\n",
              "    }\n",
              "  </style>\n",
              "\n",
              "      <script>\n",
              "        const buttonEl =\n",
              "          document.querySelector('#df-8b865476-c2cb-40b6-b01f-2bf70baa523b button.colab-df-convert');\n",
              "        buttonEl.style.display =\n",
              "          google.colab.kernel.accessAllowed ? 'block' : 'none';\n",
              "\n",
              "        async function convertToInteractive(key) {\n",
              "          const element = document.querySelector('#df-8b865476-c2cb-40b6-b01f-2bf70baa523b');\n",
              "          const dataTable =\n",
              "            await google.colab.kernel.invokeFunction('convertToInteractive',\n",
              "                                                     [key], {});\n",
              "          if (!dataTable) return;\n",
              "\n",
              "          const docLinkHtml = 'Like what you see? Visit the ' +\n",
              "            '<a target=\"_blank\" href=https://colab.research.google.com/notebooks/data_table.ipynb>data table notebook</a>'\n",
              "            + ' to learn more about interactive tables.';\n",
              "          element.innerHTML = '';\n",
              "          dataTable['output_type'] = 'display_data';\n",
              "          await google.colab.output.renderOutput(dataTable, element);\n",
              "          const docLink = document.createElement('div');\n",
              "          docLink.innerHTML = docLinkHtml;\n",
              "          element.appendChild(docLink);\n",
              "        }\n",
              "      </script>\n",
              "    </div>\n",
              "  </div>\n",
              "  "
            ]
          },
          "metadata": {},
          "execution_count": 3
        }
      ]
    },
    {
      "cell_type": "code",
      "source": [
        "train, test = train_test_split(data, test_size=0.2, random_state=0)"
      ],
      "metadata": {
        "id": "5BjGQ-TRJA5d"
      },
      "execution_count": 171,
      "outputs": []
    },
    {
      "cell_type": "code",
      "source": [
        "class ImplicitCF:\n",
        "    def __init__(self, dataframe):\n",
        "        self.df = dataframe\n",
        "        self.df['user'] = self.df['user'].astype(\"category\")\n",
        "        self.df['artist'] = self.df['artist'].astype(\"category\")\n",
        "        self.df.dropna(inplace=True)\n",
        "        \n",
        "        self.plays = coo_matrix((self.df['plays'].astype(float),\n",
        "                                  (self.df['artist'].cat.codes,\n",
        "                                  self.df['user'].cat.codes)))\n",
        "\n",
        "    def _alternating_least_squares(self, Rui, factors, regularization, iterations):\n",
        "        Cui = 40*(Rui/10**-8).log1p() #Log scaling\n",
        "\n",
        "        artists, users = Cui.shape\n",
        "\n",
        "        X = np.random.rand(artists, factors) \n",
        "        Y = np.random.rand(users, factors) \n",
        "\n",
        "        Ciu = Cui.T.tocsr()\n",
        "        for iteration in range(iterations):\n",
        "            self._least_squares(Cui, X, Y, regularization)\n",
        "            self._least_squares(Ciu, Y, X, regularization)\n",
        "\n",
        "        return X, Y\n",
        "\n",
        "    def _least_squares(self, Cui, X, Y, regularization):\n",
        "        artists, factors = X.shape\n",
        "        YtY = Y.T.dot(Y)\n",
        "\n",
        "        for u in range(artists):\n",
        "            # accumulate YtCuY + regularization * I in A\n",
        "            A = YtY + regularization * np.eye(factors)\n",
        "\n",
        "            # accumulate YtCuPu in b\n",
        "            b = np.zeros(factors)\n",
        "\n",
        "            for i in Cui[u,:].indices: #only nonzero values\n",
        "                confidence = Cui[u,i] #C_ui\n",
        "                factor = Y[i] #y_i\n",
        "                A += (confidence - 1) * np.outer(factor, factor) #Sigma(C_ui*p_ui*y_i) \n",
        "                b += confidence * factor #Sigma(C_ui*p_ui*y_i) \n",
        "\n",
        "            # Xu = (YtCuY + regularization * I)^-1 (YtCuPu)\n",
        "            X[u] = np.linalg.solve(A, b)\n",
        "    \n",
        "    def factorize(self, factors, regularization, iterations):\n",
        "        artist_factor, user_factor = self._alternating_least_squares(self.plays.tocsr(), factors, regularization, iterations)\n",
        "        return artist_factor, user_factor\n",
        "\n"
      ],
      "metadata": {
        "id": "vyt1uEsUeVQf"
      },
      "execution_count": 224,
      "outputs": []
    },
    {
      "cell_type": "code",
      "source": [
        "cf_object = ImplicitCF(train)"
      ],
      "metadata": {
        "id": "f6IwydAHuAfQ"
      },
      "execution_count": 225,
      "outputs": []
    },
    {
      "cell_type": "code",
      "source": [
        "print(cf_object.df.head())"
      ],
      "metadata": {
        "colab": {
          "base_uri": "https://localhost:8080/"
        },
        "id": "aHe8-HEMu4Ug",
        "outputId": "8c9e2a81-6e10-4671-8575-99c37875a091"
      },
      "execution_count": 226,
      "outputs": [
        {
          "output_type": "stream",
          "name": "stdout",
          "text": [
            "                                           user          artist  plays\n",
            "3716   bf07cdf8740e7d6bcf3ece323ac32b0c4418c228     the killers    186\n",
            "9918   2c5b95d6e1652793cb52065caaf268fd998b378a        mstrkrft     13\n",
            "13667  7c9c955253a1369bfdd9aaa9e162d3ef7e4e4fc2  nouvelle vague    135\n",
            "5024   eed5a1599e7ea5961864698fb9568f5194e49f58            mxpx    164\n",
            "11271  52f33c9d2f211fad64c0a629bb472012a3696542     sonic youth     41\n"
          ]
        }
      ]
    },
    {
      "cell_type": "code",
      "source": [
        "print(cf_object.df.user.nunique()) # 358868\n",
        "print(cf_object.df.artist.nunique()) # 292364\n",
        "print(cf_object.df.plays.describe())"
      ],
      "metadata": {
        "colab": {
          "base_uri": "https://localhost:8080/"
        },
        "id": "v8KZnlJ3u8la",
        "outputId": "4ed08119-ee5f-4dba-9d24-a42862dd043d"
      },
      "execution_count": 227,
      "outputs": [
        {
          "output_type": "stream",
          "name": "stdout",
          "text": [
            "1000\n",
            "1995\n",
            "count    31887.000000\n",
            "mean       131.002509\n",
            "std        346.749472\n",
            "min          1.000000\n",
            "25%         18.000000\n",
            "50%         49.000000\n",
            "75%        127.000000\n",
            "max      25071.000000\n",
            "Name: plays, dtype: float64\n"
          ]
        }
      ]
    },
    {
      "cell_type": "code",
      "source": [
        "print(cf_object.plays.shape) # (292364, 358868)"
      ],
      "metadata": {
        "colab": {
          "base_uri": "https://localhost:8080/"
        },
        "id": "CdSexsTgvAzS",
        "outputId": "1fcd39c5-ff6f-42bb-e8a9-e21b548db2c2"
      },
      "execution_count": 228,
      "outputs": [
        {
          "output_type": "stream",
          "name": "stdout",
          "text": [
            "(1999, 1000)\n"
          ]
        }
      ]
    },
    {
      "cell_type": "code",
      "source": [
        "artist_factor, user_factor = cf_object.factorize(50,0,10)\n",
        "print(artist_factor.shape) # (292364, 50)\n",
        "print(user_factor.shape) # (358868, 50)"
      ],
      "metadata": {
        "colab": {
          "base_uri": "https://localhost:8080/"
        },
        "id": "qG4P1IOBvDJG",
        "outputId": "0f5871e5-fe77-434b-c0c4-163c09fa97da"
      },
      "execution_count": 239,
      "outputs": [
        {
          "output_type": "stream",
          "name": "stdout",
          "text": [
            "(1999, 50)\n",
            "(1000, 50)\n"
          ]
        }
      ]
    },
    {
      "cell_type": "code",
      "source": [
        "cf_object.init_predict(artist_factor)"
      ],
      "metadata": {
        "colab": {
          "base_uri": "https://localhost:8080/"
        },
        "id": "xuTzgUB-FIBO",
        "outputId": "ccd5118b-b034-4b03-c7e6-b87b46b820b3"
      },
      "execution_count": 240,
      "outputs": [
        {
          "output_type": "stream",
          "name": "stderr",
          "text": [
            "<ipython-input-224-3997827bbdc5>:68: RuntimeWarning: invalid value encountered in true_divide\n",
            "  self.factors = x_factors / norms[:, np.newaxis]\n"
          ]
        }
      ]
    },
    {
      "cell_type": "code",
      "source": [
        "array = user_factor.dot(artist_factor.T)\n",
        "order = array.argsort()\n",
        "ranks = order.argsort()/1998"
      ],
      "metadata": {
        "id": "OeiswXUzYrb4"
      },
      "execution_count": 241,
      "outputs": []
    },
    {
      "cell_type": "code",
      "source": [
        "ranks"
      ],
      "metadata": {
        "colab": {
          "base_uri": "https://localhost:8080/"
        },
        "id": "zUcVgUFHYwyk",
        "outputId": "1b2ac595-6dc3-40b3-c1c6-1548afd533b7"
      },
      "execution_count": 242,
      "outputs": [
        {
          "output_type": "execute_result",
          "data": {
            "text/plain": [
              "array([[0.03603604, 0.26176176, 0.42542543, ..., 0.57957958, 0.34884885,\n",
              "        0.6966967 ],\n",
              "       [0.72272272, 0.35835836, 0.4984985 , ..., 0.51401401, 0.3993994 ,\n",
              "        0.27277277],\n",
              "       [0.33033033, 0.38788789, 0.31931932, ..., 0.36036036, 0.43343343,\n",
              "        0.76026026],\n",
              "       ...,\n",
              "       [0.19419419, 0.53853854, 0.79329329, ..., 0.6011011 , 0.3018018 ,\n",
              "        0.08258258],\n",
              "       [0.56106106, 0.32182182, 0.19319319, ..., 0.53453453, 0.45345345,\n",
              "        0.48798799],\n",
              "       [0.66066066, 0.28228228, 0.54104104, ..., 0.45745746, 0.26076076,\n",
              "        0.41841842]])"
            ]
          },
          "metadata": {},
          "execution_count": 242
        }
      ]
    },
    {
      "cell_type": "code",
      "source": [
        "ranks.shape"
      ],
      "metadata": {
        "colab": {
          "base_uri": "https://localhost:8080/"
        },
        "id": "0OJLMPQBSdnp",
        "outputId": "90b80500-d3ad-413a-c75a-ccda9d6d2cf2"
      },
      "execution_count": 243,
      "outputs": [
        {
          "output_type": "execute_result",
          "data": {
            "text/plain": [
              "(1000, 1999)"
            ]
          },
          "metadata": {},
          "execution_count": 243
        }
      ]
    },
    {
      "cell_type": "code",
      "source": [
        "cf_object_test = ImplicitCF(test)"
      ],
      "metadata": {
        "id": "HeHnA0X9UCi2"
      },
      "execution_count": 244,
      "outputs": []
    },
    {
      "cell_type": "code",
      "source": [
        "coo_matrix.todense(cf_object_test.plays.T).shape"
      ],
      "metadata": {
        "colab": {
          "base_uri": "https://localhost:8080/"
        },
        "id": "27Lw9krkdCks",
        "outputId": "a8ce60e3-74f5-407e-e205-ec5a6a081527"
      },
      "execution_count": 245,
      "outputs": [
        {
          "output_type": "execute_result",
          "data": {
            "text/plain": [
              "(1000, 1999)"
            ]
          },
          "metadata": {},
          "execution_count": 245
        }
      ]
    },
    {
      "cell_type": "code",
      "source": [
        "np.multiply(coo_matrix.todense(cf_object_test.plays.T), (1-ranks) ).sum() / coo_matrix.todense(cf_object_test.plays.T).sum()"
      ],
      "metadata": {
        "colab": {
          "base_uri": "https://localhost:8080/"
        },
        "id": "BKmuOmYzdNQY",
        "outputId": "d22511a3-fb8f-4cf8-dd56-92e0292e0fbd"
      },
      "execution_count": 247,
      "outputs": [
        {
          "output_type": "execute_result",
          "data": {
            "text/plain": [
              "0.20441932406631505"
            ]
          },
          "metadata": {},
          "execution_count": 247
        }
      ]
    },
    {
      "cell_type": "code",
      "source": [
        "cf_object_test = ImplicitCF(test)\n",
        "list_rank = []\n",
        "for regularize in [0, 200, 400, 600, 800, 1000, 1200, 1400, 1600, 1800, 2000]:\n",
        "    artist_factor, user_factor = cf_object.factorize(50,regularize,10)\n",
        "    cf_object.init_predict(artist_factor)\n",
        "\n",
        "    array = user_factor.dot(artist_factor.T)\n",
        "    order = array.argsort()\n",
        "    ranks = order.argsort()/1998\n",
        "    \n",
        "    mean_rank = np.multiply(coo_matrix.todense(cf_object_test.plays.T), (1-ranks) ).sum() / coo_matrix.todense(cf_object_test.plays.T).sum()\n",
        "    list_rank.append(mean_rank)"
      ],
      "metadata": {
        "colab": {
          "base_uri": "https://localhost:8080/"
        },
        "id": "BIjuYRgMdbLo",
        "outputId": "9ac2906b-c0a9-42bc-a235-83114cf77a4e"
      },
      "execution_count": 254,
      "outputs": [
        {
          "output_type": "stream",
          "name": "stderr",
          "text": [
            "<ipython-input-224-3997827bbdc5>:68: RuntimeWarning: invalid value encountered in true_divide\n",
            "  self.factors = x_factors / norms[:, np.newaxis]\n"
          ]
        }
      ]
    },
    {
      "cell_type": "code",
      "source": [
        "list_rank"
      ],
      "metadata": {
        "colab": {
          "base_uri": "https://localhost:8080/"
        },
        "id": "hE007jRyhrkh",
        "outputId": "78880931-ea77-4f87-adae-80298a34cf64"
      },
      "execution_count": 255,
      "outputs": [
        {
          "output_type": "execute_result",
          "data": {
            "text/plain": [
              "[0.21444556633400416,\n",
              " 0.13494310739919946,\n",
              " 0.1213741545278327,\n",
              " 0.12279158276871815,\n",
              " 0.12521311929204923,\n",
              " 0.1309728217172646,\n",
              " 0.14069902681230856,\n",
              " 0.15369245246921567,\n",
              " 0.17177001968117328,\n",
              " 0.19749825655355208,\n",
              " 0.23328549955226424]"
            ]
          },
          "metadata": {},
          "execution_count": 255
        }
      ]
    },
    {
      "cell_type": "code",
      "source": [
        "plt.plot([0, 100, 200, 300, 400, 500, 600, 700, 800, 900, ],list_rank, 'bs')\n",
        "plt.xticks([0, 100, 200, 300, 400, 500, 600, 700, 800, 900])\n",
        "plt.show()"
      ],
      "metadata": {
        "colab": {
          "base_uri": "https://localhost:8080/",
          "height": 265
        },
        "id": "-Bi8jbzJhcLl",
        "outputId": "a0815bbd-3f1f-457c-9ed7-01007f1e8fd9"
      },
      "execution_count": 261,
      "outputs": [
        {
          "output_type": "display_data",
          "data": {
            "text/plain": [
              "<Figure size 432x288 with 1 Axes>"
            ],
            "image/png": "[encoded data removed]"
          },
          "metadata": {
            "needs_background": "light"
          }
        }
      ]
    },
    {
      "cell_type": "code",
      "source": [
        "regularize = 400\n",
        "list_factors = []\n",
        "\n",
        "for factors in [0, 20, 40, 60, 80, 100 ,120, 140, 160, 180, 200]:\n",
        "    artist_factor, user_factor = cf_object.factorize(factors,regularize,10)\n",
        "    cf_object.init_predict(artist_factor)\n",
        "\n",
        "    array = user_factor.dot(artist_factor.T)\n",
        "    order = array.argsort()\n",
        "    ranks = order.argsort()/1998 # max(ranks) = 1998, min(ranks) = 0\n",
        "    \n",
        "    mean_rank = np.multiply(coo_matrix.todense(cf_object_test.plays.T), (1-ranks) ).sum() #Expected rank\n",
        "    / coo_matrix.todense(cf_object_test.plays.T).sum()\n",
        "\n",
        "    list_factors.append(mean_rank)    "
      ],
      "metadata": {
        "colab": {
          "base_uri": "https://localhost:8080/"
        },
        "id": "uEHlf6lueuf0",
        "outputId": "5cfa0e26-d1d3-482a-daeb-c2f1fbb6e227"
      },
      "execution_count": 257,
      "outputs": [
        {
          "output_type": "stream",
          "name": "stderr",
          "text": [
            "<ipython-input-224-3997827bbdc5>:68: RuntimeWarning: invalid value encountered in true_divide\n",
            "  self.factors = x_factors / norms[:, np.newaxis]\n"
          ]
        }
      ]
    },
    {
      "cell_type": "code",
      "source": [
        "list_factors"
      ],
      "metadata": {
        "colab": {
          "base_uri": "https://localhost:8080/"
        },
        "id": "_QsNzFdd4w6V",
        "outputId": "de7f4006-5d85-4f7b-c3a6-7e9b3285eaf0"
      },
      "execution_count": 258,
      "outputs": [
        {
          "output_type": "execute_result",
          "data": {
            "text/plain": [
              "[0.5447856758659498,\n",
              " 0.1324458846252286,\n",
              " 0.12353287598920332,\n",
              " 0.12023040113070971,\n",
              " 0.118445671318111,\n",
              " 0.11756784075511968,\n",
              " 0.11715561119140046,\n",
              " 0.11811531852231255,\n",
              " 0.11682749561861294,\n",
              " 0.11798684529161617,\n",
              " 0.11721519424548199]"
            ]
          },
          "metadata": {},
          "execution_count": 258
        }
      ]
    },
    {
      "cell_type": "code",
      "source": [
        "plt.plot([0, 20, 40, 60, 80, 100 ,120, 140, 160, 180, 200],list_factors, 'bs')\n",
        "plt.xticks([0, 20, 40, 60, 80, 100 ,120, 140, 160, 180, 200])\n",
        "plt.show()"
      ],
      "metadata": {
        "colab": {
          "base_uri": "https://localhost:8080/",
          "height": 265
        },
        "id": "zI1C8Bzu5svt",
        "outputId": "e7ba93d7-e9b5-483c-defc-bc9e7fc3c19b"
      },
      "execution_count": 262,
      "outputs": [
        {
          "output_type": "display_data",
          "data": {
            "text/plain": [
              "<Figure size 432x288 with 1 Axes>"
            ],
            "image/png": "[encoded data removed]"
          },
          "metadata": {
            "needs_background": "light"
          }
        }
      ]
    },
    {
      "cell_type": "code",
      "source": [
        "regularize = 400\n",
        "factors = 100\n",
        "list_iteration = []\n",
        "\n",
        "for iteration in [0, 50, 100, 150, 200, 250, 300]:\n",
        "    artist_factor, user_factor = cf_object.factorize(factors,regularize, iteration)\n",
        "    cf_object.init_predict(artist_factor)\n",
        "\n",
        "    array = user_factor.dot(artist_factor.T)\n",
        "    order = array.argsort()\n",
        "    ranks = order.argsort()/1998\n",
        "    \n",
        "    mean_rank = np.multiply(coo_matrix.todense(cf_object_test.plays.T), (1-ranks) ).sum() / coo_matrix.todense(cf_object_test.plays.T).sum()\n",
        "    list_iteration.append(mean_rank)    "
      ],
      "metadata": {
        "colab": {
          "base_uri": "https://localhost:8080/"
        },
        "id": "4Q-5qKXKgKif",
        "outputId": "1ced7fea-10c0-4004-b61b-ba421d5d935f"
      },
      "execution_count": 269,
      "outputs": [
        {
          "output_type": "stream",
          "name": "stderr",
          "text": [
            "<ipython-input-224-3997827bbdc5>:68: RuntimeWarning: invalid value encountered in true_divide\n",
            "  self.factors = x_factors / norms[:, np.newaxis]\n"
          ]
        }
      ]
    },
    {
      "cell_type": "code",
      "source": [
        "list_iteration"
      ],
      "metadata": {
        "colab": {
          "base_uri": "https://localhost:8080/"
        },
        "id": "Ck6JE0Q69Tc_",
        "outputId": "230552a4-78b4-49b2-9816-3eb0097be183"
      },
      "execution_count": 270,
      "outputs": [
        {
          "output_type": "execute_result",
          "data": {
            "text/plain": [
              "[0.48862623988884235,\n",
              " 0.11633653190073949,\n",
              " 0.116276738324905,\n",
              " 0.11626600907640447,\n",
              " 0.1162698318373731,\n",
              " 0.11627684039605794,\n",
              " 0.1162798421712627]"
            ]
          },
          "metadata": {},
          "execution_count": 270
        }
      ]
    },
    {
      "cell_type": "code",
      "source": [
        "plt.plot([0, 10, 20, 30, 40, 50, 60, 70, 80, 90 ,100],list_iteration, 'bs')\n",
        "plt.xticks([0, 10, 20, 30, 40, 50, 60, 70, 80, 90 ,100])\n",
        "plt.show()"
      ],
      "metadata": {
        "colab": {
          "base_uri": "https://localhost:8080/",
          "height": 265
        },
        "id": "fkqE7av8PGES",
        "outputId": "073de54f-6cc3-4e01-9890-79dce3d17561"
      },
      "execution_count": 268,
      "outputs": [
        {
          "output_type": "display_data",
          "data": {
            "text/plain": [
              "<Figure size 432x288 with 1 Axes>"
            ],
            "image/png": "[encoded data removed]"
          },
          "metadata": {
            "needs_background": "light"
          }
        }
      ]
    }
  ]
}